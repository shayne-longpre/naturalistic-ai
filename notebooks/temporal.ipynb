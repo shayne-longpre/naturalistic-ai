{
 "cells": [
  {
   "cell_type": "code",
   "execution_count": 5,
   "id": "421a125f-689f-428c-ab1f-265193ed7a75",
   "metadata": {},
   "outputs": [
    {
     "name": "stderr",
     "output_type": "stream",
     "text": [
      "/Users/shayne/Documents/research/naturalistic-data/naturalistic-ai/venv/lib/python3.8/site-packages/urllib3/__init__.py:35: NotOpenSSLWarning: urllib3 v2 only supports OpenSSL 1.1.1+, currently the 'ssl' module is compiled with 'LibreSSL 2.8.3'. See: https://github.com/urllib3/urllib3/issues/3020\n",
      "  warnings.warn(\n"
     ]
    },
    {
     "name": "stdout",
     "output_type": "stream",
     "text": [
      "The autoreload extension is already loaded. To reload it, use:\n",
      "  %reload_ext autoreload\n"
     ]
    }
   ],
   "source": [
    "import sys\n",
    "import os\n",
    "import json\n",
    "import pandas as pd\n",
    "import numpy as np\n",
    "import random\n",
    "import copy\n",
    "from datetime import datetime\n",
    "from collections import Counter, defaultdict\n",
    "\n",
    "import matplotlib.pyplot as plt\n",
    "import seaborn as sns\n",
    "\n",
    "sys.path.append(\"../\")\n",
    "\n",
    "from src.helpers import io\n",
    "from src.classes.dataset import Dataset\n",
    "from src.classes.annotation_set import AnnotationSet\n",
    "from src.helpers.visualisation import barplot_distribution, plot_confusion_matrix, tabulate_annotation_pair_summary, analyze_pair_annotations\n",
    "\n",
    "%load_ext autoreload\n",
    "%autoreload 2"
   ]
  },
  {
   "cell_type": "markdown",
   "id": "94a7a3a8-81a9-45a3-a9fd-8737e7e72ef0",
   "metadata": {},
   "source": [
    "## Research Questions:\n",
    "\n",
    "Characteristics:\n",
    "* Topic\n",
    "* Interaction Features\n",
    "* Function/Purpose\n",
    "* Media Format\n",
    "* Answer forms\n",
    "* Sensitive Uses\n",
    "* Languages\n",
    "* Conversation length/stats\n",
    "\n",
    "1. How does each each conversation characteristic change over time?\n",
    "\n",
    "Plot types:\n",
    "* Stacked Area Chart\n",
    "* ...\n"
   ]
  },
  {
   "cell_type": "markdown",
   "id": "42de61b1-6e2c-412a-986b-b630407840bc",
   "metadata": {},
   "source": [
    "## Load Dataset + Annotations"
   ]
  },
  {
   "cell_type": "code",
   "execution_count": null,
   "id": "d146e8f7-4a61-4219-b579-94e192f18a3b",
   "metadata": {},
   "outputs": [],
   "source": [
    "# FILL IN:\n",
    "PATH_TO_DATASET = \"\"\n",
    "DATASET_ID = \"\"\n",
    "PATH_TO_ANNOTATIONS_DIR = \"\""
   ]
  },
  {
   "cell_type": "code",
   "execution_count": null,
   "id": "ce34bb90-b051-45ee-897a-cd400b5febcc",
   "metadata": {},
   "outputs": [],
   "source": [
    "# Load dataset (w/o annotations)\n",
    "dataset = Dataset.load(PATH_TO_DATASET)\n",
    "\n",
    "# Load annotations into dataset\n",
    "for fpath in io.listdir_nohidden(PATH_TO_ANNOTATIONS_DIR):\n",
    "    annotation_set = AnnotationSet.load_automatic(path=fpath, source=\"automatic_v0\")\n",
    "    dataset.add_annotations(annotation_set)\n"
   ]
  },
  {
   "cell_type": "markdown",
   "id": "02436c3d-8731-4d7f-9440-11e62890ece4",
   "metadata": {},
   "source": [
    "## Research Question 1: Time analysis for XXX?"
   ]
  },
  {
   "cell_type": "code",
   "execution_count": 6,
   "id": "1973a6ef-44c2-4330-a66a-5875253f1676",
   "metadata": {},
   "outputs": [],
   "source": [
    "# Sample code to bucket the message timestamps by month:\n",
    "for conv in dataset.data:\n",
    "    conv_id = conv.conversation_id\n",
    "    for message in conv.conversation:\n",
    "        if message.timestamp:\n",
    "            # Convert timestamp to datetime object\n",
    "            dt = datetime.fromisoformat(message.timestamp)\n",
    "            bucket = dt.strftime('%Y-%m')\n",
    "            annotation = AnnotationRecord(\n",
    "                value=bucket,\n",
    "                target_id=f\"{conv_id}-{message.turn}\",\n",
    "                annotator=\"time_month\"\n",
    "            )\n",
    "            annotations.append(annotation)\n",
    "\n",
    "time_bucket_annotation_set = AnnotationSet(\n",
    "    source=\"automatic\",\n",
    "    name=\"time_month\",\n",
    "    level=\"message\",\n",
    "    dataset_id=dataset.dataset_id,\n",
    "    annotations=annotations\n",
    ")\n",
    "\n",
    "dataset.add_annotations(time_bucket_annotation_set)"
   ]
  },
  {
   "cell_type": "code",
   "execution_count": null,
   "id": "e735cd3c-3bd2-4909-85b4-2e1b82c31115",
   "metadata": {},
   "outputs": [],
   "source": [
    "# This *might* work, but if not, we should fix up `get_joint_distribution` to work?\n",
    "matrix, annotation_pairs = dataset.get_joint_distribution(\n",
    "    \"topic\",\n",
    "    \"time_month\",\n",
    "    level=\"message\",\n",
    ")"
   ]
  },
  {
   "cell_type": "code",
   "execution_count": null,
   "id": "762737b9-2ec7-4169-a359-42dd1a007f67",
   "metadata": {},
   "outputs": [],
   "source": []
  }
 ],
 "metadata": {
  "kernelspec": {
   "display_name": "Python 3 (ipykernel)",
   "language": "python",
   "name": "python3"
  },
  "language_info": {
   "codemirror_mode": {
    "name": "ipython",
    "version": 3
   },
   "file_extension": ".py",
   "mimetype": "text/x-python",
   "name": "python",
   "nbconvert_exporter": "python",
   "pygments_lexer": "ipython3",
   "version": "3.8.9"
  }
 },
 "nbformat": 4,
 "nbformat_minor": 5
}
