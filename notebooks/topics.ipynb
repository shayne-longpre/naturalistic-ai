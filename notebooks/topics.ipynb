{
 "cells": [
  {
   "cell_type": "code",
   "execution_count": 1,
   "id": "fb27a9e3-b894-4c02-bbb0-71a476b4360f",
   "metadata": {},
   "outputs": [
    {
     "name": "stderr",
     "output_type": "stream",
     "text": [
      "/Users/shayne/Documents/research/naturalistic-data/naturalistic-ai/venv/lib/python3.8/site-packages/urllib3/__init__.py:35: NotOpenSSLWarning: urllib3 v2 only supports OpenSSL 1.1.1+, currently the 'ssl' module is compiled with 'LibreSSL 2.8.3'. See: https://github.com/urllib3/urllib3/issues/3020\n",
      "  warnings.warn(\n"
     ]
    }
   ],
   "source": [
    "import sys\n",
    "import os\n",
    "import json\n",
    "import pandas as pd\n",
    "import numpy as np\n",
    "import random\n",
    "import copy\n",
    "from datetime import datetime\n",
    "from collections import Counter, defaultdict\n",
    "\n",
    "import matplotlib.pyplot as plt\n",
    "import seaborn as sns\n",
    "\n",
    "sys.path.append(\"../\")\n",
    "\n",
    "from src.helpers import io\n",
    "from src.classes.dataset import Dataset\n",
    "from src.classes.annotation_set import AnnotationSet\n",
    "from src.helpers.visualisation import barplot_distribution, plot_confusion_matrix, tabulate_annotation_pair_summary, analyze_pair_annotations\n",
    "\n",
    "%load_ext autoreload\n",
    "%autoreload 2"
   ]
  },
  {
   "cell_type": "markdown",
   "id": "b3f84ac9-968b-4890-b5ba-2aeeb50bef7c",
   "metadata": {},
   "source": [
    "## Research Questions:\n",
    "\n",
    "1. What is the distribution of Topics?\n",
    "2. How do Topics characteristics interact with other characteristics of the text?\n",
    "3. ...?\n"
   ]
  },
  {
   "cell_type": "markdown",
   "id": "9fd67d81-b950-42bb-b87a-a5a6c287b840",
   "metadata": {},
   "source": [
    "## Load Dataset + Annotations"
   ]
  },
  {
   "cell_type": "code",
   "execution_count": 2,
   "id": "32ae99ec-ac45-4254-9539-f55034aeabb3",
   "metadata": {},
   "outputs": [],
   "source": [
    "# FILL IN:\n",
    "PATH_TO_DATASET = \"\"\n",
    "DATASET_ID = \"\"\n",
    "PATH_TO_ANNOTATIONS_DIR = \"\""
   ]
  },
  {
   "cell_type": "code",
   "execution_count": null,
   "id": "47e4bc6a-7fa5-4a89-829b-a3f632ca29bb",
   "metadata": {},
   "outputs": [],
   "source": [
    "# Load dataset (w/o annotations)\n",
    "dataset = Dataset.load(PATH_TO_DATASET)\n",
    "\n",
    "# Load annotations into dataset\n",
    "for fpath in io.listdir_nohidden(PATH_TO_ANNOTATIONS_DIR):\n",
    "    annotation_set = AnnotationSet.load_automatic(path=fpath, source=\"automatic_v0\")\n",
    "    dataset.add_annotations(annotation_set)\n"
   ]
  },
  {
   "cell_type": "markdown",
   "id": "773f1eef-94b1-440d-9ec3-b634ef57a44a",
   "metadata": {},
   "source": [
    "## Research Question 1: What is the distribution of Topics?"
   ]
  },
  {
   "cell_type": "code",
   "execution_count": null,
   "id": "12f33d5b-da13-4899-a1e3-7f7e2fa2ccab",
   "metadata": {},
   "outputs": [],
   "source": [
    "annotation_pairs1 = dataset.get_annotation_distribution(\n",
    "    \"topic\",\n",
    "    level=\"message\",\n",
    "    annotation_source=\"automatic_v0\",\n",
    "    annotation_as_list_type=True,\n",
    ")\n",
    "annotation_pairs2 = dataset.get_annotation_distribution(\n",
    "    \"topic\",\n",
    "    level=\"message\",\n",
    "    annotation_source=\"automatic_v0\",\n",
    "    annotation_as_list_type=False,\n",
    ")\n",
    "\n",
    "outdir = f\"data/annotation_analysis_v0/topic\"\n",
    "os.makedirs(outdir, exist_ok=True)\n",
    "fig = barplot_distribution(\n",
    "    {\"Topics\": annotation_pairs1}, normalize=True, \n",
    "    xlabel=\"Topics\", ylabel=\"Proportion\", title=\"\",\n",
    "    output_path=f\"{outdir}/barchart.png\", order=\"descending\")\n",
    "\n",
    "multibar_fig = barplot_distribution(\n",
    "    {\"Topics\": annotation_pairs2}, normalize=True, \n",
    "    xlabel=\"Topics\", ylabel=\"Proportion\", title=\"\",\n",
    "    output_path=f\"{outdir}/multilabel_barchart.png\", order=\"descending\")"
   ]
  }
 ],
 "metadata": {
  "kernelspec": {
   "display_name": "Python 3 (ipykernel)",
   "language": "python",
   "name": "python3"
  },
  "language_info": {
   "codemirror_mode": {
    "name": "ipython",
    "version": 3
   },
   "file_extension": ".py",
   "mimetype": "text/x-python",
   "name": "python",
   "nbconvert_exporter": "python",
   "pygments_lexer": "ipython3",
   "version": "3.8.9"
  }
 },
 "nbformat": 4,
 "nbformat_minor": 5
}
