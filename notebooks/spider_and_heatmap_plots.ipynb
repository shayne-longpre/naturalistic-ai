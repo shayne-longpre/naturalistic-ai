{
 "cells": [
  {
   "cell_type": "markdown",
   "id": "f98ee524",
   "metadata": {},
   "source": [
    "### Import & Load Data"
   ]
  },
  {
   "cell_type": "code",
   "execution_count": 110,
   "id": "0c98a57d",
   "metadata": {},
   "outputs": [
    {
     "name": "stdout",
     "output_type": "stream",
     "text": [
      "The autoreload extension is already loaded. To reload it, use:\n",
      "  %reload_ext autoreload\n",
      "The autoreload extension is already loaded. To reload it, use:\n",
      "  %reload_ext autoreload\n"
     ]
    }
   ],
   "source": [
    "import sys\n",
    "import os\n",
    "import json\n",
    "import pandas as pd\n",
    "import numpy as np\n",
    "import ast\n",
    "import itertools\n",
    "import random\n",
    "import copy\n",
    "from datetime import datetime\n",
    "from collections import Counter, defaultdict\n",
    "\n",
    "import matplotlib.pyplot as plt\n",
    "import seaborn as sns\n",
    "\n",
    "sys.path.append(\"../\")\n",
    "\n",
    "from src.helpers import io\n",
    "from src.classes.dataset import Dataset\n",
    "from src.classes.annotation_set import AnnotationSet\n",
    "from collections import defaultdict\n",
    "%load_ext autoreload\n",
    "%autoreload 2\n",
    "\n",
    "import sys\n",
    "import os\n",
    "import json\n",
    "import pandas as pd\n",
    "import numpy as np\n",
    "import ast\n",
    "import itertools\n",
    "import random\n",
    "import copy\n",
    "from datetime import datetime\n",
    "from collections import Counter, defaultdict\n",
    "\n",
    "import matplotlib.pyplot as plt\n",
    "import seaborn as sns\n",
    "\n",
    "sys.path.append(\"../\")\n",
    "\n",
    "from src.helpers import io\n",
    "from src.classes.dataset import Dataset\n",
    "from src.classes.annotation_set import AnnotationSet\n",
    "\n",
    "%load_ext autoreload\n",
    "%autoreload 2"
   ]
  },
  {
   "cell_type": "code",
   "execution_count": 115,
   "id": "6427b846",
   "metadata": {},
   "outputs": [],
   "source": [
    "def get_wildchat_dataset():\n",
    "    PATH_TO_DATASET = \"../data/automatic_annotations_v0/wildchat4k-raw.json\"\n",
    "    DATASET_ID = \"wildchat_1m\"\n",
    "    PATH_TO_ANNOTATIONS_DIR = \"../data/automatic_annotations_v0/gpto3mini-json-wildchat\"\n",
    "    # Load dataset (w/o annotations)\n",
    "    dataset = Dataset.load(PATH_TO_DATASET)\n",
    "   \n",
    "    # Load annotations into dataset\n",
    "    for fpath in io.listdir_nohidden(PATH_TO_ANNOTATIONS_DIR):\n",
    "        annotation_set = AnnotationSet.load_automatic(path=fpath, source=\"automatic_v0\")\n",
    "        dataset.add_annotations(annotation_set)\n",
    "    \n",
    "    dataset.data = dataset.random_sample(1000)  # Randomly sample 1000 examples\n",
    "    return dataset\n",
    "\n",
    "def get_hle_dataset():\n",
    "    PATH_TO_DATASET = \"../data/automatic_annotations_v0/hle-raw.json\"\n",
    "    DATASET_ID = \"hle\"\n",
    "    PATH_TO_ANNOTATIONS_DIR = \"../data/automatic_annotations_v0/hle\"\n",
    "    # Load dataset (w/o annotations)\n",
    "    dataset = Dataset.load(PATH_TO_DATASET)\n",
    "    dataset.dataset_id = DATASET_ID\n",
    "    print(dataset.dataset_id)\n",
    "\n",
    "    # Load annotations into dataset\n",
    "    for fpath in io.listdir_nohidden(PATH_TO_ANNOTATIONS_DIR):\n",
    "        print(f\"Loading \", fpath)\n",
    "        annotation_set = AnnotationSet.load_automatic(path=fpath, source=\"automatic_v0\")\n",
    "        print(fpath, annotation_set.dataset_id)\n",
    "        dataset.add_annotations(annotation_set)\n",
    "    return dataset\n",
    "\n",
    "def get_mmlu_dataset():\n",
    "    print(\"Loading MMLU dataset...\")\n",
    "    PATH_TO_DATASET = \"../data/automatic_annotations_v0/mmlu-raw.json\"\n",
    "    DATASET_ID = \"mmlu\"\n",
    "    PATH_TO_ANNOTATIONS_DIR = \"../data/automatic_annotations_v0/mmlu\"\n",
    "    # Load dataset (w/o annotations)\n",
    "    dataset = Dataset.load(PATH_TO_DATASET)\n",
    "    dataset.dataset_id = DATASET_ID\n",
    "    print(dataset.dataset_id)\n",
    "\n",
    "    # Load annotations into dataset\n",
    "    for fpath in io.listdir_nohidden(PATH_TO_ANNOTATIONS_DIR):\n",
    "  \n",
    "        annotation_set = AnnotationSet.load_automatic(path=fpath, source=\"automatic_v0\")\n",
    "        print(fpath, annotation_set.dataset_id)\n",
    "        dataset.add_annotations(annotation_set)\n",
    "    return dataset\n",
    "\n",
    "# Helper to split annotation keys if they are lists in string form\n",
    "def split_annotation_key(key):\n",
    "    try:\n",
    "        # Try to parse as a Python list\n",
    "        items = ast.literal_eval(key)\n",
    "        if isinstance(items, list):\n",
    "            a =[str(item).strip() for item in items if str(item).strip()]\n",
    "            return a\n",
    "        else:\n",
    "            return [key]\n",
    "    except Exception:\n",
    "        return [key]\n",
    "\n",
    "def aggregate_counts_by_category(annotation_pairs):\n",
    "    category_counts = {}\n",
    "    for key, count in annotation_pairs.items():\n",
    "        categories = split_annotation_key(key)\n",
    "        for cat in categories:\n",
    "            if cat == '' or cat.lower() == 'none':\n",
    "                continue\n",
    "            category_counts[cat] = category_counts.get(cat, 0) + count\n",
    "    return category_counts\n",
    "\n",
    "def group_into_larger_categories(agg_wc, parent_dict=None):\n",
    "    grouped_counts = defaultdict(int)\n",
    "    for parent, children in parent_dict.items():\n",
    "        for child in children:\n",
    "            if child in agg_wc:\n",
    "                grouped_counts[parent] += agg_wc[child]\n",
    "    # HACK \n",
    "    grouped_counts[\"Other\"] = grouped_counts.pop(\"AOther\", 0) + grouped_counts.pop(\"Other\", 0)\n",
    "    return grouped_counts\n"
   ]
  },
  {
   "cell_type": "markdown",
   "id": "3ab385f3",
   "metadata": {},
   "source": [
    "### Spider Plot Code"
   ]
  },
  {
   "cell_type": "code",
   "execution_count": 116,
   "id": "f5b27d8f",
   "metadata": {},
   "outputs": [],
   "source": [
    "import plotly.graph_objects as go\n",
    "\n",
    "def make_spider_plot(data_to_compare, parent_dict = None, annotation_type = \"\"):\n",
    "\n",
    "    categories =list(next(iter(data_to_compare.values())).keys())\n",
    "    \n",
    "    if parent_dict is not None:\n",
    "        grouped_data_to_compare = {\n",
    "            name: group_into_larger_categories(agg_wc, parent_dict=parent_dict)\n",
    "            for name, agg_wc in data_to_compare.items()\n",
    "        }\n",
    "        # Use the keys from the first dataset in grouped_data_to_compare for categories\n",
    "        categories = list(next(iter(grouped_data_to_compare.values())).keys())\n",
    "        data_to_compare = grouped_data_to_compare\n",
    "\n",
    "\n",
    "    # Remove categories where all datasets have 0 occurrences\n",
    "    categories_to_keep = [\n",
    "        cat for cat in categories\n",
    "        if any(data_to_compare[ds].get(cat, 0) > 0 for ds in data_to_compare)\n",
    "    ]\n",
    "    categories = categories_to_keep\n",
    "\n",
    "    # Prepare values for each dataset\n",
    "    values_to_plot = {}\n",
    "\n",
    "    for dataset_name, agg_wc in data_to_compare.items():\n",
    "        print(f\"Processing dataset: {dataset_name}\")\n",
    "        values = [agg_wc.get(cat, 0) for cat in categories]\n",
    "        if len(values) >= 1:\n",
    "            values += [values[0]]  # Close the loop for the radar plot\n",
    "        values_to_plot[dataset_name] = values\n",
    "\n",
    "    # Make scatterpolar \n",
    "    fig = go.Figure(\n",
    "        data=[ \n",
    "            go.Scatterpolar(\n",
    "                r=v,\n",
    "                theta=categories,\n",
    "                fill='toself',\n",
    "                name=k\n",
    "            ) for k, v in values_to_plot.items()\n",
    "        ]\n",
    "    )\n",
    "    fig.update_layout(\n",
    "        polar=dict(\n",
    "            radialaxis=dict(visible=True)\n",
    "        ),\n",
    "        title=f\"{annotation_type.capitalize()} Comparison\",\n",
    "        showlegend=True,\n",
    "        width=1500,\n",
    "        height=800\n",
    "    )\n",
    "    fig.show()\n",
    "\n",
    "    return fig\n"
   ]
  },
  {
   "cell_type": "markdown",
   "id": "abe00fd0",
   "metadata": {},
   "source": [
    "### Spider Plot for Topics"
   ]
  },
  {
   "cell_type": "code",
   "execution_count": 117,
   "id": "1eb5a7d2",
   "metadata": {},
   "outputs": [
    {
     "name": "stdout",
     "output_type": "stream",
     "text": [
      "prompt-multi_turn_relationship: 0 / 10127 failed due to invalid annotations.\n",
      "prompt-interaction_features: 0 / 10127 failed due to invalid annotations.\n",
      "turn-sensitive_use_flags: 0 / 10127 failed due to invalid annotations.\n",
      "turn-topic: 1 / 10127 failed due to invalid annotations.\n",
      "response-interaction_features: 0 / 10127 failed due to invalid annotations.\n",
      "prompt-function_purpose: 6 / 10127 failed due to invalid annotations.\n",
      "prompt-media_format: 0 / 10127 failed due to invalid annotations.\n",
      "response-media_format: 0 / 10127 failed due to invalid annotations.\n",
      "response-answer_form: 0 / 10127 failed due to invalid annotations.\n",
      "hle\n",
      "Loading  ../data/automatic_annotations_v0/hle/prompt_interaction_features.jsonl\n",
      "prompt-interaction_features: 1 / 1000 failed due to invalid annotations.\n",
      "../data/automatic_annotations_v0/hle/prompt_interaction_features.jsonl hle\n",
      "Loading  ../data/automatic_annotations_v0/hle/turn_sensitive_use_flags.jsonl\n",
      "turn-sensitive_use_flags: 0 / 1000 failed due to invalid annotations.\n",
      "../data/automatic_annotations_v0/hle/turn_sensitive_use_flags.jsonl hle\n",
      "Loading  ../data/automatic_annotations_v0/hle/turn_topic.jsonl\n",
      "turn-topic: 25 / 1000 failed due to invalid annotations.\n",
      "../data/automatic_annotations_v0/hle/turn_topic.jsonl hle\n",
      "Loading  ../data/automatic_annotations_v0/hle/prompt_function_purpose.jsonl\n",
      "prompt-function_purpose: 19 / 1000 failed due to invalid annotations.\n",
      "../data/automatic_annotations_v0/hle/prompt_function_purpose.jsonl hle\n",
      "Loading  ../data/automatic_annotations_v0/hle/prompt_media_format.jsonl\n",
      "prompt-media_format: 33 / 1000 failed due to invalid annotations.\n",
      "../data/automatic_annotations_v0/hle/prompt_media_format.jsonl hle\n",
      "Loading MMLU dataset...\n",
      "mmlu\n",
      "prompt-interaction_features: 1 / 1000 failed due to invalid annotations.\n",
      "../data/automatic_annotations_v0/mmlu/prompt_interaction_features.jsonl mmlu\n",
      "turn-sensitive_use_flags: 0 / 1000 failed due to invalid annotations.\n",
      "../data/automatic_annotations_v0/mmlu/turn_sensitive_use_flags.jsonl mmlu\n",
      "turn-topic: 38 / 1000 failed due to invalid annotations.\n",
      "../data/automatic_annotations_v0/mmlu/turn_topic.jsonl mmlu\n",
      "prompt-function_purpose: 40 / 1000 failed due to invalid annotations.\n",
      "../data/automatic_annotations_v0/mmlu/prompt_function_purpose.jsonl mmlu\n",
      "prompt-media_format: 12 / 1000 failed due to invalid annotations.\n",
      "../data/automatic_annotations_v0/mmlu/prompt_media_format.jsonl mmlu\n",
      "Processing dataset: WildChat\n",
      "Processing dataset: Humanity's Last Exam\n",
      "Processing dataset: MMLU\n",
      "Processing dataset: WildChat\n",
      "Processing dataset: Humanity's Last Exam\n",
      "Processing dataset: MMLU\n"
     ]
    },
    {
     "data": {
      "application/vnd.plotly.v1+json": {
       "config": {
        "plotlyServerURL": "https://plot.ly"
       },
       "data": [
        {
         "fill": "toself",
         "name": "WildChat",
         "r": [
          712,
          168,
          797,
          231,
          357,
          104,
          197,
          183,
          6,
          712
         ],
         "theta": [
          "Math, Science, Engineering, and Technology",
          "Business, Finance, and Economics",
          "Arts, Culture & Entertainment",
          "Society & Lifestyle",
          "Social Sciences & Humanities",
          "News, Politics, and Current Events",
          "High-Stakes Decision Making:",
          "Adult & Sensitive Content",
          "Other"
         ],
         "type": "scatterpolar"
        },
        {
         "fill": "toself",
         "name": "Humanity's Last Exam",
         "r": [
          896,
          23,
          133,
          21,
          123,
          7,
          72,
          0,
          1,
          896
         ],
         "theta": [
          "Math, Science, Engineering, and Technology",
          "Business, Finance, and Economics",
          "Arts, Culture & Entertainment",
          "Society & Lifestyle",
          "Social Sciences & Humanities",
          "News, Politics, and Current Events",
          "High-Stakes Decision Making:",
          "Adult & Sensitive Content",
          "Other"
         ],
         "type": "scatterpolar"
        },
        {
         "fill": "toself",
         "name": "MMLU",
         "r": [
          331,
          185,
          72,
          116,
          454,
          162,
          355,
          21,
          0,
          331
         ],
         "theta": [
          "Math, Science, Engineering, and Technology",
          "Business, Finance, and Economics",
          "Arts, Culture & Entertainment",
          "Society & Lifestyle",
          "Social Sciences & Humanities",
          "News, Politics, and Current Events",
          "High-Stakes Decision Making:",
          "Adult & Sensitive Content",
          "Other"
         ],
         "type": "scatterpolar"
        }
       ],
       "layout": {
        "height": 800,
        "polar": {
         "radialaxis": {
          "visible": true
         }
        },
        "showlegend": true,
        "template": {
         "data": {
          "bar": [
           {
            "error_x": {
             "color": "#2a3f5f"
            },
            "error_y": {
             "color": "#2a3f5f"
            },
            "marker": {
             "line": {
              "color": "#E5ECF6",
              "width": 0.5
             },
             "pattern": {
              "fillmode": "overlay",
              "size": 10,
              "solidity": 0.2
             }
            },
            "type": "bar"
           }
          ],
          "barpolar": [
           {
            "marker": {
             "line": {
              "color": "#E5ECF6",
              "width": 0.5
             },
             "pattern": {
              "fillmode": "overlay",
              "size": 10,
              "solidity": 0.2
             }
            },
            "type": "barpolar"
           }
          ],
          "carpet": [
           {
            "aaxis": {
             "endlinecolor": "#2a3f5f",
             "gridcolor": "white",
             "linecolor": "white",
             "minorgridcolor": "white",
             "startlinecolor": "#2a3f5f"
            },
            "baxis": {
             "endlinecolor": "#2a3f5f",
             "gridcolor": "white",
             "linecolor": "white",
             "minorgridcolor": "white",
             "startlinecolor": "#2a3f5f"
            },
            "type": "carpet"
           }
          ],
          "choropleth": [
           {
            "colorbar": {
             "outlinewidth": 0,
             "ticks": ""
            },
            "type": "choropleth"
           }
          ],
          "contour": [
           {
            "colorbar": {
             "outlinewidth": 0,
             "ticks": ""
            },
            "colorscale": [
             [
              0,
              "#0d0887"
             ],
             [
              0.1111111111111111,
              "#46039f"
             ],
             [
              0.2222222222222222,
              "#7201a8"
             ],
             [
              0.3333333333333333,
              "#9c179e"
             ],
             [
              0.4444444444444444,
              "#bd3786"
             ],
             [
              0.5555555555555556,
              "#d8576b"
             ],
             [
              0.6666666666666666,
              "#ed7953"
             ],
             [
              0.7777777777777778,
              "#fb9f3a"
             ],
             [
              0.8888888888888888,
              "#fdca26"
             ],
             [
              1,
              "#f0f921"
             ]
            ],
            "type": "contour"
           }
          ],
          "contourcarpet": [
           {
            "colorbar": {
             "outlinewidth": 0,
             "ticks": ""
            },
            "type": "contourcarpet"
           }
          ],
          "heatmap": [
           {
            "colorbar": {
             "outlinewidth": 0,
             "ticks": ""
            },
            "colorscale": [
             [
              0,
              "#0d0887"
             ],
             [
              0.1111111111111111,
              "#46039f"
             ],
             [
              0.2222222222222222,
              "#7201a8"
             ],
             [
              0.3333333333333333,
              "#9c179e"
             ],
             [
              0.4444444444444444,
              "#bd3786"
             ],
             [
              0.5555555555555556,
              "#d8576b"
             ],
             [
              0.6666666666666666,
              "#ed7953"
             ],
             [
              0.7777777777777778,
              "#fb9f3a"
             ],
             [
              0.8888888888888888,
              "#fdca26"
             ],
             [
              1,
              "#f0f921"
             ]
            ],
            "type": "heatmap"
           }
          ],
          "histogram": [
           {
            "marker": {
             "pattern": {
              "fillmode": "overlay",
              "size": 10,
              "solidity": 0.2
             }
            },
            "type": "histogram"
           }
          ],
          "histogram2d": [
           {
            "colorbar": {
             "outlinewidth": 0,
             "ticks": ""
            },
            "colorscale": [
             [
              0,
              "#0d0887"
             ],
             [
              0.1111111111111111,
              "#46039f"
             ],
             [
              0.2222222222222222,
              "#7201a8"
             ],
             [
              0.3333333333333333,
              "#9c179e"
             ],
             [
              0.4444444444444444,
              "#bd3786"
             ],
             [
              0.5555555555555556,
              "#d8576b"
             ],
             [
              0.6666666666666666,
              "#ed7953"
             ],
             [
              0.7777777777777778,
              "#fb9f3a"
             ],
             [
              0.8888888888888888,
              "#fdca26"
             ],
             [
              1,
              "#f0f921"
             ]
            ],
            "type": "histogram2d"
           }
          ],
          "histogram2dcontour": [
           {
            "colorbar": {
             "outlinewidth": 0,
             "ticks": ""
            },
            "colorscale": [
             [
              0,
              "#0d0887"
             ],
             [
              0.1111111111111111,
              "#46039f"
             ],
             [
              0.2222222222222222,
              "#7201a8"
             ],
             [
              0.3333333333333333,
              "#9c179e"
             ],
             [
              0.4444444444444444,
              "#bd3786"
             ],
             [
              0.5555555555555556,
              "#d8576b"
             ],
             [
              0.6666666666666666,
              "#ed7953"
             ],
             [
              0.7777777777777778,
              "#fb9f3a"
             ],
             [
              0.8888888888888888,
              "#fdca26"
             ],
             [
              1,
              "#f0f921"
             ]
            ],
            "type": "histogram2dcontour"
           }
          ],
          "mesh3d": [
           {
            "colorbar": {
             "outlinewidth": 0,
             "ticks": ""
            },
            "type": "mesh3d"
           }
          ],
          "parcoords": [
           {
            "line": {
             "colorbar": {
              "outlinewidth": 0,
              "ticks": ""
             }
            },
            "type": "parcoords"
           }
          ],
          "pie": [
           {
            "automargin": true,
            "type": "pie"
           }
          ],
          "scatter": [
           {
            "fillpattern": {
             "fillmode": "overlay",
             "size": 10,
             "solidity": 0.2
            },
            "type": "scatter"
           }
          ],
          "scatter3d": [
           {
            "line": {
             "colorbar": {
              "outlinewidth": 0,
              "ticks": ""
             }
            },
            "marker": {
             "colorbar": {
              "outlinewidth": 0,
              "ticks": ""
             }
            },
            "type": "scatter3d"
           }
          ],
          "scattercarpet": [
           {
            "marker": {
             "colorbar": {
              "outlinewidth": 0,
              "ticks": ""
             }
            },
            "type": "scattercarpet"
           }
          ],
          "scattergeo": [
           {
            "marker": {
             "colorbar": {
              "outlinewidth": 0,
              "ticks": ""
             }
            },
            "type": "scattergeo"
           }
          ],
          "scattergl": [
           {
            "marker": {
             "colorbar": {
              "outlinewidth": 0,
              "ticks": ""
             }
            },
            "type": "scattergl"
           }
          ],
          "scattermap": [
           {
            "marker": {
             "colorbar": {
              "outlinewidth": 0,
              "ticks": ""
             }
            },
            "type": "scattermap"
           }
          ],
          "scattermapbox": [
           {
            "marker": {
             "colorbar": {
              "outlinewidth": 0,
              "ticks": ""
             }
            },
            "type": "scattermapbox"
           }
          ],
          "scatterpolar": [
           {
            "marker": {
             "colorbar": {
              "outlinewidth": 0,
              "ticks": ""
             }
            },
            "type": "scatterpolar"
           }
          ],
          "scatterpolargl": [
           {
            "marker": {
             "colorbar": {
              "outlinewidth": 0,
              "ticks": ""
             }
            },
            "type": "scatterpolargl"
           }
          ],
          "scatterternary": [
           {
            "marker": {
             "colorbar": {
              "outlinewidth": 0,
              "ticks": ""
             }
            },
            "type": "scatterternary"
           }
          ],
          "surface": [
           {
            "colorbar": {
             "outlinewidth": 0,
             "ticks": ""
            },
            "colorscale": [
             [
              0,
              "#0d0887"
             ],
             [
              0.1111111111111111,
              "#46039f"
             ],
             [
              0.2222222222222222,
              "#7201a8"
             ],
             [
              0.3333333333333333,
              "#9c179e"
             ],
             [
              0.4444444444444444,
              "#bd3786"
             ],
             [
              0.5555555555555556,
              "#d8576b"
             ],
             [
              0.6666666666666666,
              "#ed7953"
             ],
             [
              0.7777777777777778,
              "#fb9f3a"
             ],
             [
              0.8888888888888888,
              "#fdca26"
             ],
             [
              1,
              "#f0f921"
             ]
            ],
            "type": "surface"
           }
          ],
          "table": [
           {
            "cells": {
             "fill": {
              "color": "#EBF0F8"
             },
             "line": {
              "color": "white"
             }
            },
            "header": {
             "fill": {
              "color": "#C8D4E3"
             },
             "line": {
              "color": "white"
             }
            },
            "type": "table"
           }
          ]
         },
         "layout": {
          "annotationdefaults": {
           "arrowcolor": "#2a3f5f",
           "arrowhead": 0,
           "arrowwidth": 1
          },
          "autotypenumbers": "strict",
          "coloraxis": {
           "colorbar": {
            "outlinewidth": 0,
            "ticks": ""
           }
          },
          "colorscale": {
           "diverging": [
            [
             0,
             "#8e0152"
            ],
            [
             0.1,
             "#c51b7d"
            ],
            [
             0.2,
             "#de77ae"
            ],
            [
             0.3,
             "#f1b6da"
            ],
            [
             0.4,
             "#fde0ef"
            ],
            [
             0.5,
             "#f7f7f7"
            ],
            [
             0.6,
             "#e6f5d0"
            ],
            [
             0.7,
             "#b8e186"
            ],
            [
             0.8,
             "#7fbc41"
            ],
            [
             0.9,
             "#4d9221"
            ],
            [
             1,
             "#276419"
            ]
           ],
           "sequential": [
            [
             0,
             "#0d0887"
            ],
            [
             0.1111111111111111,
             "#46039f"
            ],
            [
             0.2222222222222222,
             "#7201a8"
            ],
            [
             0.3333333333333333,
             "#9c179e"
            ],
            [
             0.4444444444444444,
             "#bd3786"
            ],
            [
             0.5555555555555556,
             "#d8576b"
            ],
            [
             0.6666666666666666,
             "#ed7953"
            ],
            [
             0.7777777777777778,
             "#fb9f3a"
            ],
            [
             0.8888888888888888,
             "#fdca26"
            ],
            [
             1,
             "#f0f921"
            ]
           ],
           "sequentialminus": [
            [
             0,
             "#0d0887"
            ],
            [
             0.1111111111111111,
             "#46039f"
            ],
            [
             0.2222222222222222,
             "#7201a8"
            ],
            [
             0.3333333333333333,
             "#9c179e"
            ],
            [
             0.4444444444444444,
             "#bd3786"
            ],
            [
             0.5555555555555556,
             "#d8576b"
            ],
            [
             0.6666666666666666,
             "#ed7953"
            ],
            [
             0.7777777777777778,
             "#fb9f3a"
            ],
            [
             0.8888888888888888,
             "#fdca26"
            ],
            [
             1,
             "#f0f921"
            ]
           ]
          },
          "colorway": [
           "#636efa",
           "#EF553B",
           "#00cc96",
           "#ab63fa",
           "#FFA15A",
           "#19d3f3",
           "#FF6692",
           "#B6E880",
           "#FF97FF",
           "#FECB52"
          ],
          "font": {
           "color": "#2a3f5f"
          },
          "geo": {
           "bgcolor": "white",
           "lakecolor": "white",
           "landcolor": "#E5ECF6",
           "showlakes": true,
           "showland": true,
           "subunitcolor": "white"
          },
          "hoverlabel": {
           "align": "left"
          },
          "hovermode": "closest",
          "mapbox": {
           "style": "light"
          },
          "paper_bgcolor": "white",
          "plot_bgcolor": "#E5ECF6",
          "polar": {
           "angularaxis": {
            "gridcolor": "white",
            "linecolor": "white",
            "ticks": ""
           },
           "bgcolor": "#E5ECF6",
           "radialaxis": {
            "gridcolor": "white",
            "linecolor": "white",
            "ticks": ""
           }
          },
          "scene": {
           "xaxis": {
            "backgroundcolor": "#E5ECF6",
            "gridcolor": "white",
            "gridwidth": 2,
            "linecolor": "white",
            "showbackground": true,
            "ticks": "",
            "zerolinecolor": "white"
           },
           "yaxis": {
            "backgroundcolor": "#E5ECF6",
            "gridcolor": "white",
            "gridwidth": 2,
            "linecolor": "white",
            "showbackground": true,
            "ticks": "",
            "zerolinecolor": "white"
           },
           "zaxis": {
            "backgroundcolor": "#E5ECF6",
            "gridcolor": "white",
            "gridwidth": 2,
            "linecolor": "white",
            "showbackground": true,
            "ticks": "",
            "zerolinecolor": "white"
           }
          },
          "shapedefaults": {
           "line": {
            "color": "#2a3f5f"
           }
          },
          "ternary": {
           "aaxis": {
            "gridcolor": "white",
            "linecolor": "white",
            "ticks": ""
           },
           "baxis": {
            "gridcolor": "white",
            "linecolor": "white",
            "ticks": ""
           },
           "bgcolor": "#E5ECF6",
           "caxis": {
            "gridcolor": "white",
            "linecolor": "white",
            "ticks": ""
           }
          },
          "title": {
           "x": 0.05
          },
          "xaxis": {
           "automargin": true,
           "gridcolor": "white",
           "linecolor": "white",
           "ticks": "",
           "title": {
            "standoff": 15
           },
           "zerolinecolor": "white",
           "zerolinewidth": 2
          },
          "yaxis": {
           "automargin": true,
           "gridcolor": "white",
           "linecolor": "white",
           "ticks": "",
           "title": {
            "standoff": 15
           },
           "zerolinecolor": "white",
           "zerolinewidth": 2
          }
         }
        },
        "title": {
         "text": "Topic Comparison"
        },
        "width": 1500
       }
      }
     },
     "metadata": {},
     "output_type": "display_data"
    },
    {
     "data": {
      "application/vnd.plotly.v1+json": {
       "config": {
        "plotlyServerURL": "https://plot.ly"
       },
       "data": [
        {
         "fill": "toself",
         "name": "WildChat",
         "r": [
          712,
          168,
          797,
          231,
          357,
          104,
          197,
          183,
          6,
          712
         ],
         "theta": [
          "Math, Science, Engineering, and Technology",
          "Business, Finance, and Economics",
          "Arts, Culture & Entertainment",
          "Society & Lifestyle",
          "Social Sciences & Humanities",
          "News, Politics, and Current Events",
          "High-Stakes Decision Making:",
          "Adult & Sensitive Content",
          "Other"
         ],
         "type": "scatterpolar"
        },
        {
         "fill": "toself",
         "name": "Humanity's Last Exam",
         "r": [
          896,
          23,
          133,
          21,
          123,
          7,
          72,
          0,
          1,
          896
         ],
         "theta": [
          "Math, Science, Engineering, and Technology",
          "Business, Finance, and Economics",
          "Arts, Culture & Entertainment",
          "Society & Lifestyle",
          "Social Sciences & Humanities",
          "News, Politics, and Current Events",
          "High-Stakes Decision Making:",
          "Adult & Sensitive Content",
          "Other"
         ],
         "type": "scatterpolar"
        },
        {
         "fill": "toself",
         "name": "MMLU",
         "r": [
          331,
          185,
          72,
          116,
          454,
          162,
          355,
          21,
          0,
          331
         ],
         "theta": [
          "Math, Science, Engineering, and Technology",
          "Business, Finance, and Economics",
          "Arts, Culture & Entertainment",
          "Society & Lifestyle",
          "Social Sciences & Humanities",
          "News, Politics, and Current Events",
          "High-Stakes Decision Making:",
          "Adult & Sensitive Content",
          "Other"
         ],
         "type": "scatterpolar"
        }
       ],
       "layout": {
        "height": 800,
        "polar": {
         "radialaxis": {
          "visible": true
         }
        },
        "showlegend": true,
        "template": {
         "data": {
          "bar": [
           {
            "error_x": {
             "color": "#2a3f5f"
            },
            "error_y": {
             "color": "#2a3f5f"
            },
            "marker": {
             "line": {
              "color": "#E5ECF6",
              "width": 0.5
             },
             "pattern": {
              "fillmode": "overlay",
              "size": 10,
              "solidity": 0.2
             }
            },
            "type": "bar"
           }
          ],
          "barpolar": [
           {
            "marker": {
             "line": {
              "color": "#E5ECF6",
              "width": 0.5
             },
             "pattern": {
              "fillmode": "overlay",
              "size": 10,
              "solidity": 0.2
             }
            },
            "type": "barpolar"
           }
          ],
          "carpet": [
           {
            "aaxis": {
             "endlinecolor": "#2a3f5f",
             "gridcolor": "white",
             "linecolor": "white",
             "minorgridcolor": "white",
             "startlinecolor": "#2a3f5f"
            },
            "baxis": {
             "endlinecolor": "#2a3f5f",
             "gridcolor": "white",
             "linecolor": "white",
             "minorgridcolor": "white",
             "startlinecolor": "#2a3f5f"
            },
            "type": "carpet"
           }
          ],
          "choropleth": [
           {
            "colorbar": {
             "outlinewidth": 0,
             "ticks": ""
            },
            "type": "choropleth"
           }
          ],
          "contour": [
           {
            "colorbar": {
             "outlinewidth": 0,
             "ticks": ""
            },
            "colorscale": [
             [
              0,
              "#0d0887"
             ],
             [
              0.1111111111111111,
              "#46039f"
             ],
             [
              0.2222222222222222,
              "#7201a8"
             ],
             [
              0.3333333333333333,
              "#9c179e"
             ],
             [
              0.4444444444444444,
              "#bd3786"
             ],
             [
              0.5555555555555556,
              "#d8576b"
             ],
             [
              0.6666666666666666,
              "#ed7953"
             ],
             [
              0.7777777777777778,
              "#fb9f3a"
             ],
             [
              0.8888888888888888,
              "#fdca26"
             ],
             [
              1,
              "#f0f921"
             ]
            ],
            "type": "contour"
           }
          ],
          "contourcarpet": [
           {
            "colorbar": {
             "outlinewidth": 0,
             "ticks": ""
            },
            "type": "contourcarpet"
           }
          ],
          "heatmap": [
           {
            "colorbar": {
             "outlinewidth": 0,
             "ticks": ""
            },
            "colorscale": [
             [
              0,
              "#0d0887"
             ],
             [
              0.1111111111111111,
              "#46039f"
             ],
             [
              0.2222222222222222,
              "#7201a8"
             ],
             [
              0.3333333333333333,
              "#9c179e"
             ],
             [
              0.4444444444444444,
              "#bd3786"
             ],
             [
              0.5555555555555556,
              "#d8576b"
             ],
             [
              0.6666666666666666,
              "#ed7953"
             ],
             [
              0.7777777777777778,
              "#fb9f3a"
             ],
             [
              0.8888888888888888,
              "#fdca26"
             ],
             [
              1,
              "#f0f921"
             ]
            ],
            "type": "heatmap"
           }
          ],
          "histogram": [
           {
            "marker": {
             "pattern": {
              "fillmode": "overlay",
              "size": 10,
              "solidity": 0.2
             }
            },
            "type": "histogram"
           }
          ],
          "histogram2d": [
           {
            "colorbar": {
             "outlinewidth": 0,
             "ticks": ""
            },
            "colorscale": [
             [
              0,
              "#0d0887"
             ],
             [
              0.1111111111111111,
              "#46039f"
             ],
             [
              0.2222222222222222,
              "#7201a8"
             ],
             [
              0.3333333333333333,
              "#9c179e"
             ],
             [
              0.4444444444444444,
              "#bd3786"
             ],
             [
              0.5555555555555556,
              "#d8576b"
             ],
             [
              0.6666666666666666,
              "#ed7953"
             ],
             [
              0.7777777777777778,
              "#fb9f3a"
             ],
             [
              0.8888888888888888,
              "#fdca26"
             ],
             [
              1,
              "#f0f921"
             ]
            ],
            "type": "histogram2d"
           }
          ],
          "histogram2dcontour": [
           {
            "colorbar": {
             "outlinewidth": 0,
             "ticks": ""
            },
            "colorscale": [
             [
              0,
              "#0d0887"
             ],
             [
              0.1111111111111111,
              "#46039f"
             ],
             [
              0.2222222222222222,
              "#7201a8"
             ],
             [
              0.3333333333333333,
              "#9c179e"
             ],
             [
              0.4444444444444444,
              "#bd3786"
             ],
             [
              0.5555555555555556,
              "#d8576b"
             ],
             [
              0.6666666666666666,
              "#ed7953"
             ],
             [
              0.7777777777777778,
              "#fb9f3a"
             ],
             [
              0.8888888888888888,
              "#fdca26"
             ],
             [
              1,
              "#f0f921"
             ]
            ],
            "type": "histogram2dcontour"
           }
          ],
          "mesh3d": [
           {
            "colorbar": {
             "outlinewidth": 0,
             "ticks": ""
            },
            "type": "mesh3d"
           }
          ],
          "parcoords": [
           {
            "line": {
             "colorbar": {
              "outlinewidth": 0,
              "ticks": ""
             }
            },
            "type": "parcoords"
           }
          ],
          "pie": [
           {
            "automargin": true,
            "type": "pie"
           }
          ],
          "scatter": [
           {
            "fillpattern": {
             "fillmode": "overlay",
             "size": 10,
             "solidity": 0.2
            },
            "type": "scatter"
           }
          ],
          "scatter3d": [
           {
            "line": {
             "colorbar": {
              "outlinewidth": 0,
              "ticks": ""
             }
            },
            "marker": {
             "colorbar": {
              "outlinewidth": 0,
              "ticks": ""
             }
            },
            "type": "scatter3d"
           }
          ],
          "scattercarpet": [
           {
            "marker": {
             "colorbar": {
              "outlinewidth": 0,
              "ticks": ""
             }
            },
            "type": "scattercarpet"
           }
          ],
          "scattergeo": [
           {
            "marker": {
             "colorbar": {
              "outlinewidth": 0,
              "ticks": ""
             }
            },
            "type": "scattergeo"
           }
          ],
          "scattergl": [
           {
            "marker": {
             "colorbar": {
              "outlinewidth": 0,
              "ticks": ""
             }
            },
            "type": "scattergl"
           }
          ],
          "scattermap": [
           {
            "marker": {
             "colorbar": {
              "outlinewidth": 0,
              "ticks": ""
             }
            },
            "type": "scattermap"
           }
          ],
          "scattermapbox": [
           {
            "marker": {
             "colorbar": {
              "outlinewidth": 0,
              "ticks": ""
             }
            },
            "type": "scattermapbox"
           }
          ],
          "scatterpolar": [
           {
            "marker": {
             "colorbar": {
              "outlinewidth": 0,
              "ticks": ""
             }
            },
            "type": "scatterpolar"
           }
          ],
          "scatterpolargl": [
           {
            "marker": {
             "colorbar": {
              "outlinewidth": 0,
              "ticks": ""
             }
            },
            "type": "scatterpolargl"
           }
          ],
          "scatterternary": [
           {
            "marker": {
             "colorbar": {
              "outlinewidth": 0,
              "ticks": ""
             }
            },
            "type": "scatterternary"
           }
          ],
          "surface": [
           {
            "colorbar": {
             "outlinewidth": 0,
             "ticks": ""
            },
            "colorscale": [
             [
              0,
              "#0d0887"
             ],
             [
              0.1111111111111111,
              "#46039f"
             ],
             [
              0.2222222222222222,
              "#7201a8"
             ],
             [
              0.3333333333333333,
              "#9c179e"
             ],
             [
              0.4444444444444444,
              "#bd3786"
             ],
             [
              0.5555555555555556,
              "#d8576b"
             ],
             [
              0.6666666666666666,
              "#ed7953"
             ],
             [
              0.7777777777777778,
              "#fb9f3a"
             ],
             [
              0.8888888888888888,
              "#fdca26"
             ],
             [
              1,
              "#f0f921"
             ]
            ],
            "type": "surface"
           }
          ],
          "table": [
           {
            "cells": {
             "fill": {
              "color": "#EBF0F8"
             },
             "line": {
              "color": "white"
             }
            },
            "header": {
             "fill": {
              "color": "#C8D4E3"
             },
             "line": {
              "color": "white"
             }
            },
            "type": "table"
           }
          ]
         },
         "layout": {
          "annotationdefaults": {
           "arrowcolor": "#2a3f5f",
           "arrowhead": 0,
           "arrowwidth": 1
          },
          "autotypenumbers": "strict",
          "coloraxis": {
           "colorbar": {
            "outlinewidth": 0,
            "ticks": ""
           }
          },
          "colorscale": {
           "diverging": [
            [
             0,
             "#8e0152"
            ],
            [
             0.1,
             "#c51b7d"
            ],
            [
             0.2,
             "#de77ae"
            ],
            [
             0.3,
             "#f1b6da"
            ],
            [
             0.4,
             "#fde0ef"
            ],
            [
             0.5,
             "#f7f7f7"
            ],
            [
             0.6,
             "#e6f5d0"
            ],
            [
             0.7,
             "#b8e186"
            ],
            [
             0.8,
             "#7fbc41"
            ],
            [
             0.9,
             "#4d9221"
            ],
            [
             1,
             "#276419"
            ]
           ],
           "sequential": [
            [
             0,
             "#0d0887"
            ],
            [
             0.1111111111111111,
             "#46039f"
            ],
            [
             0.2222222222222222,
             "#7201a8"
            ],
            [
             0.3333333333333333,
             "#9c179e"
            ],
            [
             0.4444444444444444,
             "#bd3786"
            ],
            [
             0.5555555555555556,
             "#d8576b"
            ],
            [
             0.6666666666666666,
             "#ed7953"
            ],
            [
             0.7777777777777778,
             "#fb9f3a"
            ],
            [
             0.8888888888888888,
             "#fdca26"
            ],
            [
             1,
             "#f0f921"
            ]
           ],
           "sequentialminus": [
            [
             0,
             "#0d0887"
            ],
            [
             0.1111111111111111,
             "#46039f"
            ],
            [
             0.2222222222222222,
             "#7201a8"
            ],
            [
             0.3333333333333333,
             "#9c179e"
            ],
            [
             0.4444444444444444,
             "#bd3786"
            ],
            [
             0.5555555555555556,
             "#d8576b"
            ],
            [
             0.6666666666666666,
             "#ed7953"
            ],
            [
             0.7777777777777778,
             "#fb9f3a"
            ],
            [
             0.8888888888888888,
             "#fdca26"
            ],
            [
             1,
             "#f0f921"
            ]
           ]
          },
          "colorway": [
           "#636efa",
           "#EF553B",
           "#00cc96",
           "#ab63fa",
           "#FFA15A",
           "#19d3f3",
           "#FF6692",
           "#B6E880",
           "#FF97FF",
           "#FECB52"
          ],
          "font": {
           "color": "#2a3f5f"
          },
          "geo": {
           "bgcolor": "white",
           "lakecolor": "white",
           "landcolor": "#E5ECF6",
           "showlakes": true,
           "showland": true,
           "subunitcolor": "white"
          },
          "hoverlabel": {
           "align": "left"
          },
          "hovermode": "closest",
          "mapbox": {
           "style": "light"
          },
          "paper_bgcolor": "white",
          "plot_bgcolor": "#E5ECF6",
          "polar": {
           "angularaxis": {
            "gridcolor": "white",
            "linecolor": "white",
            "ticks": ""
           },
           "bgcolor": "#E5ECF6",
           "radialaxis": {
            "gridcolor": "white",
            "linecolor": "white",
            "ticks": ""
           }
          },
          "scene": {
           "xaxis": {
            "backgroundcolor": "#E5ECF6",
            "gridcolor": "white",
            "gridwidth": 2,
            "linecolor": "white",
            "showbackground": true,
            "ticks": "",
            "zerolinecolor": "white"
           },
           "yaxis": {
            "backgroundcolor": "#E5ECF6",
            "gridcolor": "white",
            "gridwidth": 2,
            "linecolor": "white",
            "showbackground": true,
            "ticks": "",
            "zerolinecolor": "white"
           },
           "zaxis": {
            "backgroundcolor": "#E5ECF6",
            "gridcolor": "white",
            "gridwidth": 2,
            "linecolor": "white",
            "showbackground": true,
            "ticks": "",
            "zerolinecolor": "white"
           }
          },
          "shapedefaults": {
           "line": {
            "color": "#2a3f5f"
           }
          },
          "ternary": {
           "aaxis": {
            "gridcolor": "white",
            "linecolor": "white",
            "ticks": ""
           },
           "baxis": {
            "gridcolor": "white",
            "linecolor": "white",
            "ticks": ""
           },
           "bgcolor": "#E5ECF6",
           "caxis": {
            "gridcolor": "white",
            "linecolor": "white",
            "ticks": ""
           }
          },
          "title": {
           "x": 0.05
          },
          "xaxis": {
           "automargin": true,
           "gridcolor": "white",
           "linecolor": "white",
           "ticks": "",
           "title": {
            "standoff": 15
           },
           "zerolinecolor": "white",
           "zerolinewidth": 2
          },
          "yaxis": {
           "automargin": true,
           "gridcolor": "white",
           "linecolor": "white",
           "ticks": "",
           "title": {
            "standoff": 15
           },
           "zerolinecolor": "white",
           "zerolinewidth": 2
          }
         }
        },
        "title": {
         "text": "Topic Comparison"
        },
        "width": 1500
       }
      }
     },
     "metadata": {},
     "output_type": "display_data"
    }
   ],
   "source": [
    "wildchat_dataset = get_wildchat_dataset()\n",
    "hle_dataset = get_hle_dataset()\n",
    "mmlu_dataset = get_mmlu_dataset()\n",
    "\n",
    "# Define the parent-child relationships for the categories\n",
    "topic_parent_dict = {\n",
    "    \"Math, Science, Engineering, and Technology\": [\n",
    "        \"Math & Sciences\",\n",
    "        \"Technology, Software & Computing\",\n",
    "        \"Non-software Engineering & Infrastructure\",\n",
    "        \"Nature & Environment\", \n",
    "    ],\n",
    "    \"Business, Finance, and Economics\": [\n",
    "        \"Economics\",\n",
    "        \"Business & Finances\",\n",
    "    ], \n",
    "    \"Arts, Culture & Entertainment\": [\n",
    "        \"Art & Design\",\n",
    "        \"Culture\",\n",
    "        \"Entertainment, Hobbies & Leisure\",\n",
    "        \"Fantasy / Fiction / Fanfiction\",\n",
    "        \"Literature & Writing\",\n",
    "        \"Video Games\",\n",
    "        \"Fashion & Beauty\"\n",
    "    ],\n",
    "    \"Society & Lifestyle\": [\n",
    "        \"Food & Dining\",\n",
    "        \"Travel & Tourism\",\n",
    "        \"Lifestyle\",\n",
    "        \"Sports\",\n",
    "        \"Interpersonal Relationships & Communication\",\n",
    "        \"Transportation\"\n",
    "    ],\n",
    "    \"Social Sciences & Humanities\": [\n",
    "        \"History\",\n",
    "        \"Linguistics & Languages\",\n",
    "        \"Psychology, Philosophy & Human Behavior\",\n",
    "        \"Religion & Spirituality\",   \n",
    "        \"Geography\", \n",
    "        \"Education\"\n",
    "    ],\n",
    "    \"News, Politics, and Current Events\": [\n",
    "        \"Politics & Elections\",\n",
    "        \"Social Issues & Movements\",\n",
    "        \"News & Current Affairs\",\n",
    "    ],\n",
    "    \"High-Stakes Decision Making:\": [\n",
    "        \"Employment & Hiring\",\n",
    "        \"Insurance & Social Scoring\",\n",
    "        \"Law, Criminal Justice, Law Enforcement\",\n",
    "        \"Housing\", \n",
    "        \"Immigration / Migration\", \n",
    "        \"Health & Medicine\"\n",
    "        ],\n",
    "    \"Adult & Sensitive Content\": [\n",
    "        \"Adult & Illicit Content\",         \n",
    "    ],\n",
    "    \"AOther\": [\"Other\", \n",
    "            \"None\"]\n",
    "}\n",
    "\n",
    "annotation_pairs1 = wildchat_dataset.get_annotation_distribution(\n",
    "    \"turn_topic\",\n",
    "    level=\"message\",\n",
    "    annotation_source=\"automatic_v0\",\n",
    "    annotation_as_list_type=True,\n",
    ")\n",
    "annotation_pairs2 = hle_dataset.get_annotation_distribution(\n",
    "    \"turn_topic\",\n",
    "    level=\"message\",\n",
    "    annotation_source=\"automatic_v0\",\n",
    "    annotation_as_list_type=True,\n",
    ")\n",
    "annotation_pairs3 = mmlu_dataset.get_annotation_distribution(\n",
    "    \"turn_topic\",\n",
    "    level=\"message\",\n",
    "    annotation_source=\"automatic_v0\",\n",
    "    annotation_as_list_type=True,\n",
    ")\n",
    "\n",
    "datasets = {\n",
    "    \"WildChat\": annotation_pairs1,\n",
    "    \"Humanity's Last Exam\": annotation_pairs2,\n",
    "    \"MMLU\": annotation_pairs3\n",
    "}\n",
    "    \n",
    "# Aggregate counts into categories \n",
    "topic_agg = {}\n",
    "for dataset_name, annotation_pairs in datasets.items():\n",
    "    print(f\"Processing dataset: {dataset_name}\")\n",
    "    agg_wc = aggregate_counts_by_category(annotation_pairs)\n",
    "    topic_agg[dataset_name] = agg_wc\n",
    "\n",
    "make_spider_plot(data_to_compare = topic_agg, parent_dict=topic_parent_dict, annotation_type = \"topic\")"
   ]
  },
  {
   "cell_type": "markdown",
   "id": "cbe77d6f",
   "metadata": {},
   "source": [
    "### IN PROGRESS: Heatmap"
   ]
  },
  {
   "cell_type": "code",
   "execution_count": 39,
   "id": "c4f528fc",
   "metadata": {},
   "outputs": [],
   "source": [
    "agg_wc = {'WildChat': {'Translation (language to language)': 54,\n",
    "  'Information analysis (Content explanation / interpretation)': 226,\n",
    "  'Advice, Guidance, & Recommendations (Instructions / How-to)': 175,\n",
    "  'Content generation (code)': 191,\n",
    "  'Content generation (general prose, discussion or explanation)': 231,\n",
    "  'Content generation (creative / fiction writing)': 492,\n",
    "  'Information retrieval (general info from web)': 224,\n",
    "  'No clear task': 271,\n",
    "  'Advice, Guidance, & Recommendations (Social and personal advice)': 12,\n",
    "  'Content generation (administrative writing)': 25,\n",
    "  'Content generation (academic / essay writing)': 89,\n",
    "  'Editorial & formatting (Natural language style or re-formatting)': 26,\n",
    "  'Editorial & formatting (Content expansion)': 9,\n",
    "  'Editorial & formatting (Natural language content editing)': 88,\n",
    "  'Reasoning (Other general problem solving)': 10,\n",
    "  'Reasoning (Mathematical or numerical problem solving)': 36,\n",
    "  'Editorial & formatting (Content summarization)': 29,\n",
    "  'Content generation (brainstorming / ideation)': 30,\n",
    "  'Content generation (prompts for another AI system)': 105,\n",
    "  'Role-play / social simulation (platonic companion / friend)': 15,\n",
    "  'Content generation (other)': 68,\n",
    "  'Information analysis (Content quality review or assessment)': 8,\n",
    "  'Information retrieval (general info from prompt content)': 38,\n",
    "  'Role-play / social simulation (simulation of real person / celebrity)': 8,\n",
    "  'Role-play / social simulation (romantic companion)': 29,\n",
    "  'Other': 7,\n",
    "  'Information analysis (Ranking or Scoring)': 1,\n",
    "  'Advice, Guidance, & Recommendations (Professional advice)': 10,\n",
    "  'Editorial & formatting (Information processing & re-formatting)': 14,\n",
    "  'Reasoning (Verbal problems, logic games, puzzles or riddles)': 3,\n",
    "  'Content generation (code documentation)': 1,\n",
    "  'Editorial & formatting (Code style and re-formatting)': 2,\n",
    "  'Advice, Guidance, & Recommendations (Activity / product recommendations)': 13,\n",
    "  'Information analysis (Content Classification)': 3,\n",
    "  'Editorial & formatting (Code content editing)': 5,\n",
    "  'Role-play / social simulation (therapist / coach)': 1,\n",
    "  'Information analysis (Other content analysis / description)': 1},\n",
    " \"Humanity's Last Exam\": {'Information retrieval (general info from web)': 113,\n",
    "  'Reasoning (Mathematical or numerical problem solving)': 575,\n",
    "  'Content generation (general prose, discussion or explanation)': 14,\n",
    "  'Information analysis (Content explanation / interpretation)': 98,\n",
    "  'Reasoning (Other general problem solving)': 113,\n",
    "  'Reasoning (Verbal problems, logic games, puzzles or riddles)': 82,\n",
    "  'No clear task': 26,\n",
    "  'Information analysis (Other content analysis / description)': 46,\n",
    "  'Information retrieval (general info from prompt content)': 57,\n",
    "  'Content generation (code)': 16,\n",
    "  'Content generation (academic / essay writing)': 11,\n",
    "  'Information analysis (Content Classification)': 18,\n",
    "  'Content generation (code documentation)': 3,\n",
    "  'Information analysis (Content quality review or assessment)': 4,\n",
    "  'Content generation (other)': 3,\n",
    "  'Other': 21,\n",
    "  'Editorial & formatting (Code content editing)': 2,\n",
    "  'Advice, Guidance, & Recommendations (Professional advice)': 4,\n",
    "  'Content generation (creative / fiction writing)': 3,\n",
    "  'Advice, Guidance, & Recommendations (Instructions / How-to)': 4,\n",
    "  'Role-play / social simulation (platonic companion / friend)': 1,\n",
    "  'Advice, Guidance, & Recommendations (Social and personal advice)': 1},\n",
    " 'MMLU': {'Reasoning (Mathematical or numerical problem solving)': 133,\n",
    "  'Reasoning (Verbal problems, logic games, puzzles or riddles)': 494,\n",
    "  'Information analysis (Content explanation / interpretation)': 167,\n",
    "  'Information retrieval (general info from prompt content)': 114,\n",
    "  'Information retrieval (general info from web)': 107,\n",
    "  'Reasoning (Other general problem solving)': 100,\n",
    "  'Information analysis (Content quality review or assessment)': 14,\n",
    "  'Information analysis (Content Classification)': 51,\n",
    "  'Content generation (academic / essay writing)': 6,\n",
    "  'Information analysis (Other content analysis / description)': 28,\n",
    "  'Information analysis (Ranking or Scoring)': 3,\n",
    "  'Advice, Guidance, & Recommendations (Social and personal advice)': 1,\n",
    "  'Content generation (creative / fiction writing)': 1,\n",
    "  'Other': 11,\n",
    "  'No clear task': 17,\n",
    "  'Content generation (general prose, discussion or explanation)': 3,\n",
    "  'Advice, Guidance, & Recommendations (Professional advice)': 2,\n",
    "  'Content generation (other)': 1,\n",
    "  'Advice, Guidance, & Recommendations (Instructions / How-to)': 3}}\n",
    "\n",
    "\n",
    "parent_dict = {\n",
    "    \"Information Analysis\": [\n",
    "        'Information analysis (Content explanation / interpretation)',\n",
    "        'Information analysis (Other content analysis / description)',\n",
    "        'Information analysis (Content Classification)',\n",
    "        'Information analysis (Ranking or Scoring)',\n",
    "        'Information analysis (Content quality review or assessment)',\n",
    "    ],\n",
    "    \"Advice, Guidance, & Recommendations\": [\n",
    "        'Advice, Guidance, & Recommendations (Activity / product recommendations)',\n",
    "        'Advice, Guidance, & Recommendations (Instructions / How-to)',\n",
    "        'Advice, Guidance, & Recommendations (Professional advice)',\n",
    "        'Advice, Guidance, & Recommendations (Social and personal advice)',\n",
    "        'Advice, Guidance, & Recommendations (Action planning (scheduling, robotics))',\n",
    "    ],\n",
    "    \"Information Retrieval\": [\n",
    "        'Information retrieval (general info from web)',\n",
    "        'Information retrieval (general info from prompt content)',\n",
    "    ],\n",
    "    \"Content Generation\": [\n",
    "        'Content generation (other)',\n",
    "        'Content generation (general prose, discussion or explanation)',\n",
    "        'Content generation (creative / fiction writing)',\n",
    "        'Content generation (code)',\n",
    "        'Content generation (academic / essay writing)',\n",
    "        'Content generation (prompts for another AI system)',\n",
    "        'Content generation (administrative writing)',\n",
    "        'Content generation (brainstorming / ideation)',\n",
    "        'Content generation (code documentation)',\n",
    "    ],\n",
    "    \"Translation\": [\n",
    "        'Translation (language to language)',\n",
    "    ],\n",
    "    \"Editorial & Formatting\": [\n",
    "        'Editorial & formatting (Content expansion)',\n",
    "        'Editorial & formatting (Content summarization)',\n",
    "        'Editorial & formatting (Natural language content editing)',\n",
    "        'Editorial & formatting (Information processing & re-formatting)',\n",
    "        'Editorial & formatting (Code style and re-formatting)',\n",
    "        'Editorial & formatting (Natural language style or re-formatting)',\n",
    "        'Editorial & formatting (Code content editing)',\n",
    "    ],\n",
    "    \"Role-play / Social Simulation\": [\n",
    "        'Role-play / social simulation (romantic companion)',\n",
    "        'Role-play / social simulation (platonic companion / friend)',\n",
    "        'Role-play / social simulation (simulation of real person / celebrity)',\n",
    "        'Role-play / social simulation (therapist / coach)',\n",
    "    ],\n",
    "    \"Reasoning\": [\n",
    "        'Reasoning (Other general problem solving)',\n",
    "        'Reasoning (Mathematical or numerical problem solving)',\n",
    "        'Reasoning (Verbal problems, logic games, puzzles or riddles)',\n",
    "    ],\n",
    "    \"Other / No Clear Task\": [\n",
    "        'No clear task',\n",
    "        'Other',\n",
    "    ]\n",
    "}\n",
    "\n",
    "data_to_compare = agg_wc\n",
    "if parent_dict is not None:\n",
    "      grouped_data_to_compare = {\n",
    "          name: group_into_larger_categories(agg_wc, parent_dict=parent_dict)\n",
    "          for name, agg_wc in data_to_compare.items()\n",
    "      }\n",
    "      # Use the keys from the first dataset in grouped_data_to_compare for categories\n",
    "      categories = list(next(iter(grouped_data_to_compare.values())).keys())\n",
    "      data_to_compare = grouped_data_to_compare\n",
    "      agg_wc = grouped_data_to_compare"
   ]
  },
  {
   "cell_type": "code",
   "execution_count": 105,
   "id": "97a1e64b",
   "metadata": {},
   "outputs": [
    {
     "data": {
      "application/vnd.plotly.v1+json": {
       "config": {
        "plotlyServerURL": "https://plot.ly"
       },
       "data": [
        {
         "coloraxis": "coloraxis",
         "hovertemplate": "x: %{x}<br>y: %{y}<br>color: %{z}<extra></extra>",
         "name": "0",
         "texttemplate": "%{z}",
         "type": "heatmap",
         "x": [
          "Advice, Guidance, & Recommendations",
          "Content Generation",
          "Editorial & Formatting",
          "Information Analysis",
          "Information Retrieval",
          "Other",
          "Other / No Clear Task",
          "Reasoning",
          "Role-play / Social Simulation",
          "Translation"
         ],
         "xaxis": "x",
         "y": [
          "Humanity's Last Exam",
          "MMLU"
         ],
         "yaxis": "y",
         "z": {
          "bdata": "N/9i+1X/t/+k/wAAGf/RAsz/yv80/zv7U/8YANf/AAAG/6YCy//K/w==",
          "dtype": "i2",
          "shape": "2, 10"
         }
        }
       ],
       "layout": {
        "coloraxis": {
         "cmax": 1000,
         "cmin": -1000,
         "colorscale": [
          [
           0,
           "darkblue"
          ],
          [
           0.4,
           "lightsteelblue"
          ],
          [
           0.5,
           "lightgrey"
          ],
          [
           0.9,
           "salmon"
          ],
          [
           1,
           "red"
          ]
         ]
        },
        "height": 600,
        "margin": {
         "t": 60
        },
        "template": {
         "data": {
          "bar": [
           {
            "error_x": {
             "color": "#2a3f5f"
            },
            "error_y": {
             "color": "#2a3f5f"
            },
            "marker": {
             "line": {
              "color": "#E5ECF6",
              "width": 0.5
             },
             "pattern": {
              "fillmode": "overlay",
              "size": 10,
              "solidity": 0.2
             }
            },
            "type": "bar"
           }
          ],
          "barpolar": [
           {
            "marker": {
             "line": {
              "color": "#E5ECF6",
              "width": 0.5
             },
             "pattern": {
              "fillmode": "overlay",
              "size": 10,
              "solidity": 0.2
             }
            },
            "type": "barpolar"
           }
          ],
          "carpet": [
           {
            "aaxis": {
             "endlinecolor": "#2a3f5f",
             "gridcolor": "white",
             "linecolor": "white",
             "minorgridcolor": "white",
             "startlinecolor": "#2a3f5f"
            },
            "baxis": {
             "endlinecolor": "#2a3f5f",
             "gridcolor": "white",
             "linecolor": "white",
             "minorgridcolor": "white",
             "startlinecolor": "#2a3f5f"
            },
            "type": "carpet"
           }
          ],
          "choropleth": [
           {
            "colorbar": {
             "outlinewidth": 0,
             "ticks": ""
            },
            "type": "choropleth"
           }
          ],
          "contour": [
           {
            "colorbar": {
             "outlinewidth": 0,
             "ticks": ""
            },
            "colorscale": [
             [
              0,
              "#0d0887"
             ],
             [
              0.1111111111111111,
              "#46039f"
             ],
             [
              0.2222222222222222,
              "#7201a8"
             ],
             [
              0.3333333333333333,
              "#9c179e"
             ],
             [
              0.4444444444444444,
              "#bd3786"
             ],
             [
              0.5555555555555556,
              "#d8576b"
             ],
             [
              0.6666666666666666,
              "#ed7953"
             ],
             [
              0.7777777777777778,
              "#fb9f3a"
             ],
             [
              0.8888888888888888,
              "#fdca26"
             ],
             [
              1,
              "#f0f921"
             ]
            ],
            "type": "contour"
           }
          ],
          "contourcarpet": [
           {
            "colorbar": {
             "outlinewidth": 0,
             "ticks": ""
            },
            "type": "contourcarpet"
           }
          ],
          "heatmap": [
           {
            "colorbar": {
             "outlinewidth": 0,
             "ticks": ""
            },
            "colorscale": [
             [
              0,
              "#0d0887"
             ],
             [
              0.1111111111111111,
              "#46039f"
             ],
             [
              0.2222222222222222,
              "#7201a8"
             ],
             [
              0.3333333333333333,
              "#9c179e"
             ],
             [
              0.4444444444444444,
              "#bd3786"
             ],
             [
              0.5555555555555556,
              "#d8576b"
             ],
             [
              0.6666666666666666,
              "#ed7953"
             ],
             [
              0.7777777777777778,
              "#fb9f3a"
             ],
             [
              0.8888888888888888,
              "#fdca26"
             ],
             [
              1,
              "#f0f921"
             ]
            ],
            "type": "heatmap"
           }
          ],
          "histogram": [
           {
            "marker": {
             "pattern": {
              "fillmode": "overlay",
              "size": 10,
              "solidity": 0.2
             }
            },
            "type": "histogram"
           }
          ],
          "histogram2d": [
           {
            "colorbar": {
             "outlinewidth": 0,
             "ticks": ""
            },
            "colorscale": [
             [
              0,
              "#0d0887"
             ],
             [
              0.1111111111111111,
              "#46039f"
             ],
             [
              0.2222222222222222,
              "#7201a8"
             ],
             [
              0.3333333333333333,
              "#9c179e"
             ],
             [
              0.4444444444444444,
              "#bd3786"
             ],
             [
              0.5555555555555556,
              "#d8576b"
             ],
             [
              0.6666666666666666,
              "#ed7953"
             ],
             [
              0.7777777777777778,
              "#fb9f3a"
             ],
             [
              0.8888888888888888,
              "#fdca26"
             ],
             [
              1,
              "#f0f921"
             ]
            ],
            "type": "histogram2d"
           }
          ],
          "histogram2dcontour": [
           {
            "colorbar": {
             "outlinewidth": 0,
             "ticks": ""
            },
            "colorscale": [
             [
              0,
              "#0d0887"
             ],
             [
              0.1111111111111111,
              "#46039f"
             ],
             [
              0.2222222222222222,
              "#7201a8"
             ],
             [
              0.3333333333333333,
              "#9c179e"
             ],
             [
              0.4444444444444444,
              "#bd3786"
             ],
             [
              0.5555555555555556,
              "#d8576b"
             ],
             [
              0.6666666666666666,
              "#ed7953"
             ],
             [
              0.7777777777777778,
              "#fb9f3a"
             ],
             [
              0.8888888888888888,
              "#fdca26"
             ],
             [
              1,
              "#f0f921"
             ]
            ],
            "type": "histogram2dcontour"
           }
          ],
          "mesh3d": [
           {
            "colorbar": {
             "outlinewidth": 0,
             "ticks": ""
            },
            "type": "mesh3d"
           }
          ],
          "parcoords": [
           {
            "line": {
             "colorbar": {
              "outlinewidth": 0,
              "ticks": ""
             }
            },
            "type": "parcoords"
           }
          ],
          "pie": [
           {
            "automargin": true,
            "type": "pie"
           }
          ],
          "scatter": [
           {
            "fillpattern": {
             "fillmode": "overlay",
             "size": 10,
             "solidity": 0.2
            },
            "type": "scatter"
           }
          ],
          "scatter3d": [
           {
            "line": {
             "colorbar": {
              "outlinewidth": 0,
              "ticks": ""
             }
            },
            "marker": {
             "colorbar": {
              "outlinewidth": 0,
              "ticks": ""
             }
            },
            "type": "scatter3d"
           }
          ],
          "scattercarpet": [
           {
            "marker": {
             "colorbar": {
              "outlinewidth": 0,
              "ticks": ""
             }
            },
            "type": "scattercarpet"
           }
          ],
          "scattergeo": [
           {
            "marker": {
             "colorbar": {
              "outlinewidth": 0,
              "ticks": ""
             }
            },
            "type": "scattergeo"
           }
          ],
          "scattergl": [
           {
            "marker": {
             "colorbar": {
              "outlinewidth": 0,
              "ticks": ""
             }
            },
            "type": "scattergl"
           }
          ],
          "scattermap": [
           {
            "marker": {
             "colorbar": {
              "outlinewidth": 0,
              "ticks": ""
             }
            },
            "type": "scattermap"
           }
          ],
          "scattermapbox": [
           {
            "marker": {
             "colorbar": {
              "outlinewidth": 0,
              "ticks": ""
             }
            },
            "type": "scattermapbox"
           }
          ],
          "scatterpolar": [
           {
            "marker": {
             "colorbar": {
              "outlinewidth": 0,
              "ticks": ""
             }
            },
            "type": "scatterpolar"
           }
          ],
          "scatterpolargl": [
           {
            "marker": {
             "colorbar": {
              "outlinewidth": 0,
              "ticks": ""
             }
            },
            "type": "scatterpolargl"
           }
          ],
          "scatterternary": [
           {
            "marker": {
             "colorbar": {
              "outlinewidth": 0,
              "ticks": ""
             }
            },
            "type": "scatterternary"
           }
          ],
          "surface": [
           {
            "colorbar": {
             "outlinewidth": 0,
             "ticks": ""
            },
            "colorscale": [
             [
              0,
              "#0d0887"
             ],
             [
              0.1111111111111111,
              "#46039f"
             ],
             [
              0.2222222222222222,
              "#7201a8"
             ],
             [
              0.3333333333333333,
              "#9c179e"
             ],
             [
              0.4444444444444444,
              "#bd3786"
             ],
             [
              0.5555555555555556,
              "#d8576b"
             ],
             [
              0.6666666666666666,
              "#ed7953"
             ],
             [
              0.7777777777777778,
              "#fb9f3a"
             ],
             [
              0.8888888888888888,
              "#fdca26"
             ],
             [
              1,
              "#f0f921"
             ]
            ],
            "type": "surface"
           }
          ],
          "table": [
           {
            "cells": {
             "fill": {
              "color": "#EBF0F8"
             },
             "line": {
              "color": "white"
             }
            },
            "header": {
             "fill": {
              "color": "#C8D4E3"
             },
             "line": {
              "color": "white"
             }
            },
            "type": "table"
           }
          ]
         },
         "layout": {
          "annotationdefaults": {
           "arrowcolor": "#2a3f5f",
           "arrowhead": 0,
           "arrowwidth": 1
          },
          "autotypenumbers": "strict",
          "coloraxis": {
           "colorbar": {
            "outlinewidth": 0,
            "ticks": ""
           }
          },
          "colorscale": {
           "diverging": [
            [
             0,
             "#8e0152"
            ],
            [
             0.1,
             "#c51b7d"
            ],
            [
             0.2,
             "#de77ae"
            ],
            [
             0.3,
             "#f1b6da"
            ],
            [
             0.4,
             "#fde0ef"
            ],
            [
             0.5,
             "#f7f7f7"
            ],
            [
             0.6,
             "#e6f5d0"
            ],
            [
             0.7,
             "#b8e186"
            ],
            [
             0.8,
             "#7fbc41"
            ],
            [
             0.9,
             "#4d9221"
            ],
            [
             1,
             "#276419"
            ]
           ],
           "sequential": [
            [
             0,
             "#0d0887"
            ],
            [
             0.1111111111111111,
             "#46039f"
            ],
            [
             0.2222222222222222,
             "#7201a8"
            ],
            [
             0.3333333333333333,
             "#9c179e"
            ],
            [
             0.4444444444444444,
             "#bd3786"
            ],
            [
             0.5555555555555556,
             "#d8576b"
            ],
            [
             0.6666666666666666,
             "#ed7953"
            ],
            [
             0.7777777777777778,
             "#fb9f3a"
            ],
            [
             0.8888888888888888,
             "#fdca26"
            ],
            [
             1,
             "#f0f921"
            ]
           ],
           "sequentialminus": [
            [
             0,
             "#0d0887"
            ],
            [
             0.1111111111111111,
             "#46039f"
            ],
            [
             0.2222222222222222,
             "#7201a8"
            ],
            [
             0.3333333333333333,
             "#9c179e"
            ],
            [
             0.4444444444444444,
             "#bd3786"
            ],
            [
             0.5555555555555556,
             "#d8576b"
            ],
            [
             0.6666666666666666,
             "#ed7953"
            ],
            [
             0.7777777777777778,
             "#fb9f3a"
            ],
            [
             0.8888888888888888,
             "#fdca26"
            ],
            [
             1,
             "#f0f921"
            ]
           ]
          },
          "colorway": [
           "#636efa",
           "#EF553B",
           "#00cc96",
           "#ab63fa",
           "#FFA15A",
           "#19d3f3",
           "#FF6692",
           "#B6E880",
           "#FF97FF",
           "#FECB52"
          ],
          "font": {
           "color": "#2a3f5f"
          },
          "geo": {
           "bgcolor": "white",
           "lakecolor": "white",
           "landcolor": "#E5ECF6",
           "showlakes": true,
           "showland": true,
           "subunitcolor": "white"
          },
          "hoverlabel": {
           "align": "left"
          },
          "hovermode": "closest",
          "mapbox": {
           "style": "light"
          },
          "paper_bgcolor": "white",
          "plot_bgcolor": "#E5ECF6",
          "polar": {
           "angularaxis": {
            "gridcolor": "white",
            "linecolor": "white",
            "ticks": ""
           },
           "bgcolor": "#E5ECF6",
           "radialaxis": {
            "gridcolor": "white",
            "linecolor": "white",
            "ticks": ""
           }
          },
          "scene": {
           "xaxis": {
            "backgroundcolor": "#E5ECF6",
            "gridcolor": "white",
            "gridwidth": 2,
            "linecolor": "white",
            "showbackground": true,
            "ticks": "",
            "zerolinecolor": "white"
           },
           "yaxis": {
            "backgroundcolor": "#E5ECF6",
            "gridcolor": "white",
            "gridwidth": 2,
            "linecolor": "white",
            "showbackground": true,
            "ticks": "",
            "zerolinecolor": "white"
           },
           "zaxis": {
            "backgroundcolor": "#E5ECF6",
            "gridcolor": "white",
            "gridwidth": 2,
            "linecolor": "white",
            "showbackground": true,
            "ticks": "",
            "zerolinecolor": "white"
           }
          },
          "shapedefaults": {
           "line": {
            "color": "#2a3f5f"
           }
          },
          "ternary": {
           "aaxis": {
            "gridcolor": "white",
            "linecolor": "white",
            "ticks": ""
           },
           "baxis": {
            "gridcolor": "white",
            "linecolor": "white",
            "ticks": ""
           },
           "bgcolor": "#E5ECF6",
           "caxis": {
            "gridcolor": "white",
            "linecolor": "white",
            "ticks": ""
           }
          },
          "title": {
           "x": 0.05
          },
          "xaxis": {
           "automargin": true,
           "gridcolor": "white",
           "linecolor": "white",
           "ticks": "",
           "title": {
            "standoff": 15
           },
           "zerolinecolor": "white",
           "zerolinewidth": 2
          },
          "yaxis": {
           "automargin": true,
           "gridcolor": "white",
           "linecolor": "white",
           "ticks": "",
           "title": {
            "standoff": 15
           },
           "zerolinecolor": "white",
           "zerolinewidth": 2
          }
         }
        },
        "title": {
         "text": "Benchmark Purposes Compared to Natural Use",
         "x": 0.5
        },
        "width": 2000,
        "xaxis": {
         "anchor": "y",
         "constrain": "domain",
         "domain": [
          0,
          1
         ],
         "scaleanchor": "y",
         "side": "top",
         "tickangle": 0,
         "ticktext": [
          "Advice, Guidance, &<br> Recommendations",
          "Content Generation",
          "Editorial &<br> Formatting",
          "Information Analysis",
          "Information Retrieval",
          "Other",
          "Other / No Clear Task",
          "Reasoning",
          "Role-play / Social Simulation",
          "Translation"
         ],
         "tickvals": [
          0,
          1,
          2,
          3,
          4,
          5,
          6,
          7,
          8,
          9
         ],
         "title": {
          "font": {
           "size": 24
          }
         }
        },
        "yaxis": {
         "anchor": "x",
         "autorange": "reversed",
         "constrain": "domain",
         "domain": [
          0,
          1
         ],
         "title": {
          "font": {
           "size": 24
          }
         }
        }
       }
      }
     },
     "metadata": {},
     "output_type": "display_data"
    }
   ],
   "source": [
    "import plotly.express as px\n",
    "\n",
    "# Data \n",
    "baseline = agg_wc[\"WildChat\"]\n",
    "\n",
    "comparisons = {\n",
    "   #  \"WildChat (Baseline)\": baseline,\n",
    "    \"Humanity's Last Exam\": agg_wc[\"Humanity's Last Exam\"],\n",
    "    \"MMLU\": agg_wc[\"MMLU\"]\n",
    "}\n",
    "\n",
    "def make_heatmap(comparisons, baseline, title, width):\n",
    "    all_keys = set(baseline.keys())\n",
    "    for comp_dict in comparisons.values():\n",
    "        all_keys.update(comp_dict.keys())\n",
    "\n",
    "    # Ensure all dicts have all keys, fill missing with 0\n",
    "    baseline = {k: baseline.get(k, 0) for k in sorted(all_keys)}\n",
    "    for name in comparisons:\n",
    "        comparisons[name] = {k: comparisons[name].get(k, 0) for k in sorted(all_keys)}\n",
    "\n",
    "    # Create a matrix where each row is the difference between a comparison dict and baseline\n",
    "\n",
    "    z = []\n",
    "    names = []\n",
    "    for name, comp in comparisons.items():\n",
    "        diff = {k: (comp[k] - baseline[k] ) for k in baseline.keys()}\n",
    "        z.append([diff[k] for k in sorted(diff.keys())])\n",
    "        names.append(name)\n",
    "\n",
    "\n",
    "    # Custom colorscale for range -2000 to 2000, with 0 as grey\n",
    "    colorscale = [\n",
    "        [0.0, \"darkblue\"],        # -2000\n",
    "        [0.4, \"lightsteelblue\"], # -1000\n",
    "        [0.5, \"lightgrey\"],       # 0\n",
    "        [0.9, \"salmon\"],         # +1000\n",
    "        [1.0, \"red\"]              # +2000\n",
    "    ]\n",
    "\n",
    "    fig = px.imshow(\n",
    "        z,\n",
    "        text_auto=True,\n",
    "        x=sorted(baseline.keys()),\n",
    "        y=names,\n",
    "        color_continuous_scale=colorscale,\n",
    "        zmin=-1000,\n",
    "        zmax=1000\n",
    "    )\n",
    "\n",
    "    fig.update_layout(coloraxis_colorscale=colorscale)\n",
    "    fig.update_xaxes(tickangle=0)\n",
    "    fig.update_xaxes(\n",
    "        ticktext=[\n",
    "            label.replace(' and ', ' and<br>').replace('&', '&<br>') if 'and' in label else label.replace('&', '&<br>')\n",
    "            for label in fig.layout.xaxis.ticktext or fig.data[0].x\n",
    "        ],\n",
    "        tickvals=list(range(len(fig.data[0].x)))\n",
    "    )\n",
    "    fig.update_xaxes(title_font=dict(size=24))\n",
    "    fig.update_yaxes(title_font=dict(size=24))\n",
    "    fig.update_layout(\n",
    "        width=width,\n",
    "        height=600\n",
    "    )\n",
    "    fig.update_layout(title_text=title, title_x=0.5)\n",
    "    fig.update_layout(xaxis_side=\"top\")\n",
    "\n",
    "    fig.show()\n",
    "\n",
    "make_heatmap(comparisons, baseline, title = \"Benchmark Purposes Compared to Natural Use\", width =2000)"
   ]
  },
  {
   "cell_type": "code",
   "execution_count": 101,
   "id": "71dc26e7",
   "metadata": {},
   "outputs": [
    {
     "data": {
      "application/vnd.plotly.v1+json": {
       "config": {
        "plotlyServerURL": "https://plot.ly"
       },
       "data": [
        {
         "coloraxis": "coloraxis",
         "hovertemplate": "x: %{x}<br>y: %{y}<br>color: %{z}<extra></extra>",
         "name": "0",
         "texttemplate": "%{z}",
         "type": "heatmap",
         "x": [
          "Companionship",
          "Courtesy/Politeness",
          "Jailbreak attempt",
          "Reinforcement/Praise/Scolding",
          "Role-assignment"
         ],
         "xaxis": "x",
         "y": [
          "Humanity's Last Exam",
          "MMLU"
         ],
         "yaxis": "y",
         "z": {
          "bdata": "+v9K/+D/3f8w//r/Qf/f/93/Lv8=",
          "dtype": "i2",
          "shape": "2, 5"
         }
        }
       ],
       "layout": {
        "coloraxis": {
         "cmax": 1000,
         "cmin": -1000,
         "colorscale": [
          [
           0,
           "darkblue"
          ],
          [
           0.4,
           "lightsteelblue"
          ],
          [
           0.5,
           "lightgrey"
          ],
          [
           0.9,
           "salmon"
          ],
          [
           1,
           "red"
          ]
         ]
        },
        "height": 600,
        "margin": {
         "t": 60
        },
        "template": {
         "data": {
          "bar": [
           {
            "error_x": {
             "color": "#2a3f5f"
            },
            "error_y": {
             "color": "#2a3f5f"
            },
            "marker": {
             "line": {
              "color": "#E5ECF6",
              "width": 0.5
             },
             "pattern": {
              "fillmode": "overlay",
              "size": 10,
              "solidity": 0.2
             }
            },
            "type": "bar"
           }
          ],
          "barpolar": [
           {
            "marker": {
             "line": {
              "color": "#E5ECF6",
              "width": 0.5
             },
             "pattern": {
              "fillmode": "overlay",
              "size": 10,
              "solidity": 0.2
             }
            },
            "type": "barpolar"
           }
          ],
          "carpet": [
           {
            "aaxis": {
             "endlinecolor": "#2a3f5f",
             "gridcolor": "white",
             "linecolor": "white",
             "minorgridcolor": "white",
             "startlinecolor": "#2a3f5f"
            },
            "baxis": {
             "endlinecolor": "#2a3f5f",
             "gridcolor": "white",
             "linecolor": "white",
             "minorgridcolor": "white",
             "startlinecolor": "#2a3f5f"
            },
            "type": "carpet"
           }
          ],
          "choropleth": [
           {
            "colorbar": {
             "outlinewidth": 0,
             "ticks": ""
            },
            "type": "choropleth"
           }
          ],
          "contour": [
           {
            "colorbar": {
             "outlinewidth": 0,
             "ticks": ""
            },
            "colorscale": [
             [
              0,
              "#0d0887"
             ],
             [
              0.1111111111111111,
              "#46039f"
             ],
             [
              0.2222222222222222,
              "#7201a8"
             ],
             [
              0.3333333333333333,
              "#9c179e"
             ],
             [
              0.4444444444444444,
              "#bd3786"
             ],
             [
              0.5555555555555556,
              "#d8576b"
             ],
             [
              0.6666666666666666,
              "#ed7953"
             ],
             [
              0.7777777777777778,
              "#fb9f3a"
             ],
             [
              0.8888888888888888,
              "#fdca26"
             ],
             [
              1,
              "#f0f921"
             ]
            ],
            "type": "contour"
           }
          ],
          "contourcarpet": [
           {
            "colorbar": {
             "outlinewidth": 0,
             "ticks": ""
            },
            "type": "contourcarpet"
           }
          ],
          "heatmap": [
           {
            "colorbar": {
             "outlinewidth": 0,
             "ticks": ""
            },
            "colorscale": [
             [
              0,
              "#0d0887"
             ],
             [
              0.1111111111111111,
              "#46039f"
             ],
             [
              0.2222222222222222,
              "#7201a8"
             ],
             [
              0.3333333333333333,
              "#9c179e"
             ],
             [
              0.4444444444444444,
              "#bd3786"
             ],
             [
              0.5555555555555556,
              "#d8576b"
             ],
             [
              0.6666666666666666,
              "#ed7953"
             ],
             [
              0.7777777777777778,
              "#fb9f3a"
             ],
             [
              0.8888888888888888,
              "#fdca26"
             ],
             [
              1,
              "#f0f921"
             ]
            ],
            "type": "heatmap"
           }
          ],
          "histogram": [
           {
            "marker": {
             "pattern": {
              "fillmode": "overlay",
              "size": 10,
              "solidity": 0.2
             }
            },
            "type": "histogram"
           }
          ],
          "histogram2d": [
           {
            "colorbar": {
             "outlinewidth": 0,
             "ticks": ""
            },
            "colorscale": [
             [
              0,
              "#0d0887"
             ],
             [
              0.1111111111111111,
              "#46039f"
             ],
             [
              0.2222222222222222,
              "#7201a8"
             ],
             [
              0.3333333333333333,
              "#9c179e"
             ],
             [
              0.4444444444444444,
              "#bd3786"
             ],
             [
              0.5555555555555556,
              "#d8576b"
             ],
             [
              0.6666666666666666,
              "#ed7953"
             ],
             [
              0.7777777777777778,
              "#fb9f3a"
             ],
             [
              0.8888888888888888,
              "#fdca26"
             ],
             [
              1,
              "#f0f921"
             ]
            ],
            "type": "histogram2d"
           }
          ],
          "histogram2dcontour": [
           {
            "colorbar": {
             "outlinewidth": 0,
             "ticks": ""
            },
            "colorscale": [
             [
              0,
              "#0d0887"
             ],
             [
              0.1111111111111111,
              "#46039f"
             ],
             [
              0.2222222222222222,
              "#7201a8"
             ],
             [
              0.3333333333333333,
              "#9c179e"
             ],
             [
              0.4444444444444444,
              "#bd3786"
             ],
             [
              0.5555555555555556,
              "#d8576b"
             ],
             [
              0.6666666666666666,
              "#ed7953"
             ],
             [
              0.7777777777777778,
              "#fb9f3a"
             ],
             [
              0.8888888888888888,
              "#fdca26"
             ],
             [
              1,
              "#f0f921"
             ]
            ],
            "type": "histogram2dcontour"
           }
          ],
          "mesh3d": [
           {
            "colorbar": {
             "outlinewidth": 0,
             "ticks": ""
            },
            "type": "mesh3d"
           }
          ],
          "parcoords": [
           {
            "line": {
             "colorbar": {
              "outlinewidth": 0,
              "ticks": ""
             }
            },
            "type": "parcoords"
           }
          ],
          "pie": [
           {
            "automargin": true,
            "type": "pie"
           }
          ],
          "scatter": [
           {
            "fillpattern": {
             "fillmode": "overlay",
             "size": 10,
             "solidity": 0.2
            },
            "type": "scatter"
           }
          ],
          "scatter3d": [
           {
            "line": {
             "colorbar": {
              "outlinewidth": 0,
              "ticks": ""
             }
            },
            "marker": {
             "colorbar": {
              "outlinewidth": 0,
              "ticks": ""
             }
            },
            "type": "scatter3d"
           }
          ],
          "scattercarpet": [
           {
            "marker": {
             "colorbar": {
              "outlinewidth": 0,
              "ticks": ""
             }
            },
            "type": "scattercarpet"
           }
          ],
          "scattergeo": [
           {
            "marker": {
             "colorbar": {
              "outlinewidth": 0,
              "ticks": ""
             }
            },
            "type": "scattergeo"
           }
          ],
          "scattergl": [
           {
            "marker": {
             "colorbar": {
              "outlinewidth": 0,
              "ticks": ""
             }
            },
            "type": "scattergl"
           }
          ],
          "scattermap": [
           {
            "marker": {
             "colorbar": {
              "outlinewidth": 0,
              "ticks": ""
             }
            },
            "type": "scattermap"
           }
          ],
          "scattermapbox": [
           {
            "marker": {
             "colorbar": {
              "outlinewidth": 0,
              "ticks": ""
             }
            },
            "type": "scattermapbox"
           }
          ],
          "scatterpolar": [
           {
            "marker": {
             "colorbar": {
              "outlinewidth": 0,
              "ticks": ""
             }
            },
            "type": "scatterpolar"
           }
          ],
          "scatterpolargl": [
           {
            "marker": {
             "colorbar": {
              "outlinewidth": 0,
              "ticks": ""
             }
            },
            "type": "scatterpolargl"
           }
          ],
          "scatterternary": [
           {
            "marker": {
             "colorbar": {
              "outlinewidth": 0,
              "ticks": ""
             }
            },
            "type": "scatterternary"
           }
          ],
          "surface": [
           {
            "colorbar": {
             "outlinewidth": 0,
             "ticks": ""
            },
            "colorscale": [
             [
              0,
              "#0d0887"
             ],
             [
              0.1111111111111111,
              "#46039f"
             ],
             [
              0.2222222222222222,
              "#7201a8"
             ],
             [
              0.3333333333333333,
              "#9c179e"
             ],
             [
              0.4444444444444444,
              "#bd3786"
             ],
             [
              0.5555555555555556,
              "#d8576b"
             ],
             [
              0.6666666666666666,
              "#ed7953"
             ],
             [
              0.7777777777777778,
              "#fb9f3a"
             ],
             [
              0.8888888888888888,
              "#fdca26"
             ],
             [
              1,
              "#f0f921"
             ]
            ],
            "type": "surface"
           }
          ],
          "table": [
           {
            "cells": {
             "fill": {
              "color": "#EBF0F8"
             },
             "line": {
              "color": "white"
             }
            },
            "header": {
             "fill": {
              "color": "#C8D4E3"
             },
             "line": {
              "color": "white"
             }
            },
            "type": "table"
           }
          ]
         },
         "layout": {
          "annotationdefaults": {
           "arrowcolor": "#2a3f5f",
           "arrowhead": 0,
           "arrowwidth": 1
          },
          "autotypenumbers": "strict",
          "coloraxis": {
           "colorbar": {
            "outlinewidth": 0,
            "ticks": ""
           }
          },
          "colorscale": {
           "diverging": [
            [
             0,
             "#8e0152"
            ],
            [
             0.1,
             "#c51b7d"
            ],
            [
             0.2,
             "#de77ae"
            ],
            [
             0.3,
             "#f1b6da"
            ],
            [
             0.4,
             "#fde0ef"
            ],
            [
             0.5,
             "#f7f7f7"
            ],
            [
             0.6,
             "#e6f5d0"
            ],
            [
             0.7,
             "#b8e186"
            ],
            [
             0.8,
             "#7fbc41"
            ],
            [
             0.9,
             "#4d9221"
            ],
            [
             1,
             "#276419"
            ]
           ],
           "sequential": [
            [
             0,
             "#0d0887"
            ],
            [
             0.1111111111111111,
             "#46039f"
            ],
            [
             0.2222222222222222,
             "#7201a8"
            ],
            [
             0.3333333333333333,
             "#9c179e"
            ],
            [
             0.4444444444444444,
             "#bd3786"
            ],
            [
             0.5555555555555556,
             "#d8576b"
            ],
            [
             0.6666666666666666,
             "#ed7953"
            ],
            [
             0.7777777777777778,
             "#fb9f3a"
            ],
            [
             0.8888888888888888,
             "#fdca26"
            ],
            [
             1,
             "#f0f921"
            ]
           ],
           "sequentialminus": [
            [
             0,
             "#0d0887"
            ],
            [
             0.1111111111111111,
             "#46039f"
            ],
            [
             0.2222222222222222,
             "#7201a8"
            ],
            [
             0.3333333333333333,
             "#9c179e"
            ],
            [
             0.4444444444444444,
             "#bd3786"
            ],
            [
             0.5555555555555556,
             "#d8576b"
            ],
            [
             0.6666666666666666,
             "#ed7953"
            ],
            [
             0.7777777777777778,
             "#fb9f3a"
            ],
            [
             0.8888888888888888,
             "#fdca26"
            ],
            [
             1,
             "#f0f921"
            ]
           ]
          },
          "colorway": [
           "#636efa",
           "#EF553B",
           "#00cc96",
           "#ab63fa",
           "#FFA15A",
           "#19d3f3",
           "#FF6692",
           "#B6E880",
           "#FF97FF",
           "#FECB52"
          ],
          "font": {
           "color": "#2a3f5f"
          },
          "geo": {
           "bgcolor": "white",
           "lakecolor": "white",
           "landcolor": "#E5ECF6",
           "showlakes": true,
           "showland": true,
           "subunitcolor": "white"
          },
          "hoverlabel": {
           "align": "left"
          },
          "hovermode": "closest",
          "mapbox": {
           "style": "light"
          },
          "paper_bgcolor": "white",
          "plot_bgcolor": "#E5ECF6",
          "polar": {
           "angularaxis": {
            "gridcolor": "white",
            "linecolor": "white",
            "ticks": ""
           },
           "bgcolor": "#E5ECF6",
           "radialaxis": {
            "gridcolor": "white",
            "linecolor": "white",
            "ticks": ""
           }
          },
          "scene": {
           "xaxis": {
            "backgroundcolor": "#E5ECF6",
            "gridcolor": "white",
            "gridwidth": 2,
            "linecolor": "white",
            "showbackground": true,
            "ticks": "",
            "zerolinecolor": "white"
           },
           "yaxis": {
            "backgroundcolor": "#E5ECF6",
            "gridcolor": "white",
            "gridwidth": 2,
            "linecolor": "white",
            "showbackground": true,
            "ticks": "",
            "zerolinecolor": "white"
           },
           "zaxis": {
            "backgroundcolor": "#E5ECF6",
            "gridcolor": "white",
            "gridwidth": 2,
            "linecolor": "white",
            "showbackground": true,
            "ticks": "",
            "zerolinecolor": "white"
           }
          },
          "shapedefaults": {
           "line": {
            "color": "#2a3f5f"
           }
          },
          "ternary": {
           "aaxis": {
            "gridcolor": "white",
            "linecolor": "white",
            "ticks": ""
           },
           "baxis": {
            "gridcolor": "white",
            "linecolor": "white",
            "ticks": ""
           },
           "bgcolor": "#E5ECF6",
           "caxis": {
            "gridcolor": "white",
            "linecolor": "white",
            "ticks": ""
           }
          },
          "title": {
           "x": 0.05
          },
          "xaxis": {
           "automargin": true,
           "gridcolor": "white",
           "linecolor": "white",
           "ticks": "",
           "title": {
            "standoff": 15
           },
           "zerolinecolor": "white",
           "zerolinewidth": 2
          },
          "yaxis": {
           "automargin": true,
           "gridcolor": "white",
           "linecolor": "white",
           "ticks": "",
           "title": {
            "standoff": 15
           },
           "zerolinecolor": "white",
           "zerolinewidth": 2
          }
         }
        },
        "title": {
         "text": "Benchmark Interaction Features Compared to Natural Use",
         "x": 0.5
        },
        "width": 1500,
        "xaxis": {
         "anchor": "y",
         "constrain": "domain",
         "domain": [
          0,
          1
         ],
         "scaleanchor": "y",
         "side": "top",
         "tickangle": 0,
         "ticktext": [
          "Companionship",
          "Courtesy/Politeness",
          "Jailbreak attempt",
          "Reinforcement/Praise/Scolding",
          "Role-assignment"
         ],
         "tickvals": [
          0,
          1,
          2,
          3,
          4
         ],
         "title": {
          "font": {
           "size": 24
          }
         }
        },
        "yaxis": {
         "anchor": "x",
         "autorange": "reversed",
         "constrain": "domain",
         "domain": [
          0,
          1
         ],
         "title": {
          "font": {
           "size": 24
          }
         }
        }
       }
      }
     },
     "metadata": {},
     "output_type": "display_data"
    }
   ],
   "source": [
    "interactions = {'WildChat': {'Courtesy/Politeness': 191,\n",
    "  'Reinforcement/Praise/Scolding': 35,\n",
    "  'Role-assignment': 212,\n",
    "  'Jailbreak attempt': 35,\n",
    "  'Companionship': 6},\n",
    " \"Humanity's Last Exam\": {'Courtesy/Politeness': 9,\n",
    "  'Jailbreak attempt': 3,\n",
    "  'Role-assignment': 4},\n",
    " 'MMLU': {'Jailbreak attempt': 2, 'Role-assignment': 2}}\n",
    "\n",
    "comparisons = {\n",
    "    \"Humanity's Last Exam\": interactions[\"Humanity's Last Exam\"],\n",
    "    \"MMLU\": interactions[\"MMLU\"]\n",
    "}\n",
    "make_heatmap(comparisons, interactions[\"WildChat\"], title = \"Benchmark Interaction Features Compared to Natural Use\", width = 1500)\n"
   ]
  },
  {
   "cell_type": "code",
   "execution_count": 100,
   "id": "b2f553ae",
   "metadata": {},
   "outputs": [
    {
     "data": {
      "application/vnd.plotly.v1+json": {
       "config": {
        "plotlyServerURL": "https://plot.ly"
       },
       "data": [
        {
         "coloraxis": "coloraxis",
         "hovertemplate": "x: %{x}<br>y: %{y}<br>color: %{z}<extra></extra>",
         "name": "0",
         "texttemplate": "%{z}",
         "type": "heatmap",
         "x": [
          "CBRN-related outputs",
          "Criminal planning or other suspected illegal activity not listed",
          "Criminal planning or other suspected illegal activity not listed elsewhere",
          "Cyberattacks",
          "Cyberattacks (enabling/enacting malware, computer viruses, worms, malicious code, ...)",
          "Discriminatory practices (Misrepresentation, stereotyping, or inappropriate reference to sensitive attributes)",
          "Generating defamatory content",
          "Inciting violence, hateful or other harmful behavior (harassment & bullying)",
          "Inciting violence, hateful or other harmful behavior (physical harm)",
          "Inciting violence, hateful or other harmful behavior (self-harm)",
          "Misinformation",
          "Other",
          "Output misrepresentation (Automated decision-making without disclosure)",
          "Possible presence of copyrighted, unreferenced material",
          "Potential violation of external policy / ethics",
          "Privacy concerns (Possible identifiable information)",
          "Privacy concerns (Possible sensitive information)",
          "Privacy concerns (Possible sensitive information) (e.g., API keys, passwords, other confidential information)",
          "Sexually explicit content (Other)",
          "Sexually explicit content (Request/discussion of CSAM)",
          "Sexually explicit content (fictitious person)",
          "Sexually explicit content (real person)",
          "Weapons & drugs"
         ],
         "xaxis": "x",
         "y": [
          "Humanity's Last Exam",
          "MMLU"
         ],
         "yaxis": "y",
         "z": {
          "bdata": "Av/6//z1/NHrAQAAAQD/AgAAoP3b+fkH/xH//ff+2AQBAQoACgIAAgGi/tv8CA==",
          "dtype": "i1",
          "shape": "2, 23"
         }
        }
       ],
       "layout": {
        "coloraxis": {
         "cmax": 1000,
         "cmin": -1000,
         "colorscale": [
          [
           0,
           "darkblue"
          ],
          [
           0.4,
           "lightsteelblue"
          ],
          [
           0.5,
           "lightgrey"
          ],
          [
           0.9,
           "salmon"
          ],
          [
           1,
           "red"
          ]
         ]
        },
        "height": 600,
        "margin": {
         "t": 60
        },
        "template": {
         "data": {
          "bar": [
           {
            "error_x": {
             "color": "#2a3f5f"
            },
            "error_y": {
             "color": "#2a3f5f"
            },
            "marker": {
             "line": {
              "color": "#E5ECF6",
              "width": 0.5
             },
             "pattern": {
              "fillmode": "overlay",
              "size": 10,
              "solidity": 0.2
             }
            },
            "type": "bar"
           }
          ],
          "barpolar": [
           {
            "marker": {
             "line": {
              "color": "#E5ECF6",
              "width": 0.5
             },
             "pattern": {
              "fillmode": "overlay",
              "size": 10,
              "solidity": 0.2
             }
            },
            "type": "barpolar"
           }
          ],
          "carpet": [
           {
            "aaxis": {
             "endlinecolor": "#2a3f5f",
             "gridcolor": "white",
             "linecolor": "white",
             "minorgridcolor": "white",
             "startlinecolor": "#2a3f5f"
            },
            "baxis": {
             "endlinecolor": "#2a3f5f",
             "gridcolor": "white",
             "linecolor": "white",
             "minorgridcolor": "white",
             "startlinecolor": "#2a3f5f"
            },
            "type": "carpet"
           }
          ],
          "choropleth": [
           {
            "colorbar": {
             "outlinewidth": 0,
             "ticks": ""
            },
            "type": "choropleth"
           }
          ],
          "contour": [
           {
            "colorbar": {
             "outlinewidth": 0,
             "ticks": ""
            },
            "colorscale": [
             [
              0,
              "#0d0887"
             ],
             [
              0.1111111111111111,
              "#46039f"
             ],
             [
              0.2222222222222222,
              "#7201a8"
             ],
             [
              0.3333333333333333,
              "#9c179e"
             ],
             [
              0.4444444444444444,
              "#bd3786"
             ],
             [
              0.5555555555555556,
              "#d8576b"
             ],
             [
              0.6666666666666666,
              "#ed7953"
             ],
             [
              0.7777777777777778,
              "#fb9f3a"
             ],
             [
              0.8888888888888888,
              "#fdca26"
             ],
             [
              1,
              "#f0f921"
             ]
            ],
            "type": "contour"
           }
          ],
          "contourcarpet": [
           {
            "colorbar": {
             "outlinewidth": 0,
             "ticks": ""
            },
            "type": "contourcarpet"
           }
          ],
          "heatmap": [
           {
            "colorbar": {
             "outlinewidth": 0,
             "ticks": ""
            },
            "colorscale": [
             [
              0,
              "#0d0887"
             ],
             [
              0.1111111111111111,
              "#46039f"
             ],
             [
              0.2222222222222222,
              "#7201a8"
             ],
             [
              0.3333333333333333,
              "#9c179e"
             ],
             [
              0.4444444444444444,
              "#bd3786"
             ],
             [
              0.5555555555555556,
              "#d8576b"
             ],
             [
              0.6666666666666666,
              "#ed7953"
             ],
             [
              0.7777777777777778,
              "#fb9f3a"
             ],
             [
              0.8888888888888888,
              "#fdca26"
             ],
             [
              1,
              "#f0f921"
             ]
            ],
            "type": "heatmap"
           }
          ],
          "histogram": [
           {
            "marker": {
             "pattern": {
              "fillmode": "overlay",
              "size": 10,
              "solidity": 0.2
             }
            },
            "type": "histogram"
           }
          ],
          "histogram2d": [
           {
            "colorbar": {
             "outlinewidth": 0,
             "ticks": ""
            },
            "colorscale": [
             [
              0,
              "#0d0887"
             ],
             [
              0.1111111111111111,
              "#46039f"
             ],
             [
              0.2222222222222222,
              "#7201a8"
             ],
             [
              0.3333333333333333,
              "#9c179e"
             ],
             [
              0.4444444444444444,
              "#bd3786"
             ],
             [
              0.5555555555555556,
              "#d8576b"
             ],
             [
              0.6666666666666666,
              "#ed7953"
             ],
             [
              0.7777777777777778,
              "#fb9f3a"
             ],
             [
              0.8888888888888888,
              "#fdca26"
             ],
             [
              1,
              "#f0f921"
             ]
            ],
            "type": "histogram2d"
           }
          ],
          "histogram2dcontour": [
           {
            "colorbar": {
             "outlinewidth": 0,
             "ticks": ""
            },
            "colorscale": [
             [
              0,
              "#0d0887"
             ],
             [
              0.1111111111111111,
              "#46039f"
             ],
             [
              0.2222222222222222,
              "#7201a8"
             ],
             [
              0.3333333333333333,
              "#9c179e"
             ],
             [
              0.4444444444444444,
              "#bd3786"
             ],
             [
              0.5555555555555556,
              "#d8576b"
             ],
             [
              0.6666666666666666,
              "#ed7953"
             ],
             [
              0.7777777777777778,
              "#fb9f3a"
             ],
             [
              0.8888888888888888,
              "#fdca26"
             ],
             [
              1,
              "#f0f921"
             ]
            ],
            "type": "histogram2dcontour"
           }
          ],
          "mesh3d": [
           {
            "colorbar": {
             "outlinewidth": 0,
             "ticks": ""
            },
            "type": "mesh3d"
           }
          ],
          "parcoords": [
           {
            "line": {
             "colorbar": {
              "outlinewidth": 0,
              "ticks": ""
             }
            },
            "type": "parcoords"
           }
          ],
          "pie": [
           {
            "automargin": true,
            "type": "pie"
           }
          ],
          "scatter": [
           {
            "fillpattern": {
             "fillmode": "overlay",
             "size": 10,
             "solidity": 0.2
            },
            "type": "scatter"
           }
          ],
          "scatter3d": [
           {
            "line": {
             "colorbar": {
              "outlinewidth": 0,
              "ticks": ""
             }
            },
            "marker": {
             "colorbar": {
              "outlinewidth": 0,
              "ticks": ""
             }
            },
            "type": "scatter3d"
           }
          ],
          "scattercarpet": [
           {
            "marker": {
             "colorbar": {
              "outlinewidth": 0,
              "ticks": ""
             }
            },
            "type": "scattercarpet"
           }
          ],
          "scattergeo": [
           {
            "marker": {
             "colorbar": {
              "outlinewidth": 0,
              "ticks": ""
             }
            },
            "type": "scattergeo"
           }
          ],
          "scattergl": [
           {
            "marker": {
             "colorbar": {
              "outlinewidth": 0,
              "ticks": ""
             }
            },
            "type": "scattergl"
           }
          ],
          "scattermap": [
           {
            "marker": {
             "colorbar": {
              "outlinewidth": 0,
              "ticks": ""
             }
            },
            "type": "scattermap"
           }
          ],
          "scattermapbox": [
           {
            "marker": {
             "colorbar": {
              "outlinewidth": 0,
              "ticks": ""
             }
            },
            "type": "scattermapbox"
           }
          ],
          "scatterpolar": [
           {
            "marker": {
             "colorbar": {
              "outlinewidth": 0,
              "ticks": ""
             }
            },
            "type": "scatterpolar"
           }
          ],
          "scatterpolargl": [
           {
            "marker": {
             "colorbar": {
              "outlinewidth": 0,
              "ticks": ""
             }
            },
            "type": "scatterpolargl"
           }
          ],
          "scatterternary": [
           {
            "marker": {
             "colorbar": {
              "outlinewidth": 0,
              "ticks": ""
             }
            },
            "type": "scatterternary"
           }
          ],
          "surface": [
           {
            "colorbar": {
             "outlinewidth": 0,
             "ticks": ""
            },
            "colorscale": [
             [
              0,
              "#0d0887"
             ],
             [
              0.1111111111111111,
              "#46039f"
             ],
             [
              0.2222222222222222,
              "#7201a8"
             ],
             [
              0.3333333333333333,
              "#9c179e"
             ],
             [
              0.4444444444444444,
              "#bd3786"
             ],
             [
              0.5555555555555556,
              "#d8576b"
             ],
             [
              0.6666666666666666,
              "#ed7953"
             ],
             [
              0.7777777777777778,
              "#fb9f3a"
             ],
             [
              0.8888888888888888,
              "#fdca26"
             ],
             [
              1,
              "#f0f921"
             ]
            ],
            "type": "surface"
           }
          ],
          "table": [
           {
            "cells": {
             "fill": {
              "color": "#EBF0F8"
             },
             "line": {
              "color": "white"
             }
            },
            "header": {
             "fill": {
              "color": "#C8D4E3"
             },
             "line": {
              "color": "white"
             }
            },
            "type": "table"
           }
          ]
         },
         "layout": {
          "annotationdefaults": {
           "arrowcolor": "#2a3f5f",
           "arrowhead": 0,
           "arrowwidth": 1
          },
          "autotypenumbers": "strict",
          "coloraxis": {
           "colorbar": {
            "outlinewidth": 0,
            "ticks": ""
           }
          },
          "colorscale": {
           "diverging": [
            [
             0,
             "#8e0152"
            ],
            [
             0.1,
             "#c51b7d"
            ],
            [
             0.2,
             "#de77ae"
            ],
            [
             0.3,
             "#f1b6da"
            ],
            [
             0.4,
             "#fde0ef"
            ],
            [
             0.5,
             "#f7f7f7"
            ],
            [
             0.6,
             "#e6f5d0"
            ],
            [
             0.7,
             "#b8e186"
            ],
            [
             0.8,
             "#7fbc41"
            ],
            [
             0.9,
             "#4d9221"
            ],
            [
             1,
             "#276419"
            ]
           ],
           "sequential": [
            [
             0,
             "#0d0887"
            ],
            [
             0.1111111111111111,
             "#46039f"
            ],
            [
             0.2222222222222222,
             "#7201a8"
            ],
            [
             0.3333333333333333,
             "#9c179e"
            ],
            [
             0.4444444444444444,
             "#bd3786"
            ],
            [
             0.5555555555555556,
             "#d8576b"
            ],
            [
             0.6666666666666666,
             "#ed7953"
            ],
            [
             0.7777777777777778,
             "#fb9f3a"
            ],
            [
             0.8888888888888888,
             "#fdca26"
            ],
            [
             1,
             "#f0f921"
            ]
           ],
           "sequentialminus": [
            [
             0,
             "#0d0887"
            ],
            [
             0.1111111111111111,
             "#46039f"
            ],
            [
             0.2222222222222222,
             "#7201a8"
            ],
            [
             0.3333333333333333,
             "#9c179e"
            ],
            [
             0.4444444444444444,
             "#bd3786"
            ],
            [
             0.5555555555555556,
             "#d8576b"
            ],
            [
             0.6666666666666666,
             "#ed7953"
            ],
            [
             0.7777777777777778,
             "#fb9f3a"
            ],
            [
             0.8888888888888888,
             "#fdca26"
            ],
            [
             1,
             "#f0f921"
            ]
           ]
          },
          "colorway": [
           "#636efa",
           "#EF553B",
           "#00cc96",
           "#ab63fa",
           "#FFA15A",
           "#19d3f3",
           "#FF6692",
           "#B6E880",
           "#FF97FF",
           "#FECB52"
          ],
          "font": {
           "color": "#2a3f5f"
          },
          "geo": {
           "bgcolor": "white",
           "lakecolor": "white",
           "landcolor": "#E5ECF6",
           "showlakes": true,
           "showland": true,
           "subunitcolor": "white"
          },
          "hoverlabel": {
           "align": "left"
          },
          "hovermode": "closest",
          "mapbox": {
           "style": "light"
          },
          "paper_bgcolor": "white",
          "plot_bgcolor": "#E5ECF6",
          "polar": {
           "angularaxis": {
            "gridcolor": "white",
            "linecolor": "white",
            "ticks": ""
           },
           "bgcolor": "#E5ECF6",
           "radialaxis": {
            "gridcolor": "white",
            "linecolor": "white",
            "ticks": ""
           }
          },
          "scene": {
           "xaxis": {
            "backgroundcolor": "#E5ECF6",
            "gridcolor": "white",
            "gridwidth": 2,
            "linecolor": "white",
            "showbackground": true,
            "ticks": "",
            "zerolinecolor": "white"
           },
           "yaxis": {
            "backgroundcolor": "#E5ECF6",
            "gridcolor": "white",
            "gridwidth": 2,
            "linecolor": "white",
            "showbackground": true,
            "ticks": "",
            "zerolinecolor": "white"
           },
           "zaxis": {
            "backgroundcolor": "#E5ECF6",
            "gridcolor": "white",
            "gridwidth": 2,
            "linecolor": "white",
            "showbackground": true,
            "ticks": "",
            "zerolinecolor": "white"
           }
          },
          "shapedefaults": {
           "line": {
            "color": "#2a3f5f"
           }
          },
          "ternary": {
           "aaxis": {
            "gridcolor": "white",
            "linecolor": "white",
            "ticks": ""
           },
           "baxis": {
            "gridcolor": "white",
            "linecolor": "white",
            "ticks": ""
           },
           "bgcolor": "#E5ECF6",
           "caxis": {
            "gridcolor": "white",
            "linecolor": "white",
            "ticks": ""
           }
          },
          "title": {
           "x": 0.05
          },
          "xaxis": {
           "automargin": true,
           "gridcolor": "white",
           "linecolor": "white",
           "ticks": "",
           "title": {
            "standoff": 15
           },
           "zerolinecolor": "white",
           "zerolinewidth": 2
          },
          "yaxis": {
           "automargin": true,
           "gridcolor": "white",
           "linecolor": "white",
           "ticks": "",
           "title": {
            "standoff": 15
           },
           "zerolinecolor": "white",
           "zerolinewidth": 2
          }
         }
        },
        "title": {
         "text": "Sensitive Use Prevalence Compared to Natural Use",
         "x": 0.5
        },
        "width": 2000,
        "xaxis": {
         "anchor": "y",
         "constrain": "domain",
         "domain": [
          0,
          1
         ],
         "scaleanchor": "y",
         "side": "top",
         "tickangle": 0,
         "ticktext": [
          "CBRN-related outputs",
          "Criminal planning or other suspected illegal activity not listed",
          "Criminal planning or other suspected illegal activity not listed elsewhere",
          "Cyberattacks",
          "Cyberattacks (enabling/enacting malware, computer viruses, worms, malicious code, ...)",
          "Discriminatory practices (Misrepresentation, stereotyping, or inappropriate reference to sensitive attributes)",
          "Generating defamatory content",
          "Inciting violence, hateful or other harmful behavior (harassment &<br> bullying)",
          "Inciting violence, hateful or other harmful behavior (physical harm)",
          "Inciting violence, hateful or other harmful behavior (self-harm)",
          "Misinformation",
          "Other",
          "Output misrepresentation (Automated decision-making without disclosure)",
          "Possible presence of copyrighted, unreferenced material",
          "Potential violation of external policy / ethics",
          "Privacy concerns (Possible identifiable information)",
          "Privacy concerns (Possible sensitive information)",
          "Privacy concerns (Possible sensitive information) (e.g., API keys, passwords, other confidential information)",
          "Sexually explicit content (Other)",
          "Sexually explicit content (Request/discussion of CSAM)",
          "Sexually explicit content (fictitious person)",
          "Sexually explicit content (real person)",
          "Weapons &<br> drugs"
         ],
         "tickvals": [
          0,
          1,
          2,
          3,
          4,
          5,
          6,
          7,
          8,
          9,
          10,
          11,
          12,
          13,
          14,
          15,
          16,
          17,
          18,
          19,
          20,
          21,
          22
         ],
         "title": {
          "font": {
           "size": 24
          }
         }
        },
        "yaxis": {
         "anchor": "x",
         "autorange": "reversed",
         "constrain": "domain",
         "domain": [
          0,
          1
         ],
         "title": {
          "font": {
           "size": 24
          }
         }
        }
       }
      }
     },
     "metadata": {},
     "output_type": "display_data"
    }
   ],
   "source": [
    "sensitive_use = {'WildChat': {'Potential violation of external policy / ethics': 1,\n",
    "  'Sexually explicit content (Other)': 97,\n",
    "  'Weapons & drugs': 8,\n",
    "  'Inciting violence, hateful or other harmful behavior (physical harm)': 23,\n",
    "  'Cyberattacks (enabling/enacting malware, computer viruses, worms, malicious code, ...)': 6,\n",
    "  'Cyberattacks': 1,\n",
    "  'Inciting violence, hateful or other harmful behavior (harassment & bullying)': 48,\n",
    "  'Sexually explicit content (fictitious person)': 37,\n",
    "  'Sexually explicit content (Request/discussion of CSAM)': 3,\n",
    "  'Possible presence of copyrighted, unreferenced material': 2,\n",
    "  'Discriminatory practices (Misrepresentation, stereotyping, or inappropriate reference to sensitive attributes)': 14,\n",
    "  'Sexually explicit content (real person)': 7,\n",
    "  'Privacy concerns (Possible identifiable information)': 3,\n",
    "  'Generating defamatory content': 4,\n",
    "  'Criminal planning or other suspected illegal activity not listed elsewhere': 6,\n",
    "  'Privacy concerns (Possible sensitive information)': 1,\n",
    "  'Criminal planning or other suspected illegal activity not listed': 1},\n",
    " \"Humanity's Last Exam\": {'Privacy concerns (Possible identifiable information)': 5,\n",
    "  'Possible presence of copyrighted, unreferenced material': 2,\n",
    "  'Discriminatory practices (Misrepresentation, stereotyping, or inappropriate reference to sensitive attributes)': 3,\n",
    "  'CBRN-related outputs': 2,\n",
    "  'Cyberattacks (enabling/enacting malware, computer viruses, worms, malicious code, ...)': 2,\n",
    "  'Inciting violence, hateful or other harmful behavior (physical harm)': 2,\n",
    "  'Output misrepresentation (Automated decision-making without disclosure)': 1,\n",
    "  'Sexually explicit content (Other)': 1,\n",
    "  'Privacy concerns (Possible sensitive information)': 1,\n",
    "  'Inciting violence, hateful or other harmful behavior (harassment & bullying)': 1,\n",
    "  'Weapons & drugs': 1,\n",
    "  'Inciting violence, hateful or other harmful behavior (self-harm)': 1},\n",
    " 'MMLU': {'Cyberattacks (enabling/enacting malware, computer viruses, worms, malicious code, ...)': 3,\n",
    "  'Sexually explicit content (Other)': 3,\n",
    "  'Weapons & drugs': 16,\n",
    "  'CBRN-related outputs': 7,\n",
    "  'Inciting violence, hateful or other harmful behavior (physical harm)': 27,\n",
    "  'Criminal planning or other suspected illegal activity not listed elsewhere': 23,\n",
    "  'Potential violation of external policy / ethics': 3,\n",
    "  'Possible presence of copyrighted, unreferenced material': 12,\n",
    "  'Privacy concerns (Possible sensitive information)': 3,\n",
    "  'Inciting violence, hateful or other harmful behavior (self-harm)': 1,\n",
    "  'Inciting violence, hateful or other harmful behavior (harassment & bullying)': 8,\n",
    "  'Generating defamatory content': 2,\n",
    "  'Sexually explicit content (Request/discussion of CSAM)': 1,\n",
    "  'Privacy concerns (Possible identifiable information)': 3,\n",
    "  'Other': 10,\n",
    "  'Discriminatory practices (Misrepresentation, stereotyping, or inappropriate reference to sensitive attributes)': 5,\n",
    "  'Sexually explicit content (real person)': 3,\n",
    "  'Misinformation': 1,\n",
    "  'Privacy concerns (Possible sensitive information) (e.g., API keys, passwords, other confidential information)': 1}}\n",
    "\n",
    "comparisons = {\n",
    "    \"Humanity's Last Exam\": sensitive_use[\"Humanity's Last Exam\"],\n",
    "    \"MMLU\": sensitive_use[\"MMLU\"]\n",
    "}\n",
    "make_heatmap(comparisons, sensitive_use[\"WildChat\"], title = \"Sensitive Use Prevalence Compared to Natural Use\", width = 2000)"
   ]
  },
  {
   "cell_type": "code",
   "execution_count": 107,
   "id": "9e92e322",
   "metadata": {},
   "outputs": [
    {
     "data": {
      "application/vnd.plotly.v1+json": {
       "config": {
        "plotlyServerURL": "https://plot.ly"
       },
       "data": [
        {
         "coloraxis": "coloraxis",
         "hovertemplate": "x: %{x}<br>y: %{y}<br>color: %{z}<extra></extra>",
         "name": "0",
         "texttemplate": "%{z}",
         "type": "heatmap",
         "x": [
          "Adult & Sensitive Content",
          "Arts, Culture & Entertainment",
          "Business, Finance, and Economics",
          "High-Stakes Decision Making",
          "Math, Science, Engineering, and Technology",
          "News, Politics, and Current Events",
          "Other",
          "Social Sciences & Humanities",
          "Society & Lifestyle"
         ],
         "xaxis": "x",
         "y": [
          "Humanity's Last Exam",
          "MMLU"
         ],
         "yaxis": "y",
         "z": {
          "bdata": "M/88/T//N/94ALj/8v/G/iL/SP///OH/UgBD/lMA8f8RAIH/",
          "dtype": "i2",
          "shape": "2, 9"
         }
        }
       ],
       "layout": {
        "coloraxis": {
         "cmax": 1000,
         "cmin": -1000,
         "colorscale": [
          [
           0,
           "darkblue"
          ],
          [
           0.4,
           "lightsteelblue"
          ],
          [
           0.5,
           "lightgrey"
          ],
          [
           0.9,
           "salmon"
          ],
          [
           1,
           "red"
          ]
         ]
        },
        "height": 600,
        "margin": {
         "t": 60
        },
        "template": {
         "data": {
          "bar": [
           {
            "error_x": {
             "color": "#2a3f5f"
            },
            "error_y": {
             "color": "#2a3f5f"
            },
            "marker": {
             "line": {
              "color": "#E5ECF6",
              "width": 0.5
             },
             "pattern": {
              "fillmode": "overlay",
              "size": 10,
              "solidity": 0.2
             }
            },
            "type": "bar"
           }
          ],
          "barpolar": [
           {
            "marker": {
             "line": {
              "color": "#E5ECF6",
              "width": 0.5
             },
             "pattern": {
              "fillmode": "overlay",
              "size": 10,
              "solidity": 0.2
             }
            },
            "type": "barpolar"
           }
          ],
          "carpet": [
           {
            "aaxis": {
             "endlinecolor": "#2a3f5f",
             "gridcolor": "white",
             "linecolor": "white",
             "minorgridcolor": "white",
             "startlinecolor": "#2a3f5f"
            },
            "baxis": {
             "endlinecolor": "#2a3f5f",
             "gridcolor": "white",
             "linecolor": "white",
             "minorgridcolor": "white",
             "startlinecolor": "#2a3f5f"
            },
            "type": "carpet"
           }
          ],
          "choropleth": [
           {
            "colorbar": {
             "outlinewidth": 0,
             "ticks": ""
            },
            "type": "choropleth"
           }
          ],
          "contour": [
           {
            "colorbar": {
             "outlinewidth": 0,
             "ticks": ""
            },
            "colorscale": [
             [
              0,
              "#0d0887"
             ],
             [
              0.1111111111111111,
              "#46039f"
             ],
             [
              0.2222222222222222,
              "#7201a8"
             ],
             [
              0.3333333333333333,
              "#9c179e"
             ],
             [
              0.4444444444444444,
              "#bd3786"
             ],
             [
              0.5555555555555556,
              "#d8576b"
             ],
             [
              0.6666666666666666,
              "#ed7953"
             ],
             [
              0.7777777777777778,
              "#fb9f3a"
             ],
             [
              0.8888888888888888,
              "#fdca26"
             ],
             [
              1,
              "#f0f921"
             ]
            ],
            "type": "contour"
           }
          ],
          "contourcarpet": [
           {
            "colorbar": {
             "outlinewidth": 0,
             "ticks": ""
            },
            "type": "contourcarpet"
           }
          ],
          "heatmap": [
           {
            "colorbar": {
             "outlinewidth": 0,
             "ticks": ""
            },
            "colorscale": [
             [
              0,
              "#0d0887"
             ],
             [
              0.1111111111111111,
              "#46039f"
             ],
             [
              0.2222222222222222,
              "#7201a8"
             ],
             [
              0.3333333333333333,
              "#9c179e"
             ],
             [
              0.4444444444444444,
              "#bd3786"
             ],
             [
              0.5555555555555556,
              "#d8576b"
             ],
             [
              0.6666666666666666,
              "#ed7953"
             ],
             [
              0.7777777777777778,
              "#fb9f3a"
             ],
             [
              0.8888888888888888,
              "#fdca26"
             ],
             [
              1,
              "#f0f921"
             ]
            ],
            "type": "heatmap"
           }
          ],
          "histogram": [
           {
            "marker": {
             "pattern": {
              "fillmode": "overlay",
              "size": 10,
              "solidity": 0.2
             }
            },
            "type": "histogram"
           }
          ],
          "histogram2d": [
           {
            "colorbar": {
             "outlinewidth": 0,
             "ticks": ""
            },
            "colorscale": [
             [
              0,
              "#0d0887"
             ],
             [
              0.1111111111111111,
              "#46039f"
             ],
             [
              0.2222222222222222,
              "#7201a8"
             ],
             [
              0.3333333333333333,
              "#9c179e"
             ],
             [
              0.4444444444444444,
              "#bd3786"
             ],
             [
              0.5555555555555556,
              "#d8576b"
             ],
             [
              0.6666666666666666,
              "#ed7953"
             ],
             [
              0.7777777777777778,
              "#fb9f3a"
             ],
             [
              0.8888888888888888,
              "#fdca26"
             ],
             [
              1,
              "#f0f921"
             ]
            ],
            "type": "histogram2d"
           }
          ],
          "histogram2dcontour": [
           {
            "colorbar": {
             "outlinewidth": 0,
             "ticks": ""
            },
            "colorscale": [
             [
              0,
              "#0d0887"
             ],
             [
              0.1111111111111111,
              "#46039f"
             ],
             [
              0.2222222222222222,
              "#7201a8"
             ],
             [
              0.3333333333333333,
              "#9c179e"
             ],
             [
              0.4444444444444444,
              "#bd3786"
             ],
             [
              0.5555555555555556,
              "#d8576b"
             ],
             [
              0.6666666666666666,
              "#ed7953"
             ],
             [
              0.7777777777777778,
              "#fb9f3a"
             ],
             [
              0.8888888888888888,
              "#fdca26"
             ],
             [
              1,
              "#f0f921"
             ]
            ],
            "type": "histogram2dcontour"
           }
          ],
          "mesh3d": [
           {
            "colorbar": {
             "outlinewidth": 0,
             "ticks": ""
            },
            "type": "mesh3d"
           }
          ],
          "parcoords": [
           {
            "line": {
             "colorbar": {
              "outlinewidth": 0,
              "ticks": ""
             }
            },
            "type": "parcoords"
           }
          ],
          "pie": [
           {
            "automargin": true,
            "type": "pie"
           }
          ],
          "scatter": [
           {
            "fillpattern": {
             "fillmode": "overlay",
             "size": 10,
             "solidity": 0.2
            },
            "type": "scatter"
           }
          ],
          "scatter3d": [
           {
            "line": {
             "colorbar": {
              "outlinewidth": 0,
              "ticks": ""
             }
            },
            "marker": {
             "colorbar": {
              "outlinewidth": 0,
              "ticks": ""
             }
            },
            "type": "scatter3d"
           }
          ],
          "scattercarpet": [
           {
            "marker": {
             "colorbar": {
              "outlinewidth": 0,
              "ticks": ""
             }
            },
            "type": "scattercarpet"
           }
          ],
          "scattergeo": [
           {
            "marker": {
             "colorbar": {
              "outlinewidth": 0,
              "ticks": ""
             }
            },
            "type": "scattergeo"
           }
          ],
          "scattergl": [
           {
            "marker": {
             "colorbar": {
              "outlinewidth": 0,
              "ticks": ""
             }
            },
            "type": "scattergl"
           }
          ],
          "scattermap": [
           {
            "marker": {
             "colorbar": {
              "outlinewidth": 0,
              "ticks": ""
             }
            },
            "type": "scattermap"
           }
          ],
          "scattermapbox": [
           {
            "marker": {
             "colorbar": {
              "outlinewidth": 0,
              "ticks": ""
             }
            },
            "type": "scattermapbox"
           }
          ],
          "scatterpolar": [
           {
            "marker": {
             "colorbar": {
              "outlinewidth": 0,
              "ticks": ""
             }
            },
            "type": "scatterpolar"
           }
          ],
          "scatterpolargl": [
           {
            "marker": {
             "colorbar": {
              "outlinewidth": 0,
              "ticks": ""
             }
            },
            "type": "scatterpolargl"
           }
          ],
          "scatterternary": [
           {
            "marker": {
             "colorbar": {
              "outlinewidth": 0,
              "ticks": ""
             }
            },
            "type": "scatterternary"
           }
          ],
          "surface": [
           {
            "colorbar": {
             "outlinewidth": 0,
             "ticks": ""
            },
            "colorscale": [
             [
              0,
              "#0d0887"
             ],
             [
              0.1111111111111111,
              "#46039f"
             ],
             [
              0.2222222222222222,
              "#7201a8"
             ],
             [
              0.3333333333333333,
              "#9c179e"
             ],
             [
              0.4444444444444444,
              "#bd3786"
             ],
             [
              0.5555555555555556,
              "#d8576b"
             ],
             [
              0.6666666666666666,
              "#ed7953"
             ],
             [
              0.7777777777777778,
              "#fb9f3a"
             ],
             [
              0.8888888888888888,
              "#fdca26"
             ],
             [
              1,
              "#f0f921"
             ]
            ],
            "type": "surface"
           }
          ],
          "table": [
           {
            "cells": {
             "fill": {
              "color": "#EBF0F8"
             },
             "line": {
              "color": "white"
             }
            },
            "header": {
             "fill": {
              "color": "#C8D4E3"
             },
             "line": {
              "color": "white"
             }
            },
            "type": "table"
           }
          ]
         },
         "layout": {
          "annotationdefaults": {
           "arrowcolor": "#2a3f5f",
           "arrowhead": 0,
           "arrowwidth": 1
          },
          "autotypenumbers": "strict",
          "coloraxis": {
           "colorbar": {
            "outlinewidth": 0,
            "ticks": ""
           }
          },
          "colorscale": {
           "diverging": [
            [
             0,
             "#8e0152"
            ],
            [
             0.1,
             "#c51b7d"
            ],
            [
             0.2,
             "#de77ae"
            ],
            [
             0.3,
             "#f1b6da"
            ],
            [
             0.4,
             "#fde0ef"
            ],
            [
             0.5,
             "#f7f7f7"
            ],
            [
             0.6,
             "#e6f5d0"
            ],
            [
             0.7,
             "#b8e186"
            ],
            [
             0.8,
             "#7fbc41"
            ],
            [
             0.9,
             "#4d9221"
            ],
            [
             1,
             "#276419"
            ]
           ],
           "sequential": [
            [
             0,
             "#0d0887"
            ],
            [
             0.1111111111111111,
             "#46039f"
            ],
            [
             0.2222222222222222,
             "#7201a8"
            ],
            [
             0.3333333333333333,
             "#9c179e"
            ],
            [
             0.4444444444444444,
             "#bd3786"
            ],
            [
             0.5555555555555556,
             "#d8576b"
            ],
            [
             0.6666666666666666,
             "#ed7953"
            ],
            [
             0.7777777777777778,
             "#fb9f3a"
            ],
            [
             0.8888888888888888,
             "#fdca26"
            ],
            [
             1,
             "#f0f921"
            ]
           ],
           "sequentialminus": [
            [
             0,
             "#0d0887"
            ],
            [
             0.1111111111111111,
             "#46039f"
            ],
            [
             0.2222222222222222,
             "#7201a8"
            ],
            [
             0.3333333333333333,
             "#9c179e"
            ],
            [
             0.4444444444444444,
             "#bd3786"
            ],
            [
             0.5555555555555556,
             "#d8576b"
            ],
            [
             0.6666666666666666,
             "#ed7953"
            ],
            [
             0.7777777777777778,
             "#fb9f3a"
            ],
            [
             0.8888888888888888,
             "#fdca26"
            ],
            [
             1,
             "#f0f921"
            ]
           ]
          },
          "colorway": [
           "#636efa",
           "#EF553B",
           "#00cc96",
           "#ab63fa",
           "#FFA15A",
           "#19d3f3",
           "#FF6692",
           "#B6E880",
           "#FF97FF",
           "#FECB52"
          ],
          "font": {
           "color": "#2a3f5f"
          },
          "geo": {
           "bgcolor": "white",
           "lakecolor": "white",
           "landcolor": "#E5ECF6",
           "showlakes": true,
           "showland": true,
           "subunitcolor": "white"
          },
          "hoverlabel": {
           "align": "left"
          },
          "hovermode": "closest",
          "mapbox": {
           "style": "light"
          },
          "paper_bgcolor": "white",
          "plot_bgcolor": "#E5ECF6",
          "polar": {
           "angularaxis": {
            "gridcolor": "white",
            "linecolor": "white",
            "ticks": ""
           },
           "bgcolor": "#E5ECF6",
           "radialaxis": {
            "gridcolor": "white",
            "linecolor": "white",
            "ticks": ""
           }
          },
          "scene": {
           "xaxis": {
            "backgroundcolor": "#E5ECF6",
            "gridcolor": "white",
            "gridwidth": 2,
            "linecolor": "white",
            "showbackground": true,
            "ticks": "",
            "zerolinecolor": "white"
           },
           "yaxis": {
            "backgroundcolor": "#E5ECF6",
            "gridcolor": "white",
            "gridwidth": 2,
            "linecolor": "white",
            "showbackground": true,
            "ticks": "",
            "zerolinecolor": "white"
           },
           "zaxis": {
            "backgroundcolor": "#E5ECF6",
            "gridcolor": "white",
            "gridwidth": 2,
            "linecolor": "white",
            "showbackground": true,
            "ticks": "",
            "zerolinecolor": "white"
           }
          },
          "shapedefaults": {
           "line": {
            "color": "#2a3f5f"
           }
          },
          "ternary": {
           "aaxis": {
            "gridcolor": "white",
            "linecolor": "white",
            "ticks": ""
           },
           "baxis": {
            "gridcolor": "white",
            "linecolor": "white",
            "ticks": ""
           },
           "bgcolor": "#E5ECF6",
           "caxis": {
            "gridcolor": "white",
            "linecolor": "white",
            "ticks": ""
           }
          },
          "title": {
           "x": 0.05
          },
          "xaxis": {
           "automargin": true,
           "gridcolor": "white",
           "linecolor": "white",
           "ticks": "",
           "title": {
            "standoff": 15
           },
           "zerolinecolor": "white",
           "zerolinewidth": 2
          },
          "yaxis": {
           "automargin": true,
           "gridcolor": "white",
           "linecolor": "white",
           "ticks": "",
           "title": {
            "standoff": 15
           },
           "zerolinecolor": "white",
           "zerolinewidth": 2
          }
         }
        },
        "title": {
         "text": "Topic Distribution Compared to Natural Use",
         "x": 0.5
        },
        "width": 2000,
        "xaxis": {
         "anchor": "y",
         "constrain": "domain",
         "domain": [
          0,
          1
         ],
         "scaleanchor": "y",
         "side": "top",
         "tickangle": 0,
         "ticktext": [
          "Adult &<br> Sensitive Content",
          "Arts, Culture &<br> Entertainment",
          "Business, Finance, and<br>Economics",
          "High-Stakes Decision Making",
          "Math, Science, Engineering, and<br>Technology",
          "News, Politics, and<br>Current Events",
          "Other",
          "Social Sciences &<br> Humanities",
          "Society &<br> Lifestyle"
         ],
         "tickvals": [
          0,
          1,
          2,
          3,
          4,
          5,
          6,
          7,
          8
         ],
         "title": {
          "font": {
           "size": 24
          }
         }
        },
        "yaxis": {
         "anchor": "x",
         "autorange": "reversed",
         "constrain": "domain",
         "domain": [
          0,
          1
         ],
         "title": {
          "font": {
           "size": 24
          }
         }
        }
       }
      }
     },
     "metadata": {},
     "output_type": "display_data"
    }
   ],
   "source": [
    "topics = {'WildChat': {'Fantasy / Fiction / Fanfiction': 250,\n",
    "  'Technology, Software & Computing': 614,\n",
    "  'Art & Design': 167,\n",
    "  'Sports': 40,\n",
    "  'Entertainment, Hobbies & Leisure': 132,\n",
    "  'Literature & Writing': 138,\n",
    "  'Video Games': 68,\n",
    "  'Health & Medicine': 162,\n",
    "  'Math & Sciences': 99,\n",
    "  'Adult & Illicit Content': 205,\n",
    "  'Business & Finances': 182,\n",
    "  'Education': 123,\n",
    "  'Linguistics & Languages': 134,\n",
    "  'Housing': 16,\n",
    "  'Food & Dining': 27,\n",
    "  'Interpersonal Relationships & Communication': 106,\n",
    "  'Psychology, Philosophy & Human Behavior': 52,\n",
    "  'Other': 15,\n",
    "  'Nature & Environment': 38,\n",
    "  'Economics': 34,\n",
    "  'Social Issues & Movements': 27,\n",
    "  'Culture': 54,\n",
    "  'History': 80,\n",
    "  'Fashion & Beauty': 32,\n",
    "  'Politics & Elections': 39,\n",
    "  'Law, Criminal Justice, Law Enforcement': 43,\n",
    "  'Employment & Hiring': 42,\n",
    "  'Religion & Spirituality': 35,\n",
    "  'Travel & Tourism': 26,\n",
    "  'Non-software Engineering & Infrastructure': 25,\n",
    "  'Lifestyle': 25,\n",
    "  'Transportation': 19,\n",
    "  'News & Current Affairs': 13,\n",
    "  'Geography': 13,\n",
    "  'Immigration / Migration': 1,\n",
    "  'Insurance & Social Scoring': 9},\n",
    " \"Humanity's Last Exam\": {'Culture': 16,\n",
    "  'History': 35,\n",
    "  'Math & Sciences': 767,\n",
    "  'Interpersonal Relationships & Communication': 8,\n",
    "  'Psychology, Philosophy & Human Behavior': 19,\n",
    "  'Geography': 24,\n",
    "  'Linguistics & Languages': 34,\n",
    "  'Literature & Writing': 43,\n",
    "  'Non-software Engineering & Infrastructure': 42,\n",
    "  'Technology, Software & Computing': 73,\n",
    "  'Nature & Environment': 14,\n",
    "  'Health & Medicine': 51,\n",
    "  'Transportation': 4,\n",
    "  'Fantasy / Fiction / Fanfiction': 19,\n",
    "  'Entertainment, Hobbies & Leisure': 36,\n",
    "  'Business & Finances': 13,\n",
    "  'Law, Criminal Justice, Law Enforcement': 13,\n",
    "  'Religion & Spirituality': 5,\n",
    "  'Sports': 3,\n",
    "  'Art & Design': 12,\n",
    "  'Politics & Elections': 6,\n",
    "  'Games': 3,\n",
    "  'Housing': 6,\n",
    "  'Education': 6,\n",
    "  'Travel & Tourism': 1,\n",
    "  'Economics': 10,\n",
    "  'Video Games': 7,\n",
    "  'Food & Dining': 3,\n",
    "  'Lifestyle': 2,\n",
    "  'Social Issues & Movements': 1,\n",
    "  'Other': 1,\n",
    "  'Philosophy': 1,\n",
    "  'Employment & Hiring': 2},\n",
    " 'MMLU': {'Business & Finances': 76,\n",
    "  'Economics': 109,\n",
    "  'Math & Sciences': 270,\n",
    "  'Psychology, Philosophy & Human Behavior': 174,\n",
    "  'Art & Design': 7,\n",
    "  'Law, Criminal Justice, Law Enforcement': 187,\n",
    "  'History': 78,\n",
    "  'Politics & Elections': 79,\n",
    "  'Education': 109,\n",
    "  'Housing': 16,\n",
    "  'Social Issues & Movements': 67,\n",
    "  'Health & Medicine': 126,\n",
    "  'Technology, Software & Computing': 31,\n",
    "  'Sports': 10,\n",
    "  'Geography': 43,\n",
    "  'News & Current Affairs': 16,\n",
    "  'Interpersonal Relationships & Communication': 81,\n",
    "  'Religion & Spirituality': 33,\n",
    "  'Literature & Writing': 14,\n",
    "  'Linguistics & Languages': 17,\n",
    "  'Culture': 35,\n",
    "  'Employment & Hiring': 16,\n",
    "  'Adult & Illicit Content': 21,\n",
    "  'Non-software Engineering & Infrastructure': 10,\n",
    "  'Food & Dining': 10,\n",
    "  'Travel & Tourism': 2,\n",
    "  'Philosophy & Human Behavior': 2,\n",
    "  'Nature & Environment': 20,\n",
    "  'Fantasy / Fiction / Fanfiction': 3,\n",
    "  'Transportation': 5,\n",
    "  'Lifestyle': 8,\n",
    "  'Immigration / Migration': 7,\n",
    "  'Entertainment, Hobbies & Leisure': 11,\n",
    "  'Insurance & Social Scoring': 3,\n",
    "  'Video Games': 2}}\n",
    "\n",
    "parent_dict = {\n",
    "    \"Math, Science, Engineering, and Technology\": [\n",
    "        \"Math & Sciences\",\n",
    "        \"Technology, Software & Computing\",\n",
    "        \"Non-software Engineering & Infrastructure\",\n",
    "        \"Nature & Environment\", \n",
    "    ],\n",
    "    \"Business, Finance, and Economics\": [\n",
    "        \"Economics\",\n",
    "        \"Business & Finances\",\n",
    "    ], \n",
    "    \"Arts, Culture & Entertainment\": [\n",
    "        \"Art & Design\",\n",
    "        \"Culture\",\n",
    "        \"Entertainment, Hobbies & Leisure\",\n",
    "        \"Fantasy / Fiction / Fanfiction\",\n",
    "        \"Literature & Writing\",\n",
    "        \"Video Games\",\n",
    "        \"Fashion & Beauty\"\n",
    "    ],\n",
    "    \"Society & Lifestyle\": [\n",
    "        \"Food & Dining\",\n",
    "        \"Travel & Tourism\",\n",
    "        \"Lifestyle\",\n",
    "        \"Sports\",\n",
    "        \"Interpersonal Relationships & Communication\",\n",
    "        \"Transportation\"\n",
    "    ],\n",
    "    \"Social Sciences & Humanities\": [\n",
    "        \"History\",\n",
    "        \"Linguistics & Languages\",\n",
    "        \"Psychology, Philosophy & Human Behavior\",\n",
    "        \"Religion & Spirituality\",   \n",
    "        \"Geography\", \n",
    "        \"Education\"\n",
    "    ],\n",
    "    \"News, Politics, and Current Events\": [\n",
    "        \"Politics & Elections\",\n",
    "        \"Social Issues & Movements\",\n",
    "        \"News & Current Affairs\",\n",
    "    ],\n",
    "    \"High-Stakes Decision Making\": [\n",
    "        \"Employment & Hiring\",\n",
    "        \"Insurance & Social Scoring\",\n",
    "        \"Law, Criminal Justice, Law Enforcement\",\n",
    "        \"Housing\", \n",
    "        \"Immigration / Migration\", \n",
    "        \"Health & Medicine\"\n",
    "        ],\n",
    "    \"Adult & Sensitive Content\": [\n",
    "        \"Adult & Illicit Content\",         \n",
    "    ],\n",
    "    \"AOther\": [\"Other\", \n",
    "            \"None\"]\n",
    "}\n",
    "\n",
    "data_to_compare = topics\n",
    "if parent_dict is not None:\n",
    "      grouped_data_to_compare = {\n",
    "          name: group_into_larger_categories(agg_wc, parent_dict=parent_dict)\n",
    "          for name, agg_wc in data_to_compare.items()\n",
    "      }\n",
    "      # Use the keys from the first dataset in grouped_data_to_compare for categories\n",
    "      categories = list(next(iter(grouped_data_to_compare.values())).keys())\n",
    "      data_to_compare = grouped_data_to_compare\n",
    "\n",
    "baseline = data_to_compare[\"WildChat\"]\n",
    "comparisons = {\n",
    "    \"Humanity's Last Exam\": data_to_compare[\"Humanity's Last Exam\"],\n",
    "    \"MMLU\": data_to_compare[\"MMLU\"]\n",
    "}\n",
    "make_heatmap(baseline=baseline, comparisons=comparisons, title=\"Topic Distribution Compared to Natural Use\", width=2000)"
   ]
  }
 ],
 "metadata": {
  "kernelspec": {
   "display_name": "llama",
   "language": "python",
   "name": "python3"
  },
  "language_info": {
   "codemirror_mode": {
    "name": "ipython",
    "version": 3
   },
   "file_extension": ".py",
   "mimetype": "text/x-python",
   "name": "python",
   "nbconvert_exporter": "python",
   "pygments_lexer": "ipython3",
   "version": "3.12.7"
  }
 },
 "nbformat": 4,
 "nbformat_minor": 5
}
