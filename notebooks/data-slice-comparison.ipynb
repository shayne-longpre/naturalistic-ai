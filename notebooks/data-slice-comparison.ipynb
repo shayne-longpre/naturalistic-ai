{
 "cells": [
  {
   "cell_type": "code",
   "execution_count": 116,
   "metadata": {},
   "outputs": [
    {
     "name": "stdout",
     "output_type": "stream",
     "text": [
      "The autoreload extension is already loaded. To reload it, use:\n",
      "  %reload_ext autoreload\n"
     ]
    }
   ],
   "source": [
    "import sys\n",
    "import os\n",
    "import json\n",
    "import pandas as pd\n",
    "import numpy as np\n",
    "import ast\n",
    "import itertools\n",
    "import random\n",
    "import copy\n",
    "from datetime import datetime\n",
    "from collections import Counter, defaultdict\n",
    "\n",
    "import matplotlib.pyplot as plt\n",
    "import seaborn as sns\n",
    "from IPython.display import display\n",
    "\n",
    "sys.path.append(\"../\")\n",
    "\n",
    "from src.helpers import io\n",
    "from src.helpers.dataset_comparison import split_dataset_by, compare_annotations_to_baseline\n",
    "from src.helpers.visualisation import plot_differences_for_group\n",
    "from src.classes.dataset import Dataset\n",
    "from src.classes.annotation_set import AnnotationSet\n",
    "\n",
    "%load_ext autoreload\n",
    "%autoreload 2\n",
    "%matplotlib inline"
   ]
  },
  {
   "cell_type": "code",
   "execution_count": 117,
   "metadata": {},
   "outputs": [
    {
     "name": "stdout",
     "output_type": "stream",
     "text": [
      "prompt-multi_turn_relationship: 0 / 10127 failed due to invalid annotations.\n",
      "prompt-interaction_features: 0 / 10127 failed due to invalid annotations.\n",
      "turn-sensitive_use_flags: 0 / 10127 failed due to invalid annotations.\n",
      "turn-topic: 1 / 10127 failed due to invalid annotations.\n",
      "response-interaction_features: 0 / 10127 failed due to invalid annotations.\n",
      "prompt-function_purpose: 6 / 10127 failed due to invalid annotations.\n",
      "prompt-media_format: 0 / 10127 failed due to invalid annotations.\n",
      "response-media_format: 0 / 10127 failed due to invalid annotations.\n",
      "response-answer_form: 0 / 10127 failed due to invalid annotations.\n"
     ]
    }
   ],
   "source": [
    "# FILL IN:\n",
    "PATH_TO_DATASET = \"../data/static/wildchat4k-raw.json\"\n",
    "DATASET_ID = \"wildchat_1m\"\n",
    "PATH_TO_ANNOTATIONS_DIR = \"../res/gpto3mini-json-wildchat\"\n",
    "OUTDIR = \"data/annotation_analysis_v0/data-slice-comparison\"\n",
    "os.makedirs(OUTDIR, exist_ok=True)\n",
    "\n",
    "# Load dataset (w/o annotations)\n",
    "dataset = Dataset.load(PATH_TO_DATASET)\n",
    "\n",
    "# Load annotations into dataset\n",
    "for fpath in io.listdir_nohidden(PATH_TO_ANNOTATIONS_DIR):\n",
    "    annotation_set = AnnotationSet.load_automatic(path=fpath, source=\"automatic_v0\")\n",
    "    dataset.add_annotations(annotation_set)"
   ]
  },
  {
   "cell_type": "markdown",
   "metadata": {},
   "source": [
    "# General-purpose data slice comparison"
   ]
  },
  {
   "cell_type": "markdown",
   "metadata": {},
   "source": [
    "### Use geography as an example"
   ]
  },
  {
   "cell_type": "code",
   "execution_count": 118,
   "metadata": {},
   "outputs": [],
   "source": [
    "# === Custom Group Definitions ===\n",
    "# Split by country \n",
    "grouped_by_country = split_dataset_by(\n",
    "    dataset,\n",
    "    lambda conv: conv.geography.split(\";\")[0].strip() if conv.geography else \"Unknown\"\n",
    ")\n",
    "\n",
    "baseline_names = [\"United States\"]\n",
    "comparison_names = [\"China\"]\n",
    "\n",
    "baseline_dataset = Dataset(\n",
    "    dataset_id=\"baseline_group\",\n",
    "    data=list(itertools.chain.from_iterable([\n",
    "        grouped_by_country[c].data for c in baseline_names if c in grouped_by_country\n",
    "    ]))\n",
    ")\n",
    "\n",
    "comparison_dataset = Dataset(\n",
    "    dataset_id=\"comparison_group\",\n",
    "    data=list(itertools.chain.from_iterable([\n",
    "        grouped_by_country[c].data for c in comparison_names if c in grouped_by_country\n",
    "    ]))\n",
    ")\n",
    "\n",
    "annotation_source_tasks = [\n",
    "    (\"prompt_function_purpose\", \"automatic_v0\"),\n",
    "    (\"prompt_interaction_features\", \"automatic_v0\"),\n",
    "    (\"prompt_media_format\", \"automatic_v0\"),\n",
    "    (\"response_answer_form\", \"automatic_v0\"),\n",
    "    (\"response_interaction_features\", \"automatic_v0\"),\n",
    "    (\"response_media_format\", \"automatic_v0\"),\n",
    "    (\"turn_topic\", \"automatic_v0\"),\n",
    "    (\"turn_sensitive_use_flags\", \"automatic_v0\")\n",
    "]\n",
    "\n",
    "comparison_results = compare_annotations_to_baseline(\n",
    "    group_datasets={\"ComparisonGroup_vs_Baseline\": comparison_dataset},\n",
    "    baseline_dataset=baseline_dataset,\n",
    "    annotation_source_tasks=annotation_source_tasks\n",
    ")\n",
    "\n",
    "\n"
   ]
  },
  {
   "cell_type": "code",
   "execution_count": 119,
   "metadata": {},
   "outputs": [
    {
     "name": "stdout",
     "output_type": "stream",
     "text": [
      "✅ Saved plot: data/annotation_analysis_v0/data-slice-comparison/diff_CUS_prompt_function_purpose_automatic_v0.png\n",
      "📊 Metrics for prompt_function_purpose (automatic_v0):\n",
      "   chi2: 531.6428001554893\n",
      "   p_value: 1.1347551254297907e-90\n",
      "   jsd: 0.35087313985097246\n",
      "   wasserstein: 1.1916982400381915\n",
      "--------------------------------------------------\n",
      "✅ Saved plot: data/annotation_analysis_v0/data-slice-comparison/diff_CUS_prompt_interaction_features_automatic_v0.png\n",
      "📊 Metrics for prompt_interaction_features (automatic_v0):\n",
      "   chi2: 52.2524792284799\n",
      "   p_value: 4.788342448097323e-10\n",
      "   jsd: 0.10536087360243997\n",
      "   wasserstein: 2.9170689081019123\n",
      "--------------------------------------------------\n",
      "✅ Saved plot: data/annotation_analysis_v0/data-slice-comparison/diff_CUS_prompt_media_format_automatic_v0.png\n",
      "📊 Metrics for prompt_media_format (automatic_v0):\n",
      "   chi2: 119.67056196203019\n",
      "   p_value: 2.1118341584101363e-20\n",
      "   jsd: 0.12545914699964428\n",
      "   wasserstein: 2.0749050097334423\n",
      "--------------------------------------------------\n",
      "✅ Saved plot: data/annotation_analysis_v0/data-slice-comparison/diff_CUS_response_answer_form_automatic_v0.png\n",
      "📊 Metrics for response_answer_form (automatic_v0):\n",
      "   chi2: 38.24572807412315\n",
      "   p_value: 3.3677512981826997e-07\n",
      "   jsd: 0.09724401113498359\n",
      "   wasserstein: 1.3201983790907537\n",
      "--------------------------------------------------\n",
      "✅ Saved plot: data/annotation_analysis_v0/data-slice-comparison/diff_CUS_response_interaction_features_automatic_v0.png\n",
      "📊 Metrics for response_interaction_features (automatic_v0):\n",
      "   chi2: 129.2732397747609\n",
      "   p_value: 2.4422358251677328e-22\n",
      "   jsd: 0.17059755346666103\n",
      "   wasserstein: 2.17622413162722\n",
      "--------------------------------------------------\n",
      "✅ Saved plot: data/annotation_analysis_v0/data-slice-comparison/diff_CUS_response_media_format_automatic_v0.png\n",
      "📊 Metrics for response_media_format (automatic_v0):\n",
      "   chi2: 107.47961478896423\n",
      "   p_value: 4.788072128460821e-19\n",
      "   jsd: 0.1181915206722044\n",
      "   wasserstein: 2.1758996278258396\n",
      "--------------------------------------------------\n",
      "✅ Saved plot: data/annotation_analysis_v0/data-slice-comparison/diff_CUS_turn_topic_automatic_v0.png\n",
      "📊 Metrics for turn_topic (automatic_v0):\n",
      "   chi2: 666.5158499868412\n",
      "   p_value: 4.234358412429181e-117\n",
      "   jsd: 0.34496929430381496\n",
      "   wasserstein: 0.9245649645205687\n",
      "--------------------------------------------------\n",
      "✅ Saved plot: data/annotation_analysis_v0/data-slice-comparison/diff_CUS_turn_sensitive_use_flags_automatic_v0.png\n",
      "📊 Metrics for turn_sensitive_use_flags (automatic_v0):\n",
      "   chi2: 113.50682546242956\n",
      "   p_value: 1.2088151033025877e-18\n",
      "   jsd: 0.17419367536875205\n",
      "   wasserstein: 1.859598789124594\n",
      "--------------------------------------------------\n"
     ]
    }
   ],
   "source": [
    "plot_differences_for_group(\n",
    "    group_name=\"ComparisonGroup_vs_Baseline\",\n",
    "    group_diff_data=comparison_results[\"ComparisonGroup_vs_Baseline\"],\n",
    "    baseline_label=\", \".join(baseline_names),\n",
    "    comparison_label=\", \".join(comparison_names),\n",
    "    outdir=OUTDIR\n",
    ")"
   ]
  }
 ],
 "metadata": {
  "kernelspec": {
   "display_name": "Python 3",
   "language": "python",
   "name": "python3"
  },
  "language_info": {
   "codemirror_mode": {
    "name": "ipython",
    "version": 3
   },
   "file_extension": ".py",
   "mimetype": "text/x-python",
   "name": "python",
   "nbconvert_exporter": "python",
   "pygments_lexer": "ipython3",
   "version": "3.11.3"
  }
 },
 "nbformat": 4,
 "nbformat_minor": 2
}
