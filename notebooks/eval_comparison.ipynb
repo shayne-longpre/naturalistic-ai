{
 "cells": [
  {
   "cell_type": "markdown",
   "id": "3c1f406b",
   "metadata": {},
   "source": [
    "### Installation and Imports"
   ]
  },
  {
   "cell_type": "code",
   "execution_count": 28,
   "id": "0523c2e3",
   "metadata": {},
   "outputs": [],
   "source": [
    "# %pip install --upgrade pip\n",
    "# %pip install pandas\n",
    "# %pip install numpy\n",
    "# %pip install datetime\n",
    "# %pip install collections\n",
    "# %pip install matplotlib.pyplot\n",
    "# %pip install seaborn\n",
    "# %pip install pyyaml\n",
    "# %pip install jsonlines\n",
    "# %pip install requests\n",
    "# %pip install datasets\n",
    "# %pip install torch\n",
    "# %pip install scikit-learn\n",
    "# %pip install tabulate"
   ]
  },
  {
   "cell_type": "code",
   "execution_count": 29,
   "id": "679a8090",
   "metadata": {},
   "outputs": [
    {
     "name": "stdout",
     "output_type": "stream",
     "text": [
      "The autoreload extension is already loaded. To reload it, use:\n",
      "  %reload_ext autoreload\n"
     ]
    }
   ],
   "source": [
    "import sys\n",
    "import os\n",
    "import json\n",
    "import pandas as pd\n",
    "import numpy as np\n",
    "import ast\n",
    "import itertools\n",
    "import random\n",
    "import copy\n",
    "from datetime import datetime\n",
    "from collections import Counter, defaultdict\n",
    "\n",
    "import matplotlib.pyplot as plt\n",
    "import seaborn as sns\n",
    "\n",
    "sys.path.append(\"../\")\n",
    "\n",
    "from src.helpers import io\n",
    "from src.classes.dataset import Dataset\n",
    "from src.classes.annotation_set import AnnotationSet\n",
    "\n",
    "%load_ext autoreload\n",
    "%autoreload 2"
   ]
  },
  {
   "cell_type": "markdown",
   "id": "1704eeab",
   "metadata": {},
   "source": [
    "### Load datasets & annotations "
   ]
  },
  {
   "cell_type": "code",
   "execution_count": 30,
   "id": "07239365",
   "metadata": {},
   "outputs": [],
   "source": [
    "def get_wildchat_dataset():\n",
    "    PATH_TO_DATASET = \"../data/automatic_annotations_v0/wildchat4k-raw.json\"\n",
    "    DATASET_ID = \"wildchat_1m\"\n",
    "    PATH_TO_ANNOTATIONS_DIR = \"../data/automatic_annotations_v0/gpto3mini-json-wildchat\"\n",
    "    # Load dataset (w/o annotations)\n",
    "    dataset = Dataset.load(PATH_TO_DATASET)\n",
    "\n",
    "    # Load annotations into dataset\n",
    "    for fpath in io.listdir_nohidden(PATH_TO_ANNOTATIONS_DIR):\n",
    "        annotation_set = AnnotationSet.load_automatic(path=fpath, source=\"automatic_v0\")\n",
    "        dataset.add_annotations(annotation_set)\n",
    "    return dataset\n",
    "\n",
    "def get_hle_dataset():\n",
    "    PATH_TO_DATASET = \"../data/automatic_annotations_v0/hle-raw.json\"\n",
    "    DATASET_ID = \"hle\"\n",
    "    PATH_TO_ANNOTATIONS_DIR = \"../data/automatic_annotations_v0/hle\"\n",
    "    # Load dataset (w/o annotations)\n",
    "    dataset = Dataset.load(PATH_TO_DATASET)\n",
    "\n",
    "    # Load annotations into dataset\n",
    "    for fpath in io.listdir_nohidden(PATH_TO_ANNOTATIONS_DIR):\n",
    "        annotation_set = AnnotationSet.load_automatic(path=fpath, source=\"automatic_v0\")\n",
    "        dataset.add_annotations(annotation_set)\n",
    "    return dataset\n",
    "\n",
    "def get_mmlu_dataset():\n",
    "    PATH_TO_DATASET = \"../data/automatic_annotations_v0/mmlu-raw.json\"\n",
    "    DATASET_ID = \"hle\"\n",
    "    PATH_TO_ANNOTATIONS_DIR = \"../data/automatic_annotations_v0/mmlu\"\n",
    "    # Load dataset (w/o annotations)\n",
    "    dataset = Dataset.load(PATH_TO_DATASET)\n",
    "\n",
    "    # Load annotations into dataset\n",
    "    for fpath in io.listdir_nohidden(PATH_TO_ANNOTATIONS_DIR):\n",
    "        annotation_set = AnnotationSet.load_automatic(path=fpath, source=\"automatic_v0\")\n",
    "        dataset.add_annotations(annotation_set)\n",
    "    return dataset\n",
    "\n",
    "# Helper to split annotation keys if they are lists in string form\n",
    "def split_annotation_key(key):\n",
    "    try:\n",
    "        # Try to parse as a Python list\n",
    "        items = ast.literal_eval(key)\n",
    "        if isinstance(items, list):\n",
    "            a =[str(item).strip() for item in items if str(item).strip()]\n",
    "            return a\n",
    "        else:\n",
    "            return [key]\n",
    "    except Exception:\n",
    "        return [key]\n",
    "\n",
    "def aggregate_counts_by_category(annotation_pairs):\n",
    "    category_counts = {}\n",
    "    for key, count in annotation_pairs.items():\n",
    "        categories = split_annotation_key(key)\n",
    "        for cat in categories:\n",
    "            if cat == '' or cat.lower() == 'none':\n",
    "                continue\n",
    "            category_counts[cat] = category_counts.get(cat, 0) + count\n",
    "    return category_counts\n"
   ]
  },
  {
   "cell_type": "code",
   "execution_count": 31,
   "id": "b6753ad4",
   "metadata": {},
   "outputs": [
    {
     "name": "stdout",
     "output_type": "stream",
     "text": [
      "prompt-multi_turn_relationship: 0 / 10127 failed due to invalid annotations.\n",
      "prompt-interaction_features: 0 / 10127 failed due to invalid annotations.\n",
      "turn-sensitive_use_flags: 0 / 10127 failed due to invalid annotations.\n",
      "turn-topic: 1 / 10127 failed due to invalid annotations.\n",
      "response-interaction_features: 0 / 10127 failed due to invalid annotations.\n",
      "prompt-function_purpose: 6 / 10127 failed due to invalid annotations.\n",
      "prompt-media_format: 0 / 10127 failed due to invalid annotations.\n",
      "response-media_format: 0 / 10127 failed due to invalid annotations.\n",
      "response-answer_form: 0 / 10127 failed due to invalid annotations.\n",
      "prompt-interaction_features: 1 / 1000 failed due to invalid annotations.\n",
      "turn-sensitive_use_flags: 0 / 1000 failed due to invalid annotations.\n",
      "turn-topic: 25 / 1000 failed due to invalid annotations.\n",
      "prompt-function_purpose: 19 / 1000 failed due to invalid annotations.\n",
      "prompt-media_format: 33 / 1000 failed due to invalid annotations.\n",
      "prompt-interaction_features: 1 / 1000 failed due to invalid annotations.\n",
      "turn-sensitive_use_flags: 0 / 1000 failed due to invalid annotations.\n",
      "turn-topic: 38 / 1000 failed due to invalid annotations.\n",
      "prompt-function_purpose: 40 / 1000 failed due to invalid annotations.\n",
      "prompt-media_format: 12 / 1000 failed due to invalid annotations.\n"
     ]
    }
   ],
   "source": [
    "wildchat_dataset = get_wildchat_dataset()\n",
    "hle_dataset = get_hle_dataset()\n",
    "mmlu_dataset = get_mmlu_dataset()"
   ]
  },
  {
   "cell_type": "markdown",
   "id": "d2eee92e",
   "metadata": {},
   "source": [
    "### Tree Map Plots Comparing WildChat to MMLU"
   ]
  },
  {
   "cell_type": "code",
   "execution_count": 32,
   "id": "6bcc00be",
   "metadata": {},
   "outputs": [
    {
     "name": "stdout",
     "output_type": "stream",
     "text": [
      "Processing dataset: WildChat\n"
     ]
    },
    {
     "data": {
      "application/vnd.plotly.v1+json": {
       "config": {
        "plotlyServerURL": "https://plot.ly"
       },
       "data": [
        {
         "labels": [
          "Adult & Sensitive Content",
          "Social Sciences & Humanities",
          "High-Stakes Decision Making:",
          "Business, Finance, and Economics",
          "Math, Science, Engineering, and Technology",
          "News, Politics, and Current Events",
          "Society & Lifestyle",
          "AOther",
          "Arts, Culture & Entertainment",
          "Entertainment<br>Hobbies<br>&<br>Leisure",
          "Employment<br>&<br>Hiring",
          "News<br>&<br>Current<br>Affairs",
          "Technology<br>Software<br>&<br>Computing",
          "Food<br>&<br>Dining",
          "Culture",
          "History",
          "Art<br>&<br>Design",
          "Fantasy<br><br>Fiction<br><br>Fanfiction",
          "Adult<br>&<br>Illicit<br>Content",
          "Politics<br>&<br>Elections",
          "Social<br>Issues<br>&<br>Movements",
          "Literature<br>&<br>Writing",
          "Education",
          "Interpersonal<br>Relationships<br>&<br>Communication",
          "Lifestyle",
          "Nature<br>&<br>Environment",
          "Travel<br>&<br>Tourism",
          "Linguistics<br>&<br>Languages",
          "Psychology<br>Philosophy<br>&<br>Human<br>Behavior",
          "Video<br>Games",
          "Business<br>&<br>Finances",
          "Health<br>&<br>Medicine",
          "Other",
          "Economics",
          "Math<br>&<br>Sciences",
          "Law<br>Criminal<br>Justice<br>Law<br>Enforcement",
          "Sports",
          "Religion<br>&<br>Spirituality",
          "Non-software<br>Engineering<br>&<br>Infrastructure",
          "Fashion<br>&<br>Beauty",
          "Housing",
          "Transportation",
          "Immigration<br><br>Migration",
          "Geography",
          "Insurance<br>&<br>Social<br>Scoring"
         ],
         "parents": [
          "",
          "",
          "",
          "",
          "",
          "",
          "",
          "",
          "",
          "Arts, Culture & Entertainment",
          "High-Stakes Decision Making:",
          "News, Politics, and Current Events",
          "Math, Science, Engineering, and Technology",
          "Society & Lifestyle",
          "Arts, Culture & Entertainment",
          "Social Sciences & Humanities",
          "Arts, Culture & Entertainment",
          "Arts, Culture & Entertainment",
          "Adult & Sensitive Content",
          "News, Politics, and Current Events",
          "News, Politics, and Current Events",
          "Arts, Culture & Entertainment",
          "Social Sciences & Humanities",
          "Society & Lifestyle",
          "Society & Lifestyle",
          "Math, Science, Engineering, and Technology",
          "Society & Lifestyle",
          "Social Sciences & Humanities",
          "Social Sciences & Humanities",
          "Arts, Culture & Entertainment",
          "Business, Finance, and Economics",
          "High-Stakes Decision Making:",
          "AOther",
          "Business, Finance, and Economics",
          "Math, Science, Engineering, and Technology",
          "High-Stakes Decision Making:",
          "Society & Lifestyle",
          "Social Sciences & Humanities",
          "Math, Science, Engineering, and Technology",
          "Arts, Culture & Entertainment",
          "High-Stakes Decision Making:",
          "Society & Lifestyle",
          "High-Stakes Decision Making:",
          "Social Sciences & Humanities",
          "High-Stakes Decision Making:"
         ],
         "textfont": {
          "size": 20
         },
         "textinfo": "label+percent entry",
         "type": "treemap",
         "values": [
          0,
          0,
          0,
          0,
          0,
          0,
          0,
          0,
          0,
          633,
          150,
          84,
          2325,
          144,
          258,
          297,
          630,
          1094,
          761,
          193,
          116,
          416,
          530,
          421,
          92,
          139,
          100,
          434,
          235,
          246,
          727,
          593,
          35,
          176,
          614,
          178,
          182,
          152,
          123,
          103,
          54,
          85,
          19,
          50,
          25
         ]
        }
       ],
       "layout": {
        "height": 1400,
        "template": {
         "data": {
          "bar": [
           {
            "error_x": {
             "color": "#2a3f5f"
            },
            "error_y": {
             "color": "#2a3f5f"
            },
            "marker": {
             "line": {
              "color": "#E5ECF6",
              "width": 0.5
             },
             "pattern": {
              "fillmode": "overlay",
              "size": 10,
              "solidity": 0.2
             }
            },
            "type": "bar"
           }
          ],
          "barpolar": [
           {
            "marker": {
             "line": {
              "color": "#E5ECF6",
              "width": 0.5
             },
             "pattern": {
              "fillmode": "overlay",
              "size": 10,
              "solidity": 0.2
             }
            },
            "type": "barpolar"
           }
          ],
          "carpet": [
           {
            "aaxis": {
             "endlinecolor": "#2a3f5f",
             "gridcolor": "white",
             "linecolor": "white",
             "minorgridcolor": "white",
             "startlinecolor": "#2a3f5f"
            },
            "baxis": {
             "endlinecolor": "#2a3f5f",
             "gridcolor": "white",
             "linecolor": "white",
             "minorgridcolor": "white",
             "startlinecolor": "#2a3f5f"
            },
            "type": "carpet"
           }
          ],
          "choropleth": [
           {
            "colorbar": {
             "outlinewidth": 0,
             "ticks": ""
            },
            "type": "choropleth"
           }
          ],
          "contour": [
           {
            "colorbar": {
             "outlinewidth": 0,
             "ticks": ""
            },
            "colorscale": [
             [
              0,
              "#0d0887"
             ],
             [
              0.1111111111111111,
              "#46039f"
             ],
             [
              0.2222222222222222,
              "#7201a8"
             ],
             [
              0.3333333333333333,
              "#9c179e"
             ],
             [
              0.4444444444444444,
              "#bd3786"
             ],
             [
              0.5555555555555556,
              "#d8576b"
             ],
             [
              0.6666666666666666,
              "#ed7953"
             ],
             [
              0.7777777777777778,
              "#fb9f3a"
             ],
             [
              0.8888888888888888,
              "#fdca26"
             ],
             [
              1,
              "#f0f921"
             ]
            ],
            "type": "contour"
           }
          ],
          "contourcarpet": [
           {
            "colorbar": {
             "outlinewidth": 0,
             "ticks": ""
            },
            "type": "contourcarpet"
           }
          ],
          "heatmap": [
           {
            "colorbar": {
             "outlinewidth": 0,
             "ticks": ""
            },
            "colorscale": [
             [
              0,
              "#0d0887"
             ],
             [
              0.1111111111111111,
              "#46039f"
             ],
             [
              0.2222222222222222,
              "#7201a8"
             ],
             [
              0.3333333333333333,
              "#9c179e"
             ],
             [
              0.4444444444444444,
              "#bd3786"
             ],
             [
              0.5555555555555556,
              "#d8576b"
             ],
             [
              0.6666666666666666,
              "#ed7953"
             ],
             [
              0.7777777777777778,
              "#fb9f3a"
             ],
             [
              0.8888888888888888,
              "#fdca26"
             ],
             [
              1,
              "#f0f921"
             ]
            ],
            "type": "heatmap"
           }
          ],
          "histogram": [
           {
            "marker": {
             "pattern": {
              "fillmode": "overlay",
              "size": 10,
              "solidity": 0.2
             }
            },
            "type": "histogram"
           }
          ],
          "histogram2d": [
           {
            "colorbar": {
             "outlinewidth": 0,
             "ticks": ""
            },
            "colorscale": [
             [
              0,
              "#0d0887"
             ],
             [
              0.1111111111111111,
              "#46039f"
             ],
             [
              0.2222222222222222,
              "#7201a8"
             ],
             [
              0.3333333333333333,
              "#9c179e"
             ],
             [
              0.4444444444444444,
              "#bd3786"
             ],
             [
              0.5555555555555556,
              "#d8576b"
             ],
             [
              0.6666666666666666,
              "#ed7953"
             ],
             [
              0.7777777777777778,
              "#fb9f3a"
             ],
             [
              0.8888888888888888,
              "#fdca26"
             ],
             [
              1,
              "#f0f921"
             ]
            ],
            "type": "histogram2d"
           }
          ],
          "histogram2dcontour": [
           {
            "colorbar": {
             "outlinewidth": 0,
             "ticks": ""
            },
            "colorscale": [
             [
              0,
              "#0d0887"
             ],
             [
              0.1111111111111111,
              "#46039f"
             ],
             [
              0.2222222222222222,
              "#7201a8"
             ],
             [
              0.3333333333333333,
              "#9c179e"
             ],
             [
              0.4444444444444444,
              "#bd3786"
             ],
             [
              0.5555555555555556,
              "#d8576b"
             ],
             [
              0.6666666666666666,
              "#ed7953"
             ],
             [
              0.7777777777777778,
              "#fb9f3a"
             ],
             [
              0.8888888888888888,
              "#fdca26"
             ],
             [
              1,
              "#f0f921"
             ]
            ],
            "type": "histogram2dcontour"
           }
          ],
          "mesh3d": [
           {
            "colorbar": {
             "outlinewidth": 0,
             "ticks": ""
            },
            "type": "mesh3d"
           }
          ],
          "parcoords": [
           {
            "line": {
             "colorbar": {
              "outlinewidth": 0,
              "ticks": ""
             }
            },
            "type": "parcoords"
           }
          ],
          "pie": [
           {
            "automargin": true,
            "type": "pie"
           }
          ],
          "scatter": [
           {
            "fillpattern": {
             "fillmode": "overlay",
             "size": 10,
             "solidity": 0.2
            },
            "type": "scatter"
           }
          ],
          "scatter3d": [
           {
            "line": {
             "colorbar": {
              "outlinewidth": 0,
              "ticks": ""
             }
            },
            "marker": {
             "colorbar": {
              "outlinewidth": 0,
              "ticks": ""
             }
            },
            "type": "scatter3d"
           }
          ],
          "scattercarpet": [
           {
            "marker": {
             "colorbar": {
              "outlinewidth": 0,
              "ticks": ""
             }
            },
            "type": "scattercarpet"
           }
          ],
          "scattergeo": [
           {
            "marker": {
             "colorbar": {
              "outlinewidth": 0,
              "ticks": ""
             }
            },
            "type": "scattergeo"
           }
          ],
          "scattergl": [
           {
            "marker": {
             "colorbar": {
              "outlinewidth": 0,
              "ticks": ""
             }
            },
            "type": "scattergl"
           }
          ],
          "scattermap": [
           {
            "marker": {
             "colorbar": {
              "outlinewidth": 0,
              "ticks": ""
             }
            },
            "type": "scattermap"
           }
          ],
          "scattermapbox": [
           {
            "marker": {
             "colorbar": {
              "outlinewidth": 0,
              "ticks": ""
             }
            },
            "type": "scattermapbox"
           }
          ],
          "scatterpolar": [
           {
            "marker": {
             "colorbar": {
              "outlinewidth": 0,
              "ticks": ""
             }
            },
            "type": "scatterpolar"
           }
          ],
          "scatterpolargl": [
           {
            "marker": {
             "colorbar": {
              "outlinewidth": 0,
              "ticks": ""
             }
            },
            "type": "scatterpolargl"
           }
          ],
          "scatterternary": [
           {
            "marker": {
             "colorbar": {
              "outlinewidth": 0,
              "ticks": ""
             }
            },
            "type": "scatterternary"
           }
          ],
          "surface": [
           {
            "colorbar": {
             "outlinewidth": 0,
             "ticks": ""
            },
            "colorscale": [
             [
              0,
              "#0d0887"
             ],
             [
              0.1111111111111111,
              "#46039f"
             ],
             [
              0.2222222222222222,
              "#7201a8"
             ],
             [
              0.3333333333333333,
              "#9c179e"
             ],
             [
              0.4444444444444444,
              "#bd3786"
             ],
             [
              0.5555555555555556,
              "#d8576b"
             ],
             [
              0.6666666666666666,
              "#ed7953"
             ],
             [
              0.7777777777777778,
              "#fb9f3a"
             ],
             [
              0.8888888888888888,
              "#fdca26"
             ],
             [
              1,
              "#f0f921"
             ]
            ],
            "type": "surface"
           }
          ],
          "table": [
           {
            "cells": {
             "fill": {
              "color": "#EBF0F8"
             },
             "line": {
              "color": "white"
             }
            },
            "header": {
             "fill": {
              "color": "#C8D4E3"
             },
             "line": {
              "color": "white"
             }
            },
            "type": "table"
           }
          ]
         },
         "layout": {
          "annotationdefaults": {
           "arrowcolor": "#2a3f5f",
           "arrowhead": 0,
           "arrowwidth": 1
          },
          "autotypenumbers": "strict",
          "coloraxis": {
           "colorbar": {
            "outlinewidth": 0,
            "ticks": ""
           }
          },
          "colorscale": {
           "diverging": [
            [
             0,
             "#8e0152"
            ],
            [
             0.1,
             "#c51b7d"
            ],
            [
             0.2,
             "#de77ae"
            ],
            [
             0.3,
             "#f1b6da"
            ],
            [
             0.4,
             "#fde0ef"
            ],
            [
             0.5,
             "#f7f7f7"
            ],
            [
             0.6,
             "#e6f5d0"
            ],
            [
             0.7,
             "#b8e186"
            ],
            [
             0.8,
             "#7fbc41"
            ],
            [
             0.9,
             "#4d9221"
            ],
            [
             1,
             "#276419"
            ]
           ],
           "sequential": [
            [
             0,
             "#0d0887"
            ],
            [
             0.1111111111111111,
             "#46039f"
            ],
            [
             0.2222222222222222,
             "#7201a8"
            ],
            [
             0.3333333333333333,
             "#9c179e"
            ],
            [
             0.4444444444444444,
             "#bd3786"
            ],
            [
             0.5555555555555556,
             "#d8576b"
            ],
            [
             0.6666666666666666,
             "#ed7953"
            ],
            [
             0.7777777777777778,
             "#fb9f3a"
            ],
            [
             0.8888888888888888,
             "#fdca26"
            ],
            [
             1,
             "#f0f921"
            ]
           ],
           "sequentialminus": [
            [
             0,
             "#0d0887"
            ],
            [
             0.1111111111111111,
             "#46039f"
            ],
            [
             0.2222222222222222,
             "#7201a8"
            ],
            [
             0.3333333333333333,
             "#9c179e"
            ],
            [
             0.4444444444444444,
             "#bd3786"
            ],
            [
             0.5555555555555556,
             "#d8576b"
            ],
            [
             0.6666666666666666,
             "#ed7953"
            ],
            [
             0.7777777777777778,
             "#fb9f3a"
            ],
            [
             0.8888888888888888,
             "#fdca26"
            ],
            [
             1,
             "#f0f921"
            ]
           ]
          },
          "colorway": [
           "#636efa",
           "#EF553B",
           "#00cc96",
           "#ab63fa",
           "#FFA15A",
           "#19d3f3",
           "#FF6692",
           "#B6E880",
           "#FF97FF",
           "#FECB52"
          ],
          "font": {
           "color": "#2a3f5f"
          },
          "geo": {
           "bgcolor": "white",
           "lakecolor": "white",
           "landcolor": "#E5ECF6",
           "showlakes": true,
           "showland": true,
           "subunitcolor": "white"
          },
          "hoverlabel": {
           "align": "left"
          },
          "hovermode": "closest",
          "mapbox": {
           "style": "light"
          },
          "paper_bgcolor": "white",
          "plot_bgcolor": "#E5ECF6",
          "polar": {
           "angularaxis": {
            "gridcolor": "white",
            "linecolor": "white",
            "ticks": ""
           },
           "bgcolor": "#E5ECF6",
           "radialaxis": {
            "gridcolor": "white",
            "linecolor": "white",
            "ticks": ""
           }
          },
          "scene": {
           "xaxis": {
            "backgroundcolor": "#E5ECF6",
            "gridcolor": "white",
            "gridwidth": 2,
            "linecolor": "white",
            "showbackground": true,
            "ticks": "",
            "zerolinecolor": "white"
           },
           "yaxis": {
            "backgroundcolor": "#E5ECF6",
            "gridcolor": "white",
            "gridwidth": 2,
            "linecolor": "white",
            "showbackground": true,
            "ticks": "",
            "zerolinecolor": "white"
           },
           "zaxis": {
            "backgroundcolor": "#E5ECF6",
            "gridcolor": "white",
            "gridwidth": 2,
            "linecolor": "white",
            "showbackground": true,
            "ticks": "",
            "zerolinecolor": "white"
           }
          },
          "shapedefaults": {
           "line": {
            "color": "#2a3f5f"
           }
          },
          "ternary": {
           "aaxis": {
            "gridcolor": "white",
            "linecolor": "white",
            "ticks": ""
           },
           "baxis": {
            "gridcolor": "white",
            "linecolor": "white",
            "ticks": ""
           },
           "bgcolor": "#E5ECF6",
           "caxis": {
            "gridcolor": "white",
            "linecolor": "white",
            "ticks": ""
           }
          },
          "title": {
           "x": 0.05
          },
          "xaxis": {
           "automargin": true,
           "gridcolor": "white",
           "linecolor": "white",
           "ticks": "",
           "title": {
            "standoff": 15
           },
           "zerolinecolor": "white",
           "zerolinewidth": 2
          },
          "yaxis": {
           "automargin": true,
           "gridcolor": "white",
           "linecolor": "white",
           "ticks": "",
           "title": {
            "standoff": 15
           },
           "zerolinecolor": "white",
           "zerolinewidth": 2
          }
         }
        },
        "width": 2000
       }
      }
     },
     "metadata": {},
     "output_type": "display_data"
    },
    {
     "name": "stdout",
     "output_type": "stream",
     "text": [
      "Processing dataset: Humanity's Last Exam\n",
      "Warning: Category 'Games' has no parent in parent_dict. Skipping it.\n",
      "Warning: Category 'Philosophy' has no parent in parent_dict. Skipping it.\n"
     ]
    },
    {
     "data": {
      "application/vnd.plotly.v1+json": {
       "config": {
        "plotlyServerURL": "https://plot.ly"
       },
       "data": [
        {
         "labels": [
          "High-Stakes Decision Making:",
          "Business, Finance, and Economics",
          "Math, Science, Engineering, and Technology",
          "Arts, Culture & Entertainment",
          "News, Politics, and Current Events",
          "Society & Lifestyle",
          "AOther",
          "Social Sciences & Humanities",
          "Culture",
          "History",
          "Math<br>&<br>Sciences",
          "Interpersonal<br>Relationships<br>&<br>Communication",
          "Psychology<br>Philosophy<br>&<br>Human<br>Behavior",
          "Geography",
          "Linguistics<br>&<br>Languages",
          "Literature<br>&<br>Writing",
          "Non-software<br>Engineering<br>&<br>Infrastructure",
          "Technology<br>Software<br>&<br>Computing",
          "Nature<br>&<br>Environment",
          "Health<br>&<br>Medicine",
          "Transportation",
          "Fantasy<br><br>Fiction<br><br>Fanfiction",
          "Entertainment<br>Hobbies<br>&<br>Leisure",
          "Business<br>&<br>Finances",
          "Law<br>Criminal<br>Justice<br>Law<br>Enforcement",
          "Religion<br>&<br>Spirituality",
          "Sports",
          "Art<br>&<br>Design",
          "Politics<br>&<br>Elections",
          "Housing",
          "Education",
          "Travel<br>&<br>Tourism",
          "Economics",
          "Video<br>Games",
          "Food<br>&<br>Dining",
          "Lifestyle",
          "Social<br>Issues<br>&<br>Movements",
          "Other",
          "Employment<br>&<br>Hiring"
         ],
         "parents": [
          "",
          "",
          "",
          "",
          "",
          "",
          "",
          "",
          "Arts, Culture & Entertainment",
          "Social Sciences & Humanities",
          "Math, Science, Engineering, and Technology",
          "Society & Lifestyle",
          "Social Sciences & Humanities",
          "Social Sciences & Humanities",
          "Social Sciences & Humanities",
          "Arts, Culture & Entertainment",
          "Math, Science, Engineering, and Technology",
          "Math, Science, Engineering, and Technology",
          "Math, Science, Engineering, and Technology",
          "High-Stakes Decision Making:",
          "Society & Lifestyle",
          "Arts, Culture & Entertainment",
          "Arts, Culture & Entertainment",
          "Business, Finance, and Economics",
          "High-Stakes Decision Making:",
          "Social Sciences & Humanities",
          "Society & Lifestyle",
          "Arts, Culture & Entertainment",
          "News, Politics, and Current Events",
          "High-Stakes Decision Making:",
          "Social Sciences & Humanities",
          "Society & Lifestyle",
          "Business, Finance, and Economics",
          "Arts, Culture & Entertainment",
          "Society & Lifestyle",
          "Society & Lifestyle",
          "News, Politics, and Current Events",
          "AOther",
          "High-Stakes Decision Making:"
         ],
         "textfont": {
          "size": 20
         },
         "textinfo": "label+percent entry",
         "type": "treemap",
         "values": [
          0,
          0,
          0,
          0,
          0,
          0,
          0,
          0,
          16,
          35,
          767,
          8,
          19,
          24,
          34,
          43,
          42,
          73,
          14,
          51,
          4,
          19,
          36,
          13,
          13,
          5,
          3,
          12,
          6,
          6,
          6,
          1,
          10,
          7,
          3,
          2,
          1,
          1,
          2
         ]
        }
       ],
       "layout": {
        "height": 1400,
        "template": {
         "data": {
          "bar": [
           {
            "error_x": {
             "color": "#2a3f5f"
            },
            "error_y": {
             "color": "#2a3f5f"
            },
            "marker": {
             "line": {
              "color": "#E5ECF6",
              "width": 0.5
             },
             "pattern": {
              "fillmode": "overlay",
              "size": 10,
              "solidity": 0.2
             }
            },
            "type": "bar"
           }
          ],
          "barpolar": [
           {
            "marker": {
             "line": {
              "color": "#E5ECF6",
              "width": 0.5
             },
             "pattern": {
              "fillmode": "overlay",
              "size": 10,
              "solidity": 0.2
             }
            },
            "type": "barpolar"
           }
          ],
          "carpet": [
           {
            "aaxis": {
             "endlinecolor": "#2a3f5f",
             "gridcolor": "white",
             "linecolor": "white",
             "minorgridcolor": "white",
             "startlinecolor": "#2a3f5f"
            },
            "baxis": {
             "endlinecolor": "#2a3f5f",
             "gridcolor": "white",
             "linecolor": "white",
             "minorgridcolor": "white",
             "startlinecolor": "#2a3f5f"
            },
            "type": "carpet"
           }
          ],
          "choropleth": [
           {
            "colorbar": {
             "outlinewidth": 0,
             "ticks": ""
            },
            "type": "choropleth"
           }
          ],
          "contour": [
           {
            "colorbar": {
             "outlinewidth": 0,
             "ticks": ""
            },
            "colorscale": [
             [
              0,
              "#0d0887"
             ],
             [
              0.1111111111111111,
              "#46039f"
             ],
             [
              0.2222222222222222,
              "#7201a8"
             ],
             [
              0.3333333333333333,
              "#9c179e"
             ],
             [
              0.4444444444444444,
              "#bd3786"
             ],
             [
              0.5555555555555556,
              "#d8576b"
             ],
             [
              0.6666666666666666,
              "#ed7953"
             ],
             [
              0.7777777777777778,
              "#fb9f3a"
             ],
             [
              0.8888888888888888,
              "#fdca26"
             ],
             [
              1,
              "#f0f921"
             ]
            ],
            "type": "contour"
           }
          ],
          "contourcarpet": [
           {
            "colorbar": {
             "outlinewidth": 0,
             "ticks": ""
            },
            "type": "contourcarpet"
           }
          ],
          "heatmap": [
           {
            "colorbar": {
             "outlinewidth": 0,
             "ticks": ""
            },
            "colorscale": [
             [
              0,
              "#0d0887"
             ],
             [
              0.1111111111111111,
              "#46039f"
             ],
             [
              0.2222222222222222,
              "#7201a8"
             ],
             [
              0.3333333333333333,
              "#9c179e"
             ],
             [
              0.4444444444444444,
              "#bd3786"
             ],
             [
              0.5555555555555556,
              "#d8576b"
             ],
             [
              0.6666666666666666,
              "#ed7953"
             ],
             [
              0.7777777777777778,
              "#fb9f3a"
             ],
             [
              0.8888888888888888,
              "#fdca26"
             ],
             [
              1,
              "#f0f921"
             ]
            ],
            "type": "heatmap"
           }
          ],
          "histogram": [
           {
            "marker": {
             "pattern": {
              "fillmode": "overlay",
              "size": 10,
              "solidity": 0.2
             }
            },
            "type": "histogram"
           }
          ],
          "histogram2d": [
           {
            "colorbar": {
             "outlinewidth": 0,
             "ticks": ""
            },
            "colorscale": [
             [
              0,
              "#0d0887"
             ],
             [
              0.1111111111111111,
              "#46039f"
             ],
             [
              0.2222222222222222,
              "#7201a8"
             ],
             [
              0.3333333333333333,
              "#9c179e"
             ],
             [
              0.4444444444444444,
              "#bd3786"
             ],
             [
              0.5555555555555556,
              "#d8576b"
             ],
             [
              0.6666666666666666,
              "#ed7953"
             ],
             [
              0.7777777777777778,
              "#fb9f3a"
             ],
             [
              0.8888888888888888,
              "#fdca26"
             ],
             [
              1,
              "#f0f921"
             ]
            ],
            "type": "histogram2d"
           }
          ],
          "histogram2dcontour": [
           {
            "colorbar": {
             "outlinewidth": 0,
             "ticks": ""
            },
            "colorscale": [
             [
              0,
              "#0d0887"
             ],
             [
              0.1111111111111111,
              "#46039f"
             ],
             [
              0.2222222222222222,
              "#7201a8"
             ],
             [
              0.3333333333333333,
              "#9c179e"
             ],
             [
              0.4444444444444444,
              "#bd3786"
             ],
             [
              0.5555555555555556,
              "#d8576b"
             ],
             [
              0.6666666666666666,
              "#ed7953"
             ],
             [
              0.7777777777777778,
              "#fb9f3a"
             ],
             [
              0.8888888888888888,
              "#fdca26"
             ],
             [
              1,
              "#f0f921"
             ]
            ],
            "type": "histogram2dcontour"
           }
          ],
          "mesh3d": [
           {
            "colorbar": {
             "outlinewidth": 0,
             "ticks": ""
            },
            "type": "mesh3d"
           }
          ],
          "parcoords": [
           {
            "line": {
             "colorbar": {
              "outlinewidth": 0,
              "ticks": ""
             }
            },
            "type": "parcoords"
           }
          ],
          "pie": [
           {
            "automargin": true,
            "type": "pie"
           }
          ],
          "scatter": [
           {
            "fillpattern": {
             "fillmode": "overlay",
             "size": 10,
             "solidity": 0.2
            },
            "type": "scatter"
           }
          ],
          "scatter3d": [
           {
            "line": {
             "colorbar": {
              "outlinewidth": 0,
              "ticks": ""
             }
            },
            "marker": {
             "colorbar": {
              "outlinewidth": 0,
              "ticks": ""
             }
            },
            "type": "scatter3d"
           }
          ],
          "scattercarpet": [
           {
            "marker": {
             "colorbar": {
              "outlinewidth": 0,
              "ticks": ""
             }
            },
            "type": "scattercarpet"
           }
          ],
          "scattergeo": [
           {
            "marker": {
             "colorbar": {
              "outlinewidth": 0,
              "ticks": ""
             }
            },
            "type": "scattergeo"
           }
          ],
          "scattergl": [
           {
            "marker": {
             "colorbar": {
              "outlinewidth": 0,
              "ticks": ""
             }
            },
            "type": "scattergl"
           }
          ],
          "scattermap": [
           {
            "marker": {
             "colorbar": {
              "outlinewidth": 0,
              "ticks": ""
             }
            },
            "type": "scattermap"
           }
          ],
          "scattermapbox": [
           {
            "marker": {
             "colorbar": {
              "outlinewidth": 0,
              "ticks": ""
             }
            },
            "type": "scattermapbox"
           }
          ],
          "scatterpolar": [
           {
            "marker": {
             "colorbar": {
              "outlinewidth": 0,
              "ticks": ""
             }
            },
            "type": "scatterpolar"
           }
          ],
          "scatterpolargl": [
           {
            "marker": {
             "colorbar": {
              "outlinewidth": 0,
              "ticks": ""
             }
            },
            "type": "scatterpolargl"
           }
          ],
          "scatterternary": [
           {
            "marker": {
             "colorbar": {
              "outlinewidth": 0,
              "ticks": ""
             }
            },
            "type": "scatterternary"
           }
          ],
          "surface": [
           {
            "colorbar": {
             "outlinewidth": 0,
             "ticks": ""
            },
            "colorscale": [
             [
              0,
              "#0d0887"
             ],
             [
              0.1111111111111111,
              "#46039f"
             ],
             [
              0.2222222222222222,
              "#7201a8"
             ],
             [
              0.3333333333333333,
              "#9c179e"
             ],
             [
              0.4444444444444444,
              "#bd3786"
             ],
             [
              0.5555555555555556,
              "#d8576b"
             ],
             [
              0.6666666666666666,
              "#ed7953"
             ],
             [
              0.7777777777777778,
              "#fb9f3a"
             ],
             [
              0.8888888888888888,
              "#fdca26"
             ],
             [
              1,
              "#f0f921"
             ]
            ],
            "type": "surface"
           }
          ],
          "table": [
           {
            "cells": {
             "fill": {
              "color": "#EBF0F8"
             },
             "line": {
              "color": "white"
             }
            },
            "header": {
             "fill": {
              "color": "#C8D4E3"
             },
             "line": {
              "color": "white"
             }
            },
            "type": "table"
           }
          ]
         },
         "layout": {
          "annotationdefaults": {
           "arrowcolor": "#2a3f5f",
           "arrowhead": 0,
           "arrowwidth": 1
          },
          "autotypenumbers": "strict",
          "coloraxis": {
           "colorbar": {
            "outlinewidth": 0,
            "ticks": ""
           }
          },
          "colorscale": {
           "diverging": [
            [
             0,
             "#8e0152"
            ],
            [
             0.1,
             "#c51b7d"
            ],
            [
             0.2,
             "#de77ae"
            ],
            [
             0.3,
             "#f1b6da"
            ],
            [
             0.4,
             "#fde0ef"
            ],
            [
             0.5,
             "#f7f7f7"
            ],
            [
             0.6,
             "#e6f5d0"
            ],
            [
             0.7,
             "#b8e186"
            ],
            [
             0.8,
             "#7fbc41"
            ],
            [
             0.9,
             "#4d9221"
            ],
            [
             1,
             "#276419"
            ]
           ],
           "sequential": [
            [
             0,
             "#0d0887"
            ],
            [
             0.1111111111111111,
             "#46039f"
            ],
            [
             0.2222222222222222,
             "#7201a8"
            ],
            [
             0.3333333333333333,
             "#9c179e"
            ],
            [
             0.4444444444444444,
             "#bd3786"
            ],
            [
             0.5555555555555556,
             "#d8576b"
            ],
            [
             0.6666666666666666,
             "#ed7953"
            ],
            [
             0.7777777777777778,
             "#fb9f3a"
            ],
            [
             0.8888888888888888,
             "#fdca26"
            ],
            [
             1,
             "#f0f921"
            ]
           ],
           "sequentialminus": [
            [
             0,
             "#0d0887"
            ],
            [
             0.1111111111111111,
             "#46039f"
            ],
            [
             0.2222222222222222,
             "#7201a8"
            ],
            [
             0.3333333333333333,
             "#9c179e"
            ],
            [
             0.4444444444444444,
             "#bd3786"
            ],
            [
             0.5555555555555556,
             "#d8576b"
            ],
            [
             0.6666666666666666,
             "#ed7953"
            ],
            [
             0.7777777777777778,
             "#fb9f3a"
            ],
            [
             0.8888888888888888,
             "#fdca26"
            ],
            [
             1,
             "#f0f921"
            ]
           ]
          },
          "colorway": [
           "#636efa",
           "#EF553B",
           "#00cc96",
           "#ab63fa",
           "#FFA15A",
           "#19d3f3",
           "#FF6692",
           "#B6E880",
           "#FF97FF",
           "#FECB52"
          ],
          "font": {
           "color": "#2a3f5f"
          },
          "geo": {
           "bgcolor": "white",
           "lakecolor": "white",
           "landcolor": "#E5ECF6",
           "showlakes": true,
           "showland": true,
           "subunitcolor": "white"
          },
          "hoverlabel": {
           "align": "left"
          },
          "hovermode": "closest",
          "mapbox": {
           "style": "light"
          },
          "paper_bgcolor": "white",
          "plot_bgcolor": "#E5ECF6",
          "polar": {
           "angularaxis": {
            "gridcolor": "white",
            "linecolor": "white",
            "ticks": ""
           },
           "bgcolor": "#E5ECF6",
           "radialaxis": {
            "gridcolor": "white",
            "linecolor": "white",
            "ticks": ""
           }
          },
          "scene": {
           "xaxis": {
            "backgroundcolor": "#E5ECF6",
            "gridcolor": "white",
            "gridwidth": 2,
            "linecolor": "white",
            "showbackground": true,
            "ticks": "",
            "zerolinecolor": "white"
           },
           "yaxis": {
            "backgroundcolor": "#E5ECF6",
            "gridcolor": "white",
            "gridwidth": 2,
            "linecolor": "white",
            "showbackground": true,
            "ticks": "",
            "zerolinecolor": "white"
           },
           "zaxis": {
            "backgroundcolor": "#E5ECF6",
            "gridcolor": "white",
            "gridwidth": 2,
            "linecolor": "white",
            "showbackground": true,
            "ticks": "",
            "zerolinecolor": "white"
           }
          },
          "shapedefaults": {
           "line": {
            "color": "#2a3f5f"
           }
          },
          "ternary": {
           "aaxis": {
            "gridcolor": "white",
            "linecolor": "white",
            "ticks": ""
           },
           "baxis": {
            "gridcolor": "white",
            "linecolor": "white",
            "ticks": ""
           },
           "bgcolor": "#E5ECF6",
           "caxis": {
            "gridcolor": "white",
            "linecolor": "white",
            "ticks": ""
           }
          },
          "title": {
           "x": 0.05
          },
          "xaxis": {
           "automargin": true,
           "gridcolor": "white",
           "linecolor": "white",
           "ticks": "",
           "title": {
            "standoff": 15
           },
           "zerolinecolor": "white",
           "zerolinewidth": 2
          },
          "yaxis": {
           "automargin": true,
           "gridcolor": "white",
           "linecolor": "white",
           "ticks": "",
           "title": {
            "standoff": 15
           },
           "zerolinecolor": "white",
           "zerolinewidth": 2
          }
         }
        },
        "width": 2000
       }
      }
     },
     "metadata": {},
     "output_type": "display_data"
    },
    {
     "name": "stdout",
     "output_type": "stream",
     "text": [
      "Processing dataset: MMLU\n",
      "Warning: Category 'Philosophy & Human Behavior' has no parent in parent_dict. Skipping it.\n"
     ]
    },
    {
     "data": {
      "application/vnd.plotly.v1+json": {
       "config": {
        "plotlyServerURL": "https://plot.ly"
       },
       "data": [
        {
         "labels": [
          "Adult & Sensitive Content",
          "Social Sciences & Humanities",
          "High-Stakes Decision Making:",
          "Business, Finance, and Economics",
          "Math, Science, Engineering, and Technology",
          "News, Politics, and Current Events",
          "Society & Lifestyle",
          "Arts, Culture & Entertainment",
          "Business<br>&<br>Finances",
          "Economics",
          "Math<br>&<br>Sciences",
          "Psychology<br>Philosophy<br>&<br>Human<br>Behavior",
          "Art<br>&<br>Design",
          "Law<br>Criminal<br>Justice<br>Law<br>Enforcement",
          "History",
          "Politics<br>&<br>Elections",
          "Education",
          "Housing",
          "Social<br>Issues<br>&<br>Movements",
          "Health<br>&<br>Medicine",
          "Technology<br>Software<br>&<br>Computing",
          "Sports",
          "Geography",
          "News<br>&<br>Current<br>Affairs",
          "Interpersonal<br>Relationships<br>&<br>Communication",
          "Religion<br>&<br>Spirituality",
          "Literature<br>&<br>Writing",
          "Linguistics<br>&<br>Languages",
          "Culture",
          "Employment<br>&<br>Hiring",
          "Adult<br>&<br>Illicit<br>Content",
          "Non-software<br>Engineering<br>&<br>Infrastructure",
          "Food<br>&<br>Dining",
          "Travel<br>&<br>Tourism",
          "Nature<br>&<br>Environment",
          "Fantasy<br><br>Fiction<br><br>Fanfiction",
          "Transportation",
          "Lifestyle",
          "Immigration<br><br>Migration",
          "Entertainment<br>Hobbies<br>&<br>Leisure",
          "Insurance<br>&<br>Social<br>Scoring",
          "Video<br>Games"
         ],
         "parents": [
          "",
          "",
          "",
          "",
          "",
          "",
          "",
          "",
          "Business, Finance, and Economics",
          "Business, Finance, and Economics",
          "Math, Science, Engineering, and Technology",
          "Social Sciences & Humanities",
          "Arts, Culture & Entertainment",
          "High-Stakes Decision Making:",
          "Social Sciences & Humanities",
          "News, Politics, and Current Events",
          "Social Sciences & Humanities",
          "High-Stakes Decision Making:",
          "News, Politics, and Current Events",
          "High-Stakes Decision Making:",
          "Math, Science, Engineering, and Technology",
          "Society & Lifestyle",
          "Social Sciences & Humanities",
          "News, Politics, and Current Events",
          "Society & Lifestyle",
          "Social Sciences & Humanities",
          "Arts, Culture & Entertainment",
          "Social Sciences & Humanities",
          "Arts, Culture & Entertainment",
          "High-Stakes Decision Making:",
          "Adult & Sensitive Content",
          "Math, Science, Engineering, and Technology",
          "Society & Lifestyle",
          "Society & Lifestyle",
          "Math, Science, Engineering, and Technology",
          "Arts, Culture & Entertainment",
          "Society & Lifestyle",
          "Society & Lifestyle",
          "High-Stakes Decision Making:",
          "Arts, Culture & Entertainment",
          "High-Stakes Decision Making:",
          "Arts, Culture & Entertainment"
         ],
         "textfont": {
          "size": 20
         },
         "textinfo": "label+percent entry",
         "type": "treemap",
         "values": [
          0,
          0,
          0,
          0,
          0,
          0,
          0,
          0,
          76,
          109,
          270,
          174,
          7,
          187,
          78,
          79,
          109,
          16,
          67,
          126,
          31,
          10,
          43,
          16,
          81,
          33,
          14,
          17,
          35,
          16,
          21,
          10,
          10,
          2,
          20,
          3,
          5,
          8,
          7,
          11,
          3,
          2
         ]
        }
       ],
       "layout": {
        "height": 1400,
        "template": {
         "data": {
          "bar": [
           {
            "error_x": {
             "color": "#2a3f5f"
            },
            "error_y": {
             "color": "#2a3f5f"
            },
            "marker": {
             "line": {
              "color": "#E5ECF6",
              "width": 0.5
             },
             "pattern": {
              "fillmode": "overlay",
              "size": 10,
              "solidity": 0.2
             }
            },
            "type": "bar"
           }
          ],
          "barpolar": [
           {
            "marker": {
             "line": {
              "color": "#E5ECF6",
              "width": 0.5
             },
             "pattern": {
              "fillmode": "overlay",
              "size": 10,
              "solidity": 0.2
             }
            },
            "type": "barpolar"
           }
          ],
          "carpet": [
           {
            "aaxis": {
             "endlinecolor": "#2a3f5f",
             "gridcolor": "white",
             "linecolor": "white",
             "minorgridcolor": "white",
             "startlinecolor": "#2a3f5f"
            },
            "baxis": {
             "endlinecolor": "#2a3f5f",
             "gridcolor": "white",
             "linecolor": "white",
             "minorgridcolor": "white",
             "startlinecolor": "#2a3f5f"
            },
            "type": "carpet"
           }
          ],
          "choropleth": [
           {
            "colorbar": {
             "outlinewidth": 0,
             "ticks": ""
            },
            "type": "choropleth"
           }
          ],
          "contour": [
           {
            "colorbar": {
             "outlinewidth": 0,
             "ticks": ""
            },
            "colorscale": [
             [
              0,
              "#0d0887"
             ],
             [
              0.1111111111111111,
              "#46039f"
             ],
             [
              0.2222222222222222,
              "#7201a8"
             ],
             [
              0.3333333333333333,
              "#9c179e"
             ],
             [
              0.4444444444444444,
              "#bd3786"
             ],
             [
              0.5555555555555556,
              "#d8576b"
             ],
             [
              0.6666666666666666,
              "#ed7953"
             ],
             [
              0.7777777777777778,
              "#fb9f3a"
             ],
             [
              0.8888888888888888,
              "#fdca26"
             ],
             [
              1,
              "#f0f921"
             ]
            ],
            "type": "contour"
           }
          ],
          "contourcarpet": [
           {
            "colorbar": {
             "outlinewidth": 0,
             "ticks": ""
            },
            "type": "contourcarpet"
           }
          ],
          "heatmap": [
           {
            "colorbar": {
             "outlinewidth": 0,
             "ticks": ""
            },
            "colorscale": [
             [
              0,
              "#0d0887"
             ],
             [
              0.1111111111111111,
              "#46039f"
             ],
             [
              0.2222222222222222,
              "#7201a8"
             ],
             [
              0.3333333333333333,
              "#9c179e"
             ],
             [
              0.4444444444444444,
              "#bd3786"
             ],
             [
              0.5555555555555556,
              "#d8576b"
             ],
             [
              0.6666666666666666,
              "#ed7953"
             ],
             [
              0.7777777777777778,
              "#fb9f3a"
             ],
             [
              0.8888888888888888,
              "#fdca26"
             ],
             [
              1,
              "#f0f921"
             ]
            ],
            "type": "heatmap"
           }
          ],
          "histogram": [
           {
            "marker": {
             "pattern": {
              "fillmode": "overlay",
              "size": 10,
              "solidity": 0.2
             }
            },
            "type": "histogram"
           }
          ],
          "histogram2d": [
           {
            "colorbar": {
             "outlinewidth": 0,
             "ticks": ""
            },
            "colorscale": [
             [
              0,
              "#0d0887"
             ],
             [
              0.1111111111111111,
              "#46039f"
             ],
             [
              0.2222222222222222,
              "#7201a8"
             ],
             [
              0.3333333333333333,
              "#9c179e"
             ],
             [
              0.4444444444444444,
              "#bd3786"
             ],
             [
              0.5555555555555556,
              "#d8576b"
             ],
             [
              0.6666666666666666,
              "#ed7953"
             ],
             [
              0.7777777777777778,
              "#fb9f3a"
             ],
             [
              0.8888888888888888,
              "#fdca26"
             ],
             [
              1,
              "#f0f921"
             ]
            ],
            "type": "histogram2d"
           }
          ],
          "histogram2dcontour": [
           {
            "colorbar": {
             "outlinewidth": 0,
             "ticks": ""
            },
            "colorscale": [
             [
              0,
              "#0d0887"
             ],
             [
              0.1111111111111111,
              "#46039f"
             ],
             [
              0.2222222222222222,
              "#7201a8"
             ],
             [
              0.3333333333333333,
              "#9c179e"
             ],
             [
              0.4444444444444444,
              "#bd3786"
             ],
             [
              0.5555555555555556,
              "#d8576b"
             ],
             [
              0.6666666666666666,
              "#ed7953"
             ],
             [
              0.7777777777777778,
              "#fb9f3a"
             ],
             [
              0.8888888888888888,
              "#fdca26"
             ],
             [
              1,
              "#f0f921"
             ]
            ],
            "type": "histogram2dcontour"
           }
          ],
          "mesh3d": [
           {
            "colorbar": {
             "outlinewidth": 0,
             "ticks": ""
            },
            "type": "mesh3d"
           }
          ],
          "parcoords": [
           {
            "line": {
             "colorbar": {
              "outlinewidth": 0,
              "ticks": ""
             }
            },
            "type": "parcoords"
           }
          ],
          "pie": [
           {
            "automargin": true,
            "type": "pie"
           }
          ],
          "scatter": [
           {
            "fillpattern": {
             "fillmode": "overlay",
             "size": 10,
             "solidity": 0.2
            },
            "type": "scatter"
           }
          ],
          "scatter3d": [
           {
            "line": {
             "colorbar": {
              "outlinewidth": 0,
              "ticks": ""
             }
            },
            "marker": {
             "colorbar": {
              "outlinewidth": 0,
              "ticks": ""
             }
            },
            "type": "scatter3d"
           }
          ],
          "scattercarpet": [
           {
            "marker": {
             "colorbar": {
              "outlinewidth": 0,
              "ticks": ""
             }
            },
            "type": "scattercarpet"
           }
          ],
          "scattergeo": [
           {
            "marker": {
             "colorbar": {
              "outlinewidth": 0,
              "ticks": ""
             }
            },
            "type": "scattergeo"
           }
          ],
          "scattergl": [
           {
            "marker": {
             "colorbar": {
              "outlinewidth": 0,
              "ticks": ""
             }
            },
            "type": "scattergl"
           }
          ],
          "scattermap": [
           {
            "marker": {
             "colorbar": {
              "outlinewidth": 0,
              "ticks": ""
             }
            },
            "type": "scattermap"
           }
          ],
          "scattermapbox": [
           {
            "marker": {
             "colorbar": {
              "outlinewidth": 0,
              "ticks": ""
             }
            },
            "type": "scattermapbox"
           }
          ],
          "scatterpolar": [
           {
            "marker": {
             "colorbar": {
              "outlinewidth": 0,
              "ticks": ""
             }
            },
            "type": "scatterpolar"
           }
          ],
          "scatterpolargl": [
           {
            "marker": {
             "colorbar": {
              "outlinewidth": 0,
              "ticks": ""
             }
            },
            "type": "scatterpolargl"
           }
          ],
          "scatterternary": [
           {
            "marker": {
             "colorbar": {
              "outlinewidth": 0,
              "ticks": ""
             }
            },
            "type": "scatterternary"
           }
          ],
          "surface": [
           {
            "colorbar": {
             "outlinewidth": 0,
             "ticks": ""
            },
            "colorscale": [
             [
              0,
              "#0d0887"
             ],
             [
              0.1111111111111111,
              "#46039f"
             ],
             [
              0.2222222222222222,
              "#7201a8"
             ],
             [
              0.3333333333333333,
              "#9c179e"
             ],
             [
              0.4444444444444444,
              "#bd3786"
             ],
             [
              0.5555555555555556,
              "#d8576b"
             ],
             [
              0.6666666666666666,
              "#ed7953"
             ],
             [
              0.7777777777777778,
              "#fb9f3a"
             ],
             [
              0.8888888888888888,
              "#fdca26"
             ],
             [
              1,
              "#f0f921"
             ]
            ],
            "type": "surface"
           }
          ],
          "table": [
           {
            "cells": {
             "fill": {
              "color": "#EBF0F8"
             },
             "line": {
              "color": "white"
             }
            },
            "header": {
             "fill": {
              "color": "#C8D4E3"
             },
             "line": {
              "color": "white"
             }
            },
            "type": "table"
           }
          ]
         },
         "layout": {
          "annotationdefaults": {
           "arrowcolor": "#2a3f5f",
           "arrowhead": 0,
           "arrowwidth": 1
          },
          "autotypenumbers": "strict",
          "coloraxis": {
           "colorbar": {
            "outlinewidth": 0,
            "ticks": ""
           }
          },
          "colorscale": {
           "diverging": [
            [
             0,
             "#8e0152"
            ],
            [
             0.1,
             "#c51b7d"
            ],
            [
             0.2,
             "#de77ae"
            ],
            [
             0.3,
             "#f1b6da"
            ],
            [
             0.4,
             "#fde0ef"
            ],
            [
             0.5,
             "#f7f7f7"
            ],
            [
             0.6,
             "#e6f5d0"
            ],
            [
             0.7,
             "#b8e186"
            ],
            [
             0.8,
             "#7fbc41"
            ],
            [
             0.9,
             "#4d9221"
            ],
            [
             1,
             "#276419"
            ]
           ],
           "sequential": [
            [
             0,
             "#0d0887"
            ],
            [
             0.1111111111111111,
             "#46039f"
            ],
            [
             0.2222222222222222,
             "#7201a8"
            ],
            [
             0.3333333333333333,
             "#9c179e"
            ],
            [
             0.4444444444444444,
             "#bd3786"
            ],
            [
             0.5555555555555556,
             "#d8576b"
            ],
            [
             0.6666666666666666,
             "#ed7953"
            ],
            [
             0.7777777777777778,
             "#fb9f3a"
            ],
            [
             0.8888888888888888,
             "#fdca26"
            ],
            [
             1,
             "#f0f921"
            ]
           ],
           "sequentialminus": [
            [
             0,
             "#0d0887"
            ],
            [
             0.1111111111111111,
             "#46039f"
            ],
            [
             0.2222222222222222,
             "#7201a8"
            ],
            [
             0.3333333333333333,
             "#9c179e"
            ],
            [
             0.4444444444444444,
             "#bd3786"
            ],
            [
             0.5555555555555556,
             "#d8576b"
            ],
            [
             0.6666666666666666,
             "#ed7953"
            ],
            [
             0.7777777777777778,
             "#fb9f3a"
            ],
            [
             0.8888888888888888,
             "#fdca26"
            ],
            [
             1,
             "#f0f921"
            ]
           ]
          },
          "colorway": [
           "#636efa",
           "#EF553B",
           "#00cc96",
           "#ab63fa",
           "#FFA15A",
           "#19d3f3",
           "#FF6692",
           "#B6E880",
           "#FF97FF",
           "#FECB52"
          ],
          "font": {
           "color": "#2a3f5f"
          },
          "geo": {
           "bgcolor": "white",
           "lakecolor": "white",
           "landcolor": "#E5ECF6",
           "showlakes": true,
           "showland": true,
           "subunitcolor": "white"
          },
          "hoverlabel": {
           "align": "left"
          },
          "hovermode": "closest",
          "mapbox": {
           "style": "light"
          },
          "paper_bgcolor": "white",
          "plot_bgcolor": "#E5ECF6",
          "polar": {
           "angularaxis": {
            "gridcolor": "white",
            "linecolor": "white",
            "ticks": ""
           },
           "bgcolor": "#E5ECF6",
           "radialaxis": {
            "gridcolor": "white",
            "linecolor": "white",
            "ticks": ""
           }
          },
          "scene": {
           "xaxis": {
            "backgroundcolor": "#E5ECF6",
            "gridcolor": "white",
            "gridwidth": 2,
            "linecolor": "white",
            "showbackground": true,
            "ticks": "",
            "zerolinecolor": "white"
           },
           "yaxis": {
            "backgroundcolor": "#E5ECF6",
            "gridcolor": "white",
            "gridwidth": 2,
            "linecolor": "white",
            "showbackground": true,
            "ticks": "",
            "zerolinecolor": "white"
           },
           "zaxis": {
            "backgroundcolor": "#E5ECF6",
            "gridcolor": "white",
            "gridwidth": 2,
            "linecolor": "white",
            "showbackground": true,
            "ticks": "",
            "zerolinecolor": "white"
           }
          },
          "shapedefaults": {
           "line": {
            "color": "#2a3f5f"
           }
          },
          "ternary": {
           "aaxis": {
            "gridcolor": "white",
            "linecolor": "white",
            "ticks": ""
           },
           "baxis": {
            "gridcolor": "white",
            "linecolor": "white",
            "ticks": ""
           },
           "bgcolor": "#E5ECF6",
           "caxis": {
            "gridcolor": "white",
            "linecolor": "white",
            "ticks": ""
           }
          },
          "title": {
           "x": 0.05
          },
          "xaxis": {
           "automargin": true,
           "gridcolor": "white",
           "linecolor": "white",
           "ticks": "",
           "title": {
            "standoff": 15
           },
           "zerolinecolor": "white",
           "zerolinewidth": 2
          },
          "yaxis": {
           "automargin": true,
           "gridcolor": "white",
           "linecolor": "white",
           "ticks": "",
           "title": {
            "standoff": 15
           },
           "zerolinecolor": "white",
           "zerolinewidth": 2
          }
         }
        },
        "width": 2000
       }
      }
     },
     "metadata": {},
     "output_type": "display_data"
    }
   ],
   "source": [
    "import plotly.graph_objects as go\n",
    "#import plotly.io as pio\n",
    "#pio.renderers.default = \"notebook\" \n",
    "\n",
    "def plot_category_tree_plotly(category_counts, title, parent_dict):\n",
    "    labels = []\n",
    "    parents = []\n",
    "    values = []\n",
    "    # Replace commas in child labels with <br> for better display in Plotly\n",
    "    def format_label(label):\n",
    "        label = label.replace(',', '')\n",
    "        label = label.replace('/', '')\n",
    "        return label.replace(' ', '<br>')#.replace('&', '<br>&')\n",
    "\n",
    "    # Prepare formatted parent_dict for label mapping (only format children)\n",
    "    formatted_parent_dict = {parent: [format_label(child) for child in children] for parent, children in parent_dict.items()}\n",
    "\n",
    "    # Use formatted labels for all further processing\n",
    "    labels = []\n",
    "    parents = []\n",
    "    values = []\n",
    "\n",
    "    # Build a reverse mapping from subcategory to parent (with formatted child labels)\n",
    "    child_to_parent = {}\n",
    "    for parent, children in formatted_parent_dict.items():\n",
    "        for child in children:\n",
    "            child_to_parent[child] = parent\n",
    "\n",
    "    # Find which parents have at least one child in category_counts\n",
    "    parents_with_children = set()\n",
    "    for cat in category_counts:\n",
    "        formatted_cat = format_label(cat)\n",
    "        parent = child_to_parent.get(formatted_cat)\n",
    "        if parent is not None:\n",
    "            parents_with_children.add(parent)\n",
    "\n",
    "    # Add only those parent nodes\n",
    "    for parent in parents_with_children:\n",
    "        labels.append(parent)\n",
    "        parents.append('')\n",
    "        values.append(0)\n",
    "\n",
    "    # Add all categories in category_counts (children)\n",
    "    for cat, count in category_counts.items():\n",
    "        formatted_cat = format_label(cat)\n",
    "        parent = child_to_parent.get(formatted_cat)\n",
    "        if parent is not None:\n",
    "            labels.append(formatted_cat)\n",
    "            parents.append(parent)\n",
    "            values.append(count)\n",
    "        else:\n",
    "            print(f\"Warning: Category '{cat}' has no parent in parent_dict. Skipping it.\")\n",
    "        # else:\n",
    "        #     print(f\"Warning: Category '{cat}' has no parent in parent_dict. Skipping it.\")\n",
    "\n",
    "    # print(\"Labels:\", labels)\n",
    "    # print(\"Parents:\", parents)\n",
    "    # print(\"Values:\", values)\n",
    "    fig = go.Figure(go.Treemap(\n",
    "        labels=labels,\n",
    "        parents=parents,\n",
    "        values=values,\n",
    "        textinfo=\"label+percent entry\",\n",
    "    ))\n",
    "    fig.update_traces(textfont_size=20)\n",
    "    #fig.update_traces(textfont=dict(size=18, minsize=14))\n",
    "    fig.update_layout(width=2000, height=1400)\n",
    "  \n",
    "    #fig.update_layout(title=title, margin=dict(t=50, l=25, r=25, b=25))\n",
    "    return values, parents, labels, fig\n",
    "\n",
    "\n",
    "parent_dict = {\n",
    "    \"Math, Science, Engineering, and Technology\": [\n",
    "        \"Math & Sciences\",\n",
    "        \"Technology, Software & Computing\",\n",
    "        \"Non-software Engineering & Infrastructure\",\n",
    "         \"Nature & Environment\", \n",
    "    ],\n",
    "    \"Business, Finance, and Economics\": [\n",
    "        \"Economics\",\n",
    "        \"Business & Finances\",\n",
    "    ], \n",
    "    \"Arts, Culture & Entertainment\": [\n",
    "        \"Art & Design\",\n",
    "        \"Culture\",\n",
    "        \"Entertainment, Hobbies & Leisure\",\n",
    "        \"Fantasy / Fiction / Fanfiction\",\n",
    "        \"Literature & Writing\",\n",
    "        \"Video Games\",\n",
    "        \"Fashion & Beauty\"\n",
    "    ],\n",
    "    \"Society & Lifestyle\": [\n",
    "        \"Food & Dining\",\n",
    "        \"Travel & Tourism\",\n",
    "        \"Lifestyle\",\n",
    "        \"Sports\",\n",
    "        \"Interpersonal Relationships & Communication\",\n",
    "        \"Transportation\"\n",
    "    ],\n",
    "    \"Social Sciences & Humanities\": [\n",
    "        \"History\",\n",
    "        \"Linguistics & Languages\",\n",
    "        \"Psychology, Philosophy & Human Behavior\",\n",
    "        \"Religion & Spirituality\",   \n",
    "        \"Geography\", \n",
    "        \"Education\"\n",
    "    ],\n",
    "    \"News, Politics, and Current Events\": [\n",
    "        \"Politics & Elections\",\n",
    "        \"Social Issues & Movements\",\n",
    "        \"News & Current Affairs\",\n",
    "    ],\n",
    "    \"High-Stakes Decision Making:\": [\n",
    "        \"Employment & Hiring\",\n",
    "        \"Insurance & Social Scoring\",\n",
    "        \"Law, Criminal Justice, Law Enforcement\",\n",
    "        \"Housing\", \n",
    "        \"Immigration / Migration\", \n",
    "        \"Health & Medicine\"\n",
    "        ],\n",
    "    \"Adult & Sensitive Content\": [\n",
    "        \"Adult & Illicit Content\",         \n",
    "    ],\n",
    "    \"AOther\": [\"Other\", \n",
    "              \"None\"]\n",
    "}\n",
    "\n",
    "annotation_pairs1 = wildchat_dataset.get_annotation_distribution(\n",
    "    \"turn_topic\",\n",
    "    level=\"message\",\n",
    "    annotation_source=\"automatic_v0\",\n",
    "    annotation_as_list_type=True,\n",
    ")\n",
    "annotation_pairs2 = hle_dataset.get_annotation_distribution(\n",
    "    \"turn_topic\",\n",
    "    level=\"message\",\n",
    "    annotation_source=\"automatic_v0\",\n",
    "    annotation_as_list_type=True,\n",
    ")\n",
    "annotation_pairs3 = mmlu_dataset.get_annotation_distribution(\n",
    "    \"turn_topic\",\n",
    "    level=\"message\",\n",
    "    annotation_source=\"automatic_v0\",\n",
    "    annotation_as_list_type=True,\n",
    ")\n",
    "\n",
    "datasets = {\n",
    "    \"WildChat\": annotation_pairs1,\n",
    "    \"Humanity's Last Exam\": annotation_pairs2,\n",
    "    \"MMLU\": annotation_pairs3\n",
    "}\n",
    "\n",
    "\n",
    "for dataset_name, annotation_pairs in datasets.items():\n",
    "    print(f\"Processing dataset: {dataset_name}\")\n",
    "    agg_wc = aggregate_counts_by_category(annotation_pairs)\n",
    "    values, parents, labels, fig = plot_category_tree_plotly(agg_wc, title=f\"{dataset_name} Category Tree (Plotly)\", parent_dict=parent_dict)\n",
    "    fig.show()\n",
    "    fig.write_image(f\"../plots/{dataset_name.lower()}_category_tree_plotly.pdf\", scale=2)\n",
    "\n"
   ]
  },
  {
   "cell_type": "markdown",
   "id": "6a6805f0",
   "metadata": {},
   "source": [
    "### Alternative Plots (Didn't Find Helpful But Shown for Completeness)"
   ]
  },
  {
   "cell_type": "code",
   "execution_count": 33,
   "id": "12abb5a6",
   "metadata": {},
   "outputs": [
    {
     "name": "stdout",
     "output_type": "stream",
     "text": [
      "Processing source: WildChat\n",
      "Processing source: Humanity's Last Exam\n"
     ]
    },
    {
     "data": {
      "image/png": "[encoded data removed]",
      "text/plain": [
       "<Figure size 1000x600 with 1 Axes>"
      ]
     },
     "metadata": {},
     "output_type": "display_data"
    }
   ],
   "source": [
    "import pandas as pd \n",
    "import typing\n",
    "import seaborn as sns \n",
    "\n",
    "xlabel = \"\"\n",
    "ylabel = \"\"\n",
    "title = \"\"\n",
    "figsize =  (10, 6)\n",
    "output_path= None,\n",
    "order = \"descending\",\n",
    "max_labels = 20\n",
    "wildchat_dataset.data = wildchat_dataset.random_sample(1000)\n",
    "annotation_pairs1 = wildchat_dataset.get_annotation_distribution(\n",
    "    \"turn_topic\",\n",
    "    level=\"message\",\n",
    "    annotation_source=\"automatic_v0\",\n",
    "    annotation_as_list_type=True,\n",
    ")\n",
    "annotation_pairs2 = hle_dataset.get_annotation_distribution(\n",
    "    \"turn_topic\",\n",
    "    level=\"message\",\n",
    "    annotation_source=\"automatic_v0\",\n",
    "    annotation_as_list_type=True,\n",
    ")\n",
    "\n",
    "normalize = False\n",
    "data =  {\"WildChat\": annotation_pairs1, \"Humanity's Last Exam\": annotation_pairs2}\n",
    "order = \"ascending\"\n",
    "\n",
    "\n",
    "all_topics = []\n",
    "all_counts = []\n",
    "names = []\n",
    "for source, distribution in data.items():\n",
    "    print(f\"Processing source: {source}\")\n",
    "    topics = list(distribution.keys())\n",
    "    counts = list(distribution.values())\n",
    "    all_topics.append(topics)\n",
    "    all_counts.append(counts)\n",
    "    names.append(source)\n",
    "\n",
    "\n",
    "title = \"Topic Distribution\"\n",
    "# Flatten the data from all_topics and all_counts\n",
    "flattened_data = []\n",
    "for i, source in enumerate(names):\n",
    "    for topic, count in zip(all_topics[i], all_counts[i]):\n",
    "        flattened_data.append({'Topic': topic, 'Count': count, 'Name': source})\n",
    "\n",
    "# Create the DataFrame\n",
    "df_topics = pd.DataFrame(flattened_data)\n",
    "\n",
    "# Filter for the top 20 topics by count\n",
    "df_topics = df_topics.sort_values(by='Count', ascending=False).head(20)\n",
    "\n",
    "fig, ax = plt.subplots(figsize=figsize, layout='constrained')\n",
    "sns.barplot(x='Topic', y='Count', hue='Name', data=df_topics, ax=ax)\n",
    "ax.set_xlabel(xlabel)\n",
    "ax.set_ylabel(ylabel)\n",
    "ax.set_title(title)\n",
    "ax.tick_params(axis='x', rotation=90)\n",
    "\n",
    "# Limit the number of x-axis labels if needed\n",
    "if len(ax.get_xticklabels()) > max_labels:\n",
    "    # Keep only max_labels number of labels\n",
    "    n_labels = len(ax.get_xticklabels())\n",
    "    keep_indices = np.linspace(0, n_labels-1, max_labels, dtype=int)\n",
    "    labels = [item.get_text() for item in ax.get_xticklabels()]\n",
    "    ax.set_xticks([i for i in keep_indices])\n",
    "    ax.set_xticklabels([labels[i] for i in keep_indices])\n",
    "plt.show()"
   ]
  },
  {
   "cell_type": "code",
   "execution_count": null,
   "id": "257c0cb3",
   "metadata": {},
   "outputs": [
    {
     "name": "stdout",
     "output_type": "stream",
     "text": [
      "28 unique topics\n"
     ]
    },
    {
     "data": {
      "image/png": "[encoded data removed]",
      "text/plain": [
       "<Figure size 2400x800 with 3 Axes>"
      ]
     },
     "metadata": {},
     "output_type": "display_data"
    }
   ],
   "source": [
    "\n",
    "def make_pie_chart(annotation_pairs1, annotation_pairs2, annoation_pairs_3, top_n = 20, aggregate_multilabel = True, percent_label_cut_off = 0.5):\n",
    "    # Prepare data for pie charts\n",
    "    fig, axes = plt.subplots(1, 3, figsize=(24, 8))\n",
    "    \n",
    "    # Aggregate counts for both datasets\n",
    "    if aggregate_multilabel:\n",
    "        agg_wc = aggregate_counts_by_category(annotation_pairs1)\n",
    "        agg_hle = aggregate_counts_by_category(annotation_pairs2)\n",
    "        agg_mmlu = aggregate_counts_by_category(annoation_pairs_3)\n",
    "    else: \n",
    "        agg_wc = annotation_pairs1\n",
    "        agg_hle = annotation_pairs2\n",
    "        agg_mmlu = annoation_pairs_3\n",
    "\n",
    "    # Get top N categories for each\n",
    "    top_wc = sorted(agg_wc, key=agg_wc.get, reverse=True)[:top_n]\n",
    "    top_hle = sorted(agg_hle, key=agg_hle.get, reverse=True)[:top_n]\n",
    "    top_mmlu = sorted(agg_mmlu, key=agg_mmlu.get, reverse=True)[:top_n]\n",
    "\n",
    "    # Color map for topics, ensuring all colors are unique\n",
    "    all_topics_set = list(dict.fromkeys(top_wc + top_hle + top_mmlu + ['Other']))  # preserve order, remove duplicates\n",
    "    print(len(all_topics_set), \"unique topics\")\n",
    "    palette = sns.color_palette(\"hls\", n_colors=len(all_topics_set))\n",
    "    color_map = {topic: palette[i] for i, topic in enumerate(all_topics_set)}\n",
    "    color_map['Other'] = (0.5, 0.5, 0.5)  # assign grey to 'Other'\n",
    "\n",
    "    # Define colors for the pie charts based on color_map and top topics\n",
    "    colors_wc = [color_map.get(t, color_map['Other']) for t in top_wc] + [color_map['Other']]\n",
    "    colors_hle = [color_map.get(t, color_map['Other']) for t in top_hle] + [color_map['Other']]\n",
    "    colors_mmlu = [color_map.get(t, color_map['Other']) for t in top_mmlu] + [color_map['Other']]\n",
    "    \n",
    "    # Calculate \"Other\" for WildChat and HLE\n",
    "    other_wc_count = sum([v for k, v in annotation_pairs1.items() if k not in top_wc])\n",
    "    other_wc = pd.DataFrame({'Topic': ['Other'], 'Count': [other_wc_count]})\n",
    "\n",
    "    other_hle_count = sum([v for k, v in annotation_pairs2.items() if k not in top_hle])\n",
    "    other_hle = pd.DataFrame({'Topic': ['Other'], 'Count': [other_hle_count]})\n",
    "\n",
    "    other_mmlu_count = sum([v for k, v in annoation_pairs_3.items() if k not in top_mmlu])\n",
    "    other_mmlu = pd.DataFrame({'Topic': ['Other'], 'Count': [other_mmlu_count]})\n",
    "    \n",
    "    df_wc = pd.DataFrame({\n",
    "        'Topic': top_wc + ['Other'],\n",
    "        'Count': [agg_wc[t] for t in top_wc] + [other_wc['Count'].iloc[0]]\n",
    "    })\n",
    "\n",
    "    df_hle = pd.DataFrame({\n",
    "        'Topic': top_hle + ['Other'],\n",
    "        'Count': [agg_hle[t] for t in top_hle] + [other_hle['Count'].iloc[0]]\n",
    "    })\n",
    "\n",
    "    df_mmlu = pd.DataFrame({\n",
    "        'Topic': top_mmlu + ['Other'],\n",
    "        'Count': [agg_mmlu[t] for t in top_mmlu] + [other_mmlu['Count'].iloc[0]]\n",
    "    })\n",
    "\n",
    "    # Pie chart for WildChat\n",
    "    wedges_wc, texts_wc, autotexts_wc = axes[0].pie(\n",
    "        df_wc['Count'],\n",
    "        labels=None,\n",
    "        autopct=lambda pct: f'{pct:.1f}%' if pct > percent_label_cut_off  else '',\n",
    "        startangle=140,\n",
    "        colors=colors_wc[:len(df_wc)],\n",
    "        pctdistance=1.13,\n",
    "        labeldistance=1.25\n",
    "    )\n",
    "    axes[0].set_title('WildChat')\n",
    "\n",
    "    # Set percent label color to match wedge color for WildChat\n",
    "    for autotext, wedge in zip(autotexts_wc, wedges_wc):\n",
    "        autotext.set_color(wedge.get_facecolor())\n",
    "\n",
    "    # Pie chart for Humanity's Last Exam\n",
    "    wedges_hle, texts_hle, autotexts_hle = axes[1].pie(\n",
    "        df_hle['Count'],\n",
    "        labels=None,\n",
    "        autopct=lambda pct: f'{pct:.1f}%' if pct > percent_label_cut_off  else '',\n",
    "        startangle=140,\n",
    "        colors=colors_hle[:len(df_hle)],\n",
    "        pctdistance=1.13,\n",
    "        labeldistance=1.25\n",
    "    )\n",
    "    axes[1].set_title(\"HLE\")\n",
    "\n",
    "    # Pie chart for MMLU (put on the right, axes[2])\n",
    "    wedges_mmlu, texts_mmlu, autotexts_mmlu = axes[2].pie(\n",
    "        df_mmlu['Count'],\n",
    "        labels=None,\n",
    "        autopct=lambda pct: f'{pct:.1f}%' if pct > percent_label_cut_off else '',\n",
    "        startangle=140,\n",
    "        colors=colors_mmlu[:len(df_mmlu)],\n",
    "        pctdistance=1.13,\n",
    "        labeldistance=1.25\n",
    "    )\n",
    "    axes[2].set_title('MMLU')\n",
    "\n",
    "    # Set percent label color to match wedge color for MMLU\n",
    "    for autotext, wedge in zip(autotexts_mmlu, wedges_mmlu):\n",
    "        autotext.set_color(wedge.get_facecolor())\n",
    "\n",
    "    # Set percent label color to match wedge color for HLE\n",
    "    for autotext, wedge in zip(autotexts_hle, wedges_hle):\n",
    "        autotext.set_color(wedge.get_facecolor())\n",
    "    \n",
    "    # Set percent label color to match wedge color for MMLU\n",
    "    for autotext, wedge in zip(autotexts_mmlu, wedges_mmlu):\n",
    "        autotext.set_color(wedge.get_facecolor())\n",
    "    \n",
    "    # Make legend\n",
    "    wc_count_map = {row['Topic']: row['Count'] for _, row in df_wc.iterrows()}\n",
    "    legend_topics = list(df_wc['Topic']) + [t for t in df_hle['Topic'] if t not in df_wc['Topic'].values]\n",
    "    legend_topics_sorted = sorted(\n",
    "        legend_topics,\n",
    "        key=lambda t: (t != 'Other', -wc_count_map.get(t, 0))\n",
    "    )\n",
    "    handles = [plt.matplotlib.patches.Patch(color=color_map.get(t, color_map['Other']), label=t) for t in legend_topics_sorted]\n",
    "    axes[2].legend(handles=handles, bbox_to_anchor=(1.05, 1), loc='upper left', borderaxespad=0.)\n",
    "  \n",
    "    plt.tight_layout()\n",
    "    plt.show()\n",
    "    \n",
    "\n",
    "wildchat_dataset.data = wildchat_dataset.random_sample(1000)\n",
    "annotation_pairs1 = wildchat_dataset.get_annotation_distribution(\n",
    "    \"turn_topic\",\n",
    "    level=\"message\",\n",
    "    annotation_source=\"automatic_v0\",\n",
    "    annotation_as_list_type=True,\n",
    ")\n",
    "annotation_pairs2 = hle_dataset.get_annotation_distribution(\n",
    "    \"turn_topic\",\n",
    "    level=\"message\",\n",
    "    annotation_source=\"automatic_v0\",\n",
    "    annotation_as_list_type=True,\n",
    ")\n",
    "annotation_pairs3 = mmlu_dataset.get_annotation_distribution(\n",
    "    \"turn_topic\",\n",
    "    level=\"message\",\n",
    "    annotation_source=\"automatic_v0\",\n",
    "    annotation_as_list_type=True,\n",
    ")\n",
    "\n",
    "#### NOTES: Multi label are aggregated, such that it counts for both categories. \n",
    "make_pie_chart(annotation_pairs1, annotation_pairs2, annotation_pairs3, top_n = 20, aggregate_multilabel=True)"
   ]
  }
 ],
 "metadata": {
  "kernelspec": {
   "display_name": "llama",
   "language": "python",
   "name": "python3"
  },
  "language_info": {
   "codemirror_mode": {
    "name": "ipython",
    "version": 3
   },
   "file_extension": ".py",
   "mimetype": "text/x-python",
   "name": "python",
   "nbconvert_exporter": "python",
   "pygments_lexer": "ipython3",
   "version": "3.12.7"
  }
 },
 "nbformat": 4,
 "nbformat_minor": 5
}
